{
 "cells": [
  {
   "cell_type": "markdown",
   "metadata": {
    "slideshow": {
     "slide_type": "slide"
    },
    "tags": []
   },
   "source": [
    "# Introduction to FRC Programming\n",
    "\n",
    "This presentation will focus on introducing aspects of FRC programming including:\n",
    "- installing/using tools/libraries\n",
    "- creating a project and adding libraries\n",
    "- the project structure \n",
    "- building the project\n",
    "- Breakdown for some important classes"
   ]
  },
  {
   "cell_type": "markdown",
   "metadata": {
    "slideshow": {
     "slide_type": "fragment"
    },
    "tags": []
   },
   "source": [
    "### Download Links\n",
    "- [Java Development Kit](https://adoptium.net/temurin/releases/?version=17)\n",
    "- [WPILib](https://docs.wpilib.org/en/stable/docs/zero-to-robot/step-2/wpilib-setup.html)\n",
    "- [Git](https://github.com/git-guides/install-git)"
   ]
  },
  {
   "cell_type": "markdown",
   "metadata": {
    "slideshow": {
     "slide_type": "slide"
    },
    "tags": []
   },
   "source": [
    "## Installing Tools\n",
    "### WPILib\n",
    "- download from github release (on WPILib guide)\n",
    "- open installer using correct method (on WPILib guide)\n",
    "- run (double click) `WPILibInstaller` program\n",
    "- select `Everything` for the Install mode, and depending on how many people use your computer, you choose either option for which user to download to\n",
    "- for VSCode, you can click `Download for this computer only`\n",
    "\n",
    "after installation is finished, you should see a folder, and two files: \n",
    "\n",
    "![results](https://i.imgur.com/BPVzOJE.png)"
   ]
  },
  {
   "cell_type": "markdown",
   "metadata": {
    "slideshow": {
     "slide_type": "subslide"
    },
    "tags": []
   },
   "source": [
    "### Git\n",
    "\n",
    "1. check if git is already installed by putting `git --version` in a terminal (command prompt)\n",
    "2. if you get a response `git version ...`, it should already be installed, skip this portion\n",
    "3. run the downloaded installer and follow instructions (just hitting `next` probably also works)\n",
    "4. close and reopen the terminal and check again with `git --version`"
   ]
  },
  {
   "cell_type": "markdown",
   "metadata": {
    "slideshow": {
     "slide_type": "slide"
    },
    "tags": []
   },
   "source": [
    "## Creating a Project"
   ]
  },
  {
   "cell_type": "markdown",
   "metadata": {},
   "source": [
    "To create a project, first open up the `(YEAR) WPILib VS Code` file, look for and click on the red hexagon with the W on the top right side of the window\n",
    "\n",
    "![](https://i.imgur.com/3isqJ8U.png)"
   ]
  },
  {
   "cell_type": "markdown",
   "metadata": {
    "slideshow": {
     "slide_type": "subslide"
    },
    "tags": []
   },
   "source": [
    "Once clicked, it will open up the command panel, which will allow you to perform some action relating to WPILib, such as deploying/building robot code, manage vendor libaries, or create a new project. \n",
    "\n",
    "We'll come back to the first two later, but for now, click on `create a new project`\n",
    "\n",
    "![](https://i.imgur.com/6OB3duI.png)"
   ]
  },
  {
   "cell_type": "markdown",
   "metadata": {
    "slideshow": {
     "slide_type": "subslide"
    },
    "tags": []
   },
   "source": [
    "Once you click that, it should prompt you with this screen, the `WPILib New Project Creator`\n",
    "\n",
    "![](https://i.imgur.com/i2R7mGH.png)"
   ]
  },
  {
   "cell_type": "markdown",
   "metadata": {
    "slideshow": {
     "slide_type": "subslide"
    },
    "tags": []
   },
   "source": [
    "1. click `Select a project type > template > java > Command Robot`. This will create a simple project that we can use for demonstration \n",
    "2. for `Base Folder` select where you want to store the project, if you're lazy you can put it in `Desktop`\n",
    "3. for `Project Name` give it some name like `MyDemoRobot`\n",
    "4. for `Team Number` put our team's number (1306)\n",
    "\n",
    "After that's done, it should ask you whether you want to open it, select `Yes (Current Window)`\n",
    "\n",
    "![](https://i.imgur.com/skv6zE8.png)"
   ]
  },
  {
   "cell_type": "markdown",
   "metadata": {
    "slideshow": {
     "slide_type": "slide"
    },
    "tags": []
   },
   "source": [
    "## Project Structure\n",
    "\n",
    "after opening the window, you should see quite a few files and folders on the left hand side in the explorer. We, as the users don't need to mess with most of these (the top 5 folders, and the bottom 2 files). The rest have some significance to us.\n",
    "\n",
    "![](https://i.imgur.com/5FOUwXk.png)"
   ]
  },
  {
   "cell_type": "markdown",
   "metadata": {
    "slideshow": {
     "slide_type": "subslide"
    },
    "tags": []
   },
   "source": [
    "### The Code\n",
    "\n",
    "the code for the Robot is located in the `src` (<span style=\"text-decoration: underline\">s</span>ou<span style=\"text-decoration: underline\">rc</span>e) folder, with the bulk of the code being located in `src\\main\\java\\frc\\robot` folder.\n",
    "\n",
    "```\n",
    "📦src\n",
    " ┗ 📂main\n",
    "   ┗ 📂java\n",
    " ┗ 📂test\n",
    "   ┗ 📂java\n",
    "```\n",
    "\n",
    "We'll see why it's located in `\\frc\\robot` when we look at the code itself\n",
    "\n",
    "If we were writting tests for the robot, instead of going inside `src\\main\\java`, they would go inside `src\\test\\java`\n",
    "\n"
   ]
  },
  {
   "cell_type": "markdown",
   "metadata": {
    "slideshow": {
     "slide_type": "subslide"
    },
    "tags": []
   },
   "source": [
    "### Third Party Libraries\n",
    "\n",
    "The `vendordeps`, or \"<span style=\"text-decoration: underline\">Vendor</span> <span style=\"text-decoration: underline\">Dep</span>endencie<span style=\"text-decoration: underline\">s</span>\" folder contains all the 3rd party libraries that we'd need for our project. you should see that there is already a file there called `WPILibNewCommands`, which means we can already use the base `WPILib` features in our robot code."
   ]
  },
  {
   "cell_type": "markdown",
   "metadata": {},
   "source": [
    "But often, we need additional features not provided by WPILib alone. "
   ]
  },
  {
   "cell_type": "markdown",
   "metadata": {
    "slideshow": {
     "slide_type": "subslide"
    },
    "tags": []
   },
   "source": [
    "To do this, click on the \"W\" logo on the top left of the screen again, and this time type `Manage Vendor Libraries`. After clicking the command, it should give you this prompt:\n",
    "\n",
    "![](https://i.imgur.com/U4W3dHq.png)"
   ]
  },
  {
   "cell_type": "markdown",
   "metadata": {},
   "source": [
    "Then, click on `Install new libraries (online)`, and paste in the URL found in the `online installation` section of https://docs.revrobotics.com/sparkmax/software-resources/spark-max-api-information#c++-and-java into the text box\n",
    "\n",
    "![](https://i.imgur.com/gjN8ata.png)"
   ]
  },
  {
   "cell_type": "markdown",
   "metadata": {
    "slideshow": {
     "slide_type": "subslide"
    },
    "tags": []
   },
   "source": [
    "After a while, you should see a prompt telling you to run a Build after a Vendor update, click yes and look at the contents of the `vendordeps` folder. There should now be another file called `REVLib`\n",
    "\n",
    "![](https://i.imgur.com/Bjud7pa.png)\n",
    "\n",
    "![](https://i.imgur.com/65JelpX.png)"
   ]
  },
  {
   "cell_type": "markdown",
   "metadata": {
    "slideshow": {
     "slide_type": "fragment"
    },
    "tags": []
   },
   "source": [
    "Repeat the process above using the link (phoenix 5) at the bottom of https://store.ctr-electronics.com/software/ , and you should see a file called `Phoenix` in vendordeps"
   ]
  },
  {
   "cell_type": "markdown",
   "metadata": {
    "slideshow": {
     "slide_type": "subslide"
    },
    "tags": []
   },
   "source": [
    "### Building/Deploying the project\n",
    "\n",
    "To run our code on the robot, we'd first need to build and deploy it to the robot. There are 3 ways of doing this\n",
    "1. right clicking `build.gradle` in the explorer and selecting `Deploy robot code`\n",
    "2. click the 3 dots on the top left near the \"W\" logo, and then click `Deploy robot code`\n",
    "3. click the \"W\" logo and type `Deploy robot code`, then click the command"
   ]
  },
  {
   "cell_type": "markdown",
   "metadata": {
    "slideshow": {
     "slide_type": "fragment"
    },
    "tags": []
   },
   "source": [
    "Once you click that, it currently should give you an error saying that it could not find the roborio, as we aren't connected the robot. \n",
    "\n",
    "![](https://i.imgur.com/Az55HMj.png)"
   ]
  },
  {
   "cell_type": "markdown",
   "metadata": {
    "slideshow": {
     "slide_type": "slide"
    },
    "tags": []
   },
   "source": [
    "## Examining the code\n",
    "\n",
    "After looking at how the project is organized, we can start looking at the code. We won't need to look at Main.java, all that does is start the robot. Instead the rest is handled by `Robot.java` and the things it depends upon."
   ]
  },
  {
   "cell_type": "markdown",
   "metadata": {
    "slideshow": {
     "slide_type": "subslide"
    },
    "tags": []
   },
   "source": [
    "### Packages & Folders\n",
    "\n",
    "Notice the first line in Robot.java, \n",
    "```java\n",
    "package frc.robot;\n",
    "```\n",
    "\n",
    "this was the reason why it was placed in the `\\frc\\robot` sub-folder of `src\\main\\java`. Packages in the code should always reflect how we organize these files in folders, and vice versa."
   ]
  },
  {
   "cell_type": "markdown",
   "metadata": {
    "slideshow": {
     "slide_type": "subslide"
    },
    "tags": []
   },
   "source": [
    "### Some additional java features\n",
    "\n",
    "Looking at the `Robot.java` file in `src\\main\\java\\frc\\robot` , you should see some syntactical features that we haven't covered before, those being `extends` and `/** */`.\n",
    "\n",
    "- `/** */` is a special kind of comment that gives documentation about that class/method. If you hover over `robotInit` for instance, the description is contained in one such doc comment\n",
    "- `extends` makes it so that the new class also has the fields & methods of the old class, and if it wants to override any of them, its best practice to use `@Override` in front of the method definition"
   ]
  },
  {
   "cell_type": "markdown",
   "metadata": {
    "slideshow": {
     "slide_type": "subslide"
    },
    "tags": []
   },
   "source": [
    "#### Example:"
   ]
  },
  {
   "cell_type": "code",
   "execution_count": 1,
   "metadata": {},
   "outputs": [
    {
     "name": "stdout",
     "output_type": "stream",
     "text": [
      "Hello, World!\n"
     ]
    }
   ],
   "source": [
    "class C {\n",
    "    public void m() {\n",
    "        System.out.println(\"Hello, World!\");\n",
    "    }\n",
    "}\n",
    "class D extends C { }\n",
    "new D().m();"
   ]
  },
  {
   "cell_type": "markdown",
   "metadata": {
    "slideshow": {
     "slide_type": "fragment"
    },
    "tags": []
   },
   "source": [
    "Then, since D has all the methods and fields of C, any time you'd need some instance of C, an instance of D would also work by definition"
   ]
  },
  {
   "cell_type": "markdown",
   "metadata": {
    "slideshow": {
     "slide_type": "subslide"
    },
    "tags": []
   },
   "source": [
    "### Interfaces\n",
    "\n",
    "Another useful java concept that we haven't introduced yet are interfaces. An interface is created similarly to a class, but \n",
    "- it can't contain fields*\n",
    "- its methods must be public\n",
    "- its methods can't be implemented"
   ]
  },
  {
   "cell_type": "code",
   "execution_count": 2,
   "metadata": {},
   "outputs": [],
   "source": [
    "interface Runnable{\n",
    "    void run(); // public by default\n",
    "}"
   ]
  },
  {
   "cell_type": "markdown",
   "metadata": {
    "slideshow": {
     "slide_type": "subslide"
    },
    "tags": []
   },
   "source": [
    "#### Implementing Interfaces\n",
    "\n",
    "instead of being `extended`, an interface must be `implemented`, like so:"
   ]
  },
  {
   "cell_type": "code",
   "execution_count": 3,
   "metadata": {},
   "outputs": [],
   "source": [
    "class Cow implements Runnable {\n",
    "    public void run() {\n",
    "        System.out.println(\"running\");\n",
    "    }\n",
    "}"
   ]
  },
  {
   "cell_type": "markdown",
   "metadata": {
    "slideshow": {
     "slide_type": "subslide"
    },
    "tags": []
   },
   "source": [
    "the class implementing the interface must also properly implement all methods specified by the interfaces, otherwise an error would occur."
   ]
  },
  {
   "cell_type": "code",
   "execution_count": 4,
   "metadata": {},
   "outputs": [
    {
     "ename": "CompilationException",
     "evalue": "",
     "output_type": "error",
     "traceback": [
      "\u001b[1m\u001b[30m|   \u001b[1m\u001b[30m    \u001b[0m\u001b[1m\u001b[30m\u001b[41mvoid run() { // not public!\u001b[0m",
      "\u001b[1m\u001b[30m|   \u001b[1m\u001b[30m\u001b[41m        System.out.println(\"running\");\u001b[0m",
      "\u001b[1m\u001b[30m|   \u001b[1m\u001b[30m\u001b[41m    }\u001b[0m",
      "\u001b[1m\u001b[31mrun() in Cow cannot implement run() in Runnable\u001b[0m",
      "\u001b[1m\u001b[31m  attempting to assign weaker access privileges; was public\u001b[0m",
      ""
     ]
    }
   ],
   "source": [
    "class Cow implements Runnable {\n",
    "    void run() { // not public!\n",
    "        System.out.println(\"running\");\n",
    "    }\n",
    "}"
   ]
  },
  {
   "cell_type": "markdown",
   "metadata": {
    "slideshow": {
     "slide_type": "subslide"
    },
    "tags": []
   },
   "source": [
    "### What's the Point of Interfaces?\n",
    "\n",
    "interfaces at first glance seem weird. Why would we need some structure that just contains public methods that aren't implemented?"
   ]
  },
  {
   "cell_type": "markdown",
   "metadata": {
    "slideshow": {
     "slide_type": "fragment"
    },
    "tags": []
   },
   "source": [
    "Interfaces are a useful organizational tool, they help establish a contract, or a guarantee that a class implements some behavior. In our example above, they guarantee that our cow is able to run.\n",
    "\n",
    "Interfaces can also group classes by common behaviors, even if they don't `extend` each other. For example, for a `Runnable` we could give a cow, person, cheetah, or whatever, even if they none of them extend one another."
   ]
  },
  {
   "cell_type": "markdown",
   "metadata": {
    "slideshow": {
     "slide_type": "slide"
    },
    "tags": []
   },
   "source": [
    "## Electronics In Code\n",
    "\n",
    "Having a file for representing our robot is a good start, but in order to properly create code for controlling our robot, we first need some way to interact with the individual electronics on the Robot, like for example the motor controllers. "
   ]
  },
  {
   "cell_type": "markdown",
   "metadata": {
    "slideshow": {
     "slide_type": "fragment"
    },
    "tags": []
   },
   "source": [
    "Fortunately, WPILib, and our 3rd party libraries provide the necessary APIs or Application Programming Interfaces to allow for that interaction. Here we'll show how we interact with the TalonFX motor controller, using the API provided by CTR Electronics."
   ]
  },
  {
   "cell_type": "markdown",
   "metadata": {
    "slideshow": {
     "slide_type": "fragment"
    },
    "tags": []
   },
   "source": [
    "For the purpose of demonstration, we can directly put this inside the `Robot.java` file, but we'll see why its done differently in a later presentation"
   ]
  },
  {
   "cell_type": "markdown",
   "metadata": {
    "slideshow": {
     "slide_type": "subslide"
    },
    "tags": []
   },
   "source": [
    "First: since it's not directly provided by java, we need to import it, so put \n",
    "```java\n",
    "import com.ctre.phoenix.motorcontrol.can.TalonFX; \n",
    "```\n",
    "at the top, above the definition for the `Robot` class, but below the `package` line"
   ]
  },
  {
   "cell_type": "markdown",
   "metadata": {
    "slideshow": {
     "slide_type": "fragment"
    },
    "tags": []
   },
   "source": [
    "Second: we'll define, but not initalize a field to contain our TalonFX, which you can do with \n",
    "```java\n",
    "private TalonFX someMotor;\n",
    "```\n",
    "placing this somewhere near the top of the class definition is standard practice. Putting it between the `m_autonomousCommand` and `m_robotContainer` field definitions works fine."
   ]
  },
  {
   "cell_type": "markdown",
   "metadata": {
    "slideshow": {
     "slide_type": "subslide"
    },
    "tags": []
   },
   "source": [
    "Third: we'll need to create the TalonFX object, and then configure it. There isn't a main method or explicit constructor to use in this particular class, but there is a `robotInit` method that is run on robot start-up, so we can create it in there."
   ]
  },
  {
   "cell_type": "markdown",
   "metadata": {},
   "source": [
    "```java\n",
    "@Override\n",
    "public void robotInit() {\n",
    "    m_robotContainer = new RobotContainer(); // disregard this for now\n",
    "    someMotor = new TalonFX(0); // provide CAN (Controller Area Network) ID for motor\n",
    "    someMotor.configFactoryDefault(); // reset configurations to default\n",
    "    someMotor.setNeutralMode(NeutralMode.Brake); // what should the motor do if no input is given?\n",
    "}\n",
    "```"
   ]
  },
  {
   "cell_type": "markdown",
   "metadata": {
    "slideshow": {
     "slide_type": "subslide"
    },
    "tags": []
   },
   "source": [
    "There are many other ways to configure our motors, but that suffices as a basic setup. Now that we have set up our motor, we need to run it somewhere. But as `robotInit` only runs once on robot start-up, that's not really useful."
   ]
  },
  {
   "cell_type": "markdown",
   "metadata": {
    "slideshow": {
     "slide_type": "fragment"
    },
    "tags": []
   },
   "source": [
    "Luckily, there is `robotPeriodic`, which runs something every 20 ms while the robot is enabled, so we can put our code for running the motor in there:"
   ]
  },
  {
   "cell_type": "markdown",
   "metadata": {},
   "source": [
    "```java\n",
    "@Override\n",
    "public void robotPeriodic() {\n",
    "    CommandScheduler.getInstance().run(); // disregard this for now\n",
    "    someMotor.set(1); // max spin!!\n",
    "}\n",
    "```"
   ]
  },
  {
   "cell_type": "markdown",
   "metadata": {
    "slideshow": {
     "slide_type": "subslide"
    },
    "tags": []
   },
   "source": [
    "that particular call to set gives it a percentage of the maximum output (-1 to 1), but you can also give the input as a position, a velocity, a current, or etc. by specifing a control mode:\n",
    "\n",
    "```java\n",
    "// remember to import at the top\n",
    "import com.ctre.phoenix.motorcontrol.ControlMode;\n",
    "@Override\n",
    "public void robotPeriodic() {\n",
    "    CommandScheduler.getInstance().run(); // disregard this for now\n",
    "    someMotor.set(ControlMode.PercentOutput, 1); // max spin!!\n",
    "}\n",
    "```\n",
    "\n",
    "this is known as an `overload` for the `set` method, where both `set`s have the same name, but different parameter types"
   ]
  },
  {
   "cell_type": "markdown",
   "metadata": {
    "slideshow": {
     "slide_type": "slide"
    },
    "tags": []
   },
   "source": [
    "## Robot & Competition Phases"
   ]
  },
  {
   "cell_type": "markdown",
   "metadata": {},
   "source": [
    "Looking closer at our Robot.java file, you can see pairs of methods with the format `<x>Init` and `<x>Periodic`, like for example\n",
    "\n",
    "![](https://i.imgur.com/dBoFESw.png)"
   ]
  },
  {
   "cell_type": "markdown",
   "metadata": {
    "slideshow": {
     "slide_type": "subslide"
    },
    "tags": []
   },
   "source": [
    "Like the name hints, `<x>Init` only runs once, whereas `<x>Periodic` runs every \\~20 milliseconds (~0.02 seconds). The difference between each `Init` and `Periodic` method is when it runs/ starts running. \n",
    "\n",
    "- `robotInit` runs when the robot starts up, and `robotPeriodic` runs while the robot is on. We'll take a closer look at the contents of `RobotPeriod` after introducing some necessary ideas\n",
    "- we can disregard the `simulation`/`disabled`/`test` methods for the time being"
   ]
  },
  {
   "cell_type": "markdown",
   "metadata": {
    "slideshow": {
     "slide_type": "subslide"
    },
    "tags": []
   },
   "source": [
    "The `autonomous` and `teleop` methods correspond to phases of an FRC competition. \n",
    "\n",
    "An FRC competition lasts 2 minutes 30 seconds, and consists of 2 phases:\n",
    "- Autonomous (15 seconds), where the robot performs tasks by itself\n",
    "- Teleoperated, where the drivers directly control the robot\n",
    "\n",
    "So `autonomousInit`/`autonomousPeriodic` run once we enter the autonomous phase, and `teleopInit` and `teleopPeriodic` run once we enter the teleoperated phase. Since in a competition it automatically follows the autonomous phase, `teleopInit` is used to manage that transition, as seen in the example."
   ]
  },
  {
   "cell_type": "markdown",
   "metadata": {
    "slideshow": {
     "slide_type": "slide"
    },
    "tags": []
   },
   "source": [
    "## Git / Github : Collaborating & Managing Code\n",
    "\n",
    "In this presentation, we went through how to create and go through a project on a single device. However, in reality, a robot isn't programmed in one sitting by one person. Building and programming a robot can be a months long task involving many people, who work on different devices."
   ]
  },
  {
   "cell_type": "markdown",
   "metadata": {
    "slideshow": {
     "slide_type": "fragment"
    },
    "tags": []
   },
   "source": [
    "This reality presents a host of organizational challenges that we have to deal with."
   ]
  },
  {
   "cell_type": "markdown",
   "metadata": {
    "slideshow": {
     "slide_type": "subslide"
    },
    "tags": []
   },
   "source": [
    "### What happens if..\n",
    "1. multiple people need a copy of the code?\n",
    "2. someone makes a change? (how can that change be shared?)\n",
    "3. we make a change and the code no longer works?\n",
    "4. we make a change and then forget what we did the day/week after?\n",
    "4. two people on different devices want to change the code at the same time?\n",
    "5. we accidently delete the code on a device?"
   ]
  },
  {
   "cell_type": "markdown",
   "metadata": {
    "slideshow": {
     "slide_type": "subslide"
    },
    "tags": []
   },
   "source": [
    "### The Solution\n",
    "Luckily, these are very common problems people have to deal with in real life, so there are already good tools out there. "
   ]
  },
  {
   "cell_type": "markdown",
   "metadata": {
    "slideshow": {
     "slide_type": "fragment"
    },
    "tags": []
   },
   "source": [
    "The two we use are:\n",
    "- `git`, a `version control` system that allows us to keep track of the history of changes to our project, and \n",
    "- `github`, a service that hosts our codebase online, and works well with `git` (as hinted at by the name)"
   ]
  },
  {
   "cell_type": "markdown",
   "metadata": {
    "slideshow": {
     "slide_type": "subslide"
    },
    "tags": []
   },
   "source": [
    "### Getting The Code\n",
    "\n",
    "The code for our current robot is located at https://github.com/team1306/Robot2022, so we can get it from the internet using a git command.\n"
   ]
  },
  {
   "cell_type": "markdown",
   "metadata": {
    "slideshow": {
     "slide_type": "fragment"
    },
    "tags": []
   },
   "source": [
    "On the website there should be a green <span style=\"background-color: #268636\">(Code)</span> button, after clicking it, you should see a link ending in `.git` in a pop-up:\n",
    "\n",
    "![](https://i.imgur.com/ZiiJax4.png)"
   ]
  },
  {
   "cell_type": "markdown",
   "metadata": {
    "slideshow": {
     "slide_type": "subslide"
    },
    "tags": []
   },
   "source": [
    "Then we can open a terminal in a folder somewhere, (again being lazy, I'll do so in `Desktop`) and then we use the `git clone` command with that link to get a local copy of the code in a folder called `Robot2022`\n",
    "\n",
    "![](https://i.imgur.com/Y67Do4D.png)"
   ]
  },
  {
   "cell_type": "markdown",
   "metadata": {
    "slideshow": {
     "slide_type": "subslide"
    },
    "tags": []
   },
   "source": [
    "Then inside that file, you should see a copy of our code\n",
    "\n",
    "![](https://i.imgur.com/vKz7Hqf.png)"
   ]
  },
  {
   "cell_type": "markdown",
   "metadata": {
    "slideshow": {
     "slide_type": "subslide"
    },
    "tags": []
   },
   "source": [
    "Opening that up in a new VSCode window (double click VSCode, then go to `file (top left) > open folder` and find where you downloaded that file). It might ask you to do something, and then rebuild, because something in the main respository is out of date. Do that, and then you should see a blue circle on an icon on the left hand side. \n",
    "\n",
    "![](https://i.imgur.com/y3AZuXA.png)"
   ]
  },
  {
   "cell_type": "markdown",
   "metadata": {
    "slideshow": {
     "slide_type": "subslide"
    },
    "tags": []
   },
   "source": [
    "Click on that, and it should bring you do this tab, which lists all the changes you've made in this session:\n",
    "\n",
    "![](https://i.imgur.com/N4dHZCT.png)\n",
    "\n",
    "This is because git is integrated into VSCode as part the Source Control tab. The reason we can use this tab for our current folder, and not our previous project that was just generated, is because our `git clone` initialized the `Robot2022` folder as a git `repository`"
   ]
  },
  {
   "cell_type": "markdown",
   "metadata": {
    "slideshow": {
     "slide_type": "subslide"
    },
    "tags": []
   },
   "source": [
    "If you want to make lasting changes to a repository, you must `stage` and then `commit` those changes--preferably with a message. To do this first right click the `Changes` dropdown, and select `Stage all Changes`\n",
    "\n",
    "![](https://i.imgur.com/vY9Nk2T.png)\n",
    "\n",
    "Then, commit those staged changes with the check mark after giving a good message (As it stands, you all currently shouldn't be able to do this, and it should give an error if you try as you haven't configured email/name)\n",
    "\n",
    "![](https://i.imgur.com/IYxdiqF.png)"
   ]
  },
  {
   "cell_type": "markdown",
   "metadata": {
    "slideshow": {
     "slide_type": "subslide"
    },
    "tags": []
   },
   "source": [
    "`Commit`ing a change modifies that `local` repository on your computer, but notice that it doesnt modify the `remote` repositiory on the internet. So VSCode provides a button immediately after clicking `Commit` to `sync changes`, or the equivalent of a `git push` command. \n",
    "\n",
    "![](https://i.imgur.com/a2Kowhv.png)"
   ]
  },
  {
   "cell_type": "markdown",
   "metadata": {
    "slideshow": {
     "slide_type": "subslide"
    },
    "tags": []
   },
   "source": [
    "Or if you prefer a more graphic depiction...\n",
    "\n",
    "![](https://i.stack.imgur.com/UvZ0M.png)"
   ]
  }
 ],
 "metadata": {
  "kernelspec": {
   "display_name": "Java",
   "language": "java",
   "name": "java"
  },
  "language_info": {
   "codemirror_mode": "java",
   "file_extension": ".jshell",
   "mimetype": "text/x-java-source",
   "name": "Java",
   "pygments_lexer": "java",
   "version": "17.0.4.1+1"
  }
 },
 "nbformat": 4,
 "nbformat_minor": 4
}
