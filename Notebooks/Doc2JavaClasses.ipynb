{
  "cells": [
    {
      "attachments": {},
      "cell_type": "markdown",
      "metadata": {},
      "source": [
        "# Java : A Complete View\n",
        "\n",
        "This document will focus on introducing concepts such class Classes, Fields, Methods, and other topics needed to create complete java programs. "
      ]
    },
    {
      "attachments": {},
      "cell_type": "markdown",
      "metadata": {
        "slideshow": {
          "slide_type": "slide"
        },
        "tags": []
      },
      "source": [
        "## [Classes](https://www.baeldung.com/java-classes-objects) : Blueprint & Template\n",
        "\n",
        "imagine you want to present a list of people's bank accounts, with some data such as their name, age, and balance. What would be the best way to represent this?"
      ]
    },
    {
      "attachments": {},
      "cell_type": "markdown",
      "metadata": {
        "slideshow": {
          "slide_type": "subslide"
        },
        "tags": []
      },
      "source": [
        "One way would be to create individual variables, and name them accordingly...\n",
        "\n",
        "```java\n",
        "String acc1Name = \"Brenda\";\n",
        "int acc1Age = 34;\n",
        "double acc1Balance = 5473.12;\n",
        "\n",
        "String acc2Name = \"Steve\";\n",
        "int acc2Age = 12;\n",
        "double acc2Balance = 15.01;\n",
        "...\n",
        "```"
      ]
    },
    {
      "attachments": {},
      "cell_type": "markdown",
      "metadata": {
        "slideshow": {
          "slide_type": "fragment"
        },
        "tags": []
      },
      "source": [
        "But we see quickly that this wouldn't scale well with more people and more data. Doing so takes up a lot of space, doesn't offer any way to group values together, and also involves `mangling` the variable names with additional text (since having two variables defined with the name `Name` or `Age` or etc. isn't allowed)."
      ]
    },
    {
      "cell_type": "markdown",
      "metadata": {
        "slideshow": {
          "slide_type": "subslide"
        },
        "tags": []
      },
      "source": [
        "Another approach would be to represent each account as an array...\n",
        "\n",
        "```java\n",
        "???[] acc1 = {\"Brenda\", 34, 5473.12};\n",
        "???[] acc2 = {\"Steve\", 12, 15.01};\n",
        "...\n",
        "```"
      ]
    },
    {
      "attachments": {},
      "cell_type": "markdown",
      "metadata": {
        "slideshow": {
          "slide_type": "fragment"
        },
        "tags": []
      },
      "source": [
        "But then we run into the issue that objects can be of different types, so we can't give the Array any type in particular."
      ]
    },
    {
      "cell_type": "markdown",
      "metadata": {
        "slideshow": {
          "slide_type": "subslide"
        },
        "tags": []
      },
      "source": [
        "### Enter, the Class"
      ]
    },
    {
      "cell_type": "markdown",
      "metadata": {},
      "source": [
        "A class acts as a blueprint or template for creating things with a given structure. The values that get created using the class are known as `instances` of the class, or as `objects`.\n",
        "\n",
        "for our `Account`, we'd want it to contain information about the `name`, `age`, and `balance` for a particular account..."
      ]
    },
    {
      "cell_type": "code",
      "execution_count": 1,
      "metadata": {
        "slideshow": {
          "slide_type": "fragment"
        },
        "tags": [],
        "vscode": {
          "languageId": "java"
        }
      },
      "outputs": [],
      "source": [
        "class Account {\n",
        "    String name;\n",
        "    int age;\n",
        "    double balance = 10; // can create with default value\n",
        "}"
      ]
    },
    {
      "cell_type": "markdown",
      "metadata": {},
      "source": [
        "The bits of data contained within the class are called **`fields`** of the class. You may notice their similarity to variables in blocks of code."
      ]
    },
    {
      "cell_type": "markdown",
      "metadata": {
        "slideshow": {
          "slide_type": "subslide"
        },
        "tags": []
      },
      "source": [
        "An instance of the class can be created using the word `new` before the name of the class, and you can then directly get or change the data within the class using a `.`"
      ]
    },
    {
      "cell_type": "code",
      "execution_count": 2,
      "metadata": {
        "vscode": {
          "languageId": "java"
        }
      },
      "outputs": [
        {
          "name": "stdout",
          "output_type": "stream",
          "text": [
            "Brenda 34 5473.12\n"
          ]
        }
      ],
      "source": [
        "// we will return to this `new ClassName()` structure later on\n",
        "Account acc1 = new Account();\n",
        "acc1.name = \"Brenda\";\n",
        "acc1.age = 34;\n",
        "acc1.balance = 5473.12;\n",
        "System.out.println(acc1.name + \" \" + acc1.age + \" \" + acc1.balance);"
      ]
    },
    {
      "attachments": {},
      "cell_type": "markdown",
      "metadata": {},
      "source": [
        "Notice that the `Account` class in the example is also being used as a type, similar to `int` or `boolean`. Types such as `Account` are what are known as `Reference` data types, whereas `int`, `boolean`, `char`, and `double` are what is known as `primitive` data types. `String` is also a reference data type with quite a few useful methods that we can use: "
      ]
    },
    {
      "cell_type": "code",
      "execution_count": 3,
      "metadata": {
        "vscode": {
          "languageId": "java"
        }
      },
      "outputs": [
        {
          "name": "stdout",
          "output_type": "stream",
          "text": [
            "5\n"
          ]
        },
        {
          "name": "stdout",
          "output_type": "stream",
          "text": [
            "HELLO\n"
          ]
        }
      ],
      "source": [
        "String str = \"hello\";\n",
        "// examples of methods\n",
        "System.out.println(str.length());\n",
        "System.out.println(str.toUpperCase());"
      ]
    },
    {
      "cell_type": "markdown",
      "metadata": {
        "slideshow": {
          "slide_type": "subslide"
        },
        "tags": []
      },
      "source": [
        "But data on its own isn't really that useful to our account..."
      ]
    },
    {
      "cell_type": "markdown",
      "metadata": {
        "slideshow": {
          "slide_type": "fragment"
        },
        "tags": []
      },
      "source": [
        "How could we handle overdrafts without going into the negatives?"
      ]
    },
    {
      "cell_type": "code",
      "execution_count": 4,
      "metadata": {
        "vscode": {
          "languageId": "java"
        }
      },
      "outputs": [
        {
          "name": "stdout",
          "output_type": "stream",
          "text": [
            "-4526.88\n"
          ]
        }
      ],
      "source": [
        "acc1.balance = acc1.balance - 10000;\n",
        "System.out.println(acc1.balance);"
      ]
    },
    {
      "attachments": {},
      "cell_type": "markdown",
      "metadata": {
        "slideshow": {
          "slide_type": "fragment"
        },
        "tags": []
      },
      "source": [
        "And also, can we create an account without needing to manually modify each field after creation?\n",
        "\n",
        "```java\n",
        "Account acc2 = new Account(\"Steve\", 12, 100); // something like this for instance\n",
        "```"
      ]
    },
    {
      "attachments": {},
      "cell_type": "markdown",
      "metadata": {
        "slideshow": {
          "slide_type": "slide"
        },
        "tags": []
      },
      "source": [
        "## [Method](https://www.baeldung.com/java-methods) : Giving Names to Actions\n",
        "\n",
        "Much like how we can put data in a class with `fields`, we can also add actions to classes through the use of `methods`, which are defined similar to functions. Like for example a `withdraw` method that handles overdrafts properly:"
      ]
    },
    {
      "cell_type": "code",
      "execution_count": 5,
      "metadata": {
        "vscode": {
          "languageId": "java"
        }
      },
      "outputs": [],
      "source": [
        "class Account {\n",
        "    String name;\n",
        "    int age;\n",
        "    double balance = 10; // can create with default value\n",
        "\n",
        "    // note that the syntax is identical to that for functions that we introduced previously\n",
        "    void withdraw(int amount){\n",
        "        if (amount > balance){ // too little money, decline transaction\n",
        "            System.out.println(\"Insufficient funds\");\n",
        "        } else { // allow transaction \n",
        "            balance = balance - amount;\n",
        "            System.out.println(\"Withdrawal successful\");\n",
        "        }\n",
        "    }\n",
        "}"
      ]
    },
    {
      "cell_type": "markdown",
      "metadata": {
        "slideshow": {
          "slide_type": "subslide"
        },
        "tags": []
      },
      "source": [
        "To then call the method, you'd follow the name for a particular object with a period, the method name, and then a pair of parentheses containing in input, similar to how functions are called:"
      ]
    },
    {
      "cell_type": "code",
      "execution_count": 6,
      "metadata": {
        "tags": [],
        "vscode": {
          "languageId": "java"
        }
      },
      "outputs": [
        {
          "name": "stdout",
          "output_type": "stream",
          "text": [
            "Withdrawal successful\n",
            "4973.12\n",
            "Insufficient funds\n",
            "4973.12\n"
          ]
        }
      ],
      "source": [
        "Account acc1 = new Account();\n",
        "acc1.name = \"Brenda\";\n",
        "acc1.age = 34;\n",
        "acc1.balance = 5473.12;\n",
        "\n",
        "// examples for method calls:\n",
        "acc1.withdraw(500);\n",
        "System.out.println(acc1.balance);\n",
        "acc1.withdraw(10000);\n",
        "System.out.println(acc1.balance);"
      ]
    },
    {
      "attachments": {},
      "cell_type": "markdown",
      "metadata": {
        "slideshow": {
          "slide_type": "slide"
        },
        "tags": []
      },
      "source": [
        "## [Constructors](https://www.baeldung.com/java-constructors) : Creating Classes \n",
        "\n",
        "Methods like withdraw help simplify actions on already made objects, but how can we better create them?"
      ]
    },
    {
      "attachments": {},
      "cell_type": "markdown",
      "metadata": {
        "slideshow": {
          "slide_type": "fragment"
        },
        "tags": []
      },
      "source": [
        "Luckily, we can use a special type of method called a `constructor` to streamline this process:"
      ]
    },
    {
      "cell_type": "code",
      "execution_count": 7,
      "metadata": {
        "vscode": {
          "languageId": "java"
        }
      },
      "outputs": [],
      "source": [
        "class C {\n",
        "    int data;\n",
        "    // one constructor for class C\n",
        "    C (int data){\n",
        "        // \"this\" can be used to refer to the current object\n",
        "        if (data > 0) // handle logic for inputs\n",
        "            this.data = data;\n",
        "        else\n",
        "            this.data = 0;\n",
        "    }\n",
        "}"
      ]
    },
    {
      "attachments": {},
      "cell_type": "markdown",
      "metadata": {
        "slideshow": {
          "slide_type": "subslide"
        },
        "tags": []
      },
      "source": [
        "The syntax for a constructor is very similar to that of a method, where you have the class' name as the return type, a group of parameters surrounded by parentheses, and a body which is surrounded by braces.\n",
        "\n",
        "However, you may notice the main difference between the two is that our constructor doesn't have a name; signifying to us that it's used to construct an instance of the class, rather than being a method which just happens to return an instance of the class.\n",
        "\n",
        "Notice too that we can use the `this` keyword to refer to the object being constructed. This feature isn't exclusive to constructors, `this` can also be used in methods in order to refer to the current object (in case a field and parameter has the same name for example).\n",
        "\n",
        "with our constructor implemented, we can then do..."
      ]
    },
    {
      "cell_type": "code",
      "execution_count": 8,
      "metadata": {
        "vscode": {
          "languageId": "java"
        }
      },
      "outputs": [
        {
          "name": "stdout",
          "output_type": "stream",
          "text": [
            "5\n"
          ]
        },
        {
          "name": "stdout",
          "output_type": "stream",
          "text": [
            "50\n",
            "0\n"
          ]
        }
      ],
      "source": [
        "C x = new C(5);\n",
        "System.out.println(x.data);\n",
        "C y = new C(50);\n",
        "System.out.println(y.data);\n",
        "C z = new C(-10);\n",
        "System.out.println(z.data);"
      ]
    },
    {
      "attachments": {},
      "cell_type": "markdown",
      "metadata": {},
      "source": [
        "the `this` construct has another usage as well in classes with multiple constructors, allowing us to call different constructors within a constructor (for example if we want to take some \"default\" arguments in our constructors):"
      ]
    },
    {
      "cell_type": "code",
      "execution_count": 9,
      "metadata": {
        "vscode": {
          "languageId": "java"
        }
      },
      "outputs": [
        {
          "name": "stdout",
          "output_type": "stream",
          "text": [
            "2 arg constructor called\n",
            "2 arg constructor called\n"
          ]
        }
      ],
      "source": [
        "class C {\n",
        "    int data1, data2;\n",
        "    // two constructors for class C\n",
        "    C (int data){\n",
        "        // lets say we want to have a default value for the second argument\n",
        "        this(data, 0);\n",
        "    }\n",
        "    // our second, more general constructor\n",
        "    C (int data1, int data2) {\n",
        "        System.out.println(\"2 arg constructor called\");\n",
        "        // achieves the same lower bound effect as the previous code\n",
        "        this.data1 = Math.max(0,data1);\n",
        "        this.data2 = Math.max(0,data2);\n",
        "    }\n",
        "}\n",
        "\n",
        "// using 2nd constructor, so it should print\n",
        "C c1 = new C(1,1); \n",
        "// using 1st constructor, but it relies on the 2nd constructor so it should also print\n",
        "C c2 = new C(1);\n",
        "\n"
      ]
    },
    {
      "cell_type": "markdown",
      "metadata": {
        "slideshow": {
          "slide_type": "subslide"
        },
        "tags": []
      },
      "source": [
        "Applying this to our `Account` class gives us:"
      ]
    },
    {
      "cell_type": "code",
      "execution_count": 10,
      "metadata": {
        "vscode": {
          "languageId": "java"
        }
      },
      "outputs": [],
      "source": [
        "class Account {\n",
        "    String name;\n",
        "    int age;\n",
        "    double balance = 10; // can create with default value\n",
        "\n",
        "    // note that it's slightly different, as we don't give it a name\n",
        "    Account(String name, int age, double balance){\n",
        "        this.name = name;\n",
        "        this.age = age;\n",
        "        this.balance = balance;\n",
        "    }\n",
        "\n",
        "    void withdraw(int amount){\n",
        "        if (amount > balance){ // too little money, decline transaction\n",
        "            System.out.println(\"Insufficient funds\");\n",
        "        } else { // allow transaction \n",
        "            balance = balance - amount;\n",
        "            System.out.println(\"Withdrawal successful\");\n",
        "        }\n",
        "    }\n",
        "}"
      ]
    },
    {
      "cell_type": "markdown",
      "metadata": {
        "slideshow": {
          "slide_type": "subslide"
        },
        "tags": []
      },
      "source": [
        "And now, our previous code can be rewritten as:"
      ]
    },
    {
      "cell_type": "code",
      "execution_count": 11,
      "metadata": {
        "vscode": {
          "languageId": "java"
        }
      },
      "outputs": [
        {
          "name": "stdout",
          "output_type": "stream",
          "text": [
            "Withdrawal successful\n",
            "4973.12\n"
          ]
        },
        {
          "name": "stdout",
          "output_type": "stream",
          "text": [
            "Insufficient funds\n",
            "4973.12\n"
          ]
        }
      ],
      "source": [
        "// example for constructor call (note the constructor arguments in the parentheses)\n",
        "Account acc1 = new Account(\"Brenda\", 34, 5473.12);\n",
        "\n",
        "acc1.withdraw(500);\n",
        "System.out.println(acc1.balance);\n",
        "acc1.withdraw(10000);\n",
        "System.out.println(acc1.balance);"
      ]
    },
    {
      "attachments": {},
      "cell_type": "markdown",
      "metadata": {},
      "source": [
        "which is much nicer to look at in comparison."
      ]
    },
    {
      "attachments": {},
      "cell_type": "markdown",
      "metadata": {
        "slideshow": {
          "slide_type": "slide"
        },
        "tags": []
      },
      "source": [
        "## [Access Modifiers](https://www.baeldung.com/java-access-modifiers) : Organizing information\n",
        "\n",
        "In all our previous examples, we had been able to always access and modify our fields and methods, but often we don't want that behavior, like for example if a field contains information that we don't want the user to know."
      ]
    },
    {
      "cell_type": "code",
      "execution_count": 12,
      "metadata": {
        "vscode": {
          "languageId": "java"
        }
      },
      "outputs": [],
      "source": [
        "class Client {\n",
        "    String username;\n",
        "    String password; // we might not want people seeing this\n",
        "}"
      ]
    },
    {
      "attachments": {},
      "cell_type": "markdown",
      "metadata": {
        "slideshow": {
          "slide_type": "subslide"
        },
        "tags": []
      },
      "source": [
        "Or we could also have a method whose only purpose is to help make code in another method look better: "
      ]
    },
    {
      "cell_type": "code",
      "execution_count": 13,
      "metadata": {
        "vscode": {
          "languageId": "java"
        }
      },
      "outputs": [],
      "source": [
        "class Client {\n",
        "    String username;\n",
        "    String password; // we might not want people seeing this\n",
        "\n",
        "    // only serves to help password changer, no use outside\n",
        "    boolean isGoodPassword(String newPassword){\n",
        "        return newPassword.length() > 10;\n",
        "    }\n",
        "\n",
        "    void changePassword(String newPassword){\n",
        "        if (isGoodPassword(newPassword))\n",
        "            password = newPassword;\n",
        "    }\n",
        "}"
      ]
    },
    {
      "cell_type": "markdown",
      "metadata": {
        "slideshow": {
          "slide_type": "subslide"
        },
        "tags": []
      },
      "source": [
        "### private\n",
        "\n",
        "private fields and methods are accessible only from inside the class, trying to use them anywhere else will produce an error"
      ]
    },
    {
      "cell_type": "code",
      "execution_count": 14,
      "metadata": {
        "vscode": {
          "languageId": "java"
        }
      },
      "outputs": [],
      "source": [
        "class C {\n",
        "    private int data = 5;\n",
        "    private void disp() {\n",
        "        // internal use of data field\n",
        "        System.out.println(data);\n",
        "    }\n",
        "}"
      ]
    },
    {
      "attachments": {},
      "cell_type": "markdown",
      "metadata": {},
      "source": [
        "Attempting to then get `data` or call `disp` from an instance of `C` would then be disallowed outside the class itself:\n"
      ]
    },
    {
      "cell_type": "code",
      "execution_count": 15,
      "metadata": {
        "vscode": {
          "languageId": "java"
        }
      },
      "outputs": [
        {
          "ename": "CompilationException",
          "evalue": "",
          "output_type": "error",
          "traceback": [
            "\u001b[1m\u001b[30m|   \u001b[1m\u001b[30m\u001b[0m\u001b[1m\u001b[30m\u001b[41mnew C().disp\u001b[0m\u001b[1m\u001b[30m(); // external use of disp method\u001b[0m",
            "\u001b[1m\u001b[31mdisp() has private access in C\u001b[0m",
            ""
          ]
        }
      ],
      "source": [
        "new C().disp(); // external use of disp method"
      ]
    },
    {
      "attachments": {},
      "cell_type": "markdown",
      "metadata": {
        "slideshow": {
          "slide_type": "subslide"
        },
        "tags": []
      },
      "source": [
        "### public\n",
        "\n",
        "public fields and methods are accessible from anywhere, like from outside the class itself. "
      ]
    },
    {
      "cell_type": "code",
      "execution_count": 16,
      "metadata": {
        "vscode": {
          "languageId": "java"
        }
      },
      "outputs": [
        {
          "name": "stdout",
          "output_type": "stream",
          "text": [
            "5\n"
          ]
        }
      ],
      "source": [
        "class C {\n",
        "    public int data = 5;\n",
        "    public void disp() {\n",
        "        // internal use of data field\n",
        "        System.out.println(data);\n",
        "    }\n",
        "}\n",
        "// external use of disp method\n",
        "new C().disp();"
      ]
    },
    {
      "attachments": {},
      "cell_type": "markdown",
      "metadata": {},
      "source": [
        "As an example, we would almost always want our constructor to be public, since we want our classes to be creatable for anyone to use, similarly, we'd generally expose methods that we wanna have others use, we'd generally want to private fields that we don't want others seeing. Like for our `Account` class from earlier, a more fleshed out implentation would be:"
      ]
    },
    {
      "cell_type": "code",
      "execution_count": 17,
      "metadata": {
        "vscode": {
          "languageId": "java"
        }
      },
      "outputs": [],
      "source": [
        "class Account {\n",
        "  // we wanna hide the personal details and data fields\n",
        "  private String name;\n",
        "  private int age;\n",
        "  // don't want the user to be able to change the balance by accessing field directly\n",
        "  private double balance = 10;\n",
        "\n",
        "  public Account(String name, int age, double balance){\n",
        "      this.name = name;\n",
        "      this.age = age;\n",
        "      this.balance = balance;\n",
        "  }\n",
        "\n",
        "  public void withdraw(int amount){\n",
        "      if (amount > balance){ // too little money, decline transaction\n",
        "          System.out.println(\"Insufficient funds\");\n",
        "      } else { // allow transaction \n",
        "          balance = balance - amount;\n",
        "          System.out.println(\"Withdrawal successful\");\n",
        "      }\n",
        "  }\n",
        "  // make accessors for the balance\n",
        "  public double getBalance(){\n",
        "      return balance;\n",
        "  }\n",
        "}"
      ]
    },
    {
      "attachments": {},
      "cell_type": "markdown",
      "metadata": {},
      "source": [
        "Then we can use it like so:"
      ]
    },
    {
      "cell_type": "code",
      "execution_count": 18,
      "metadata": {
        "vscode": {
          "languageId": "java"
        }
      },
      "outputs": [
        {
          "name": "stdout",
          "output_type": "stream",
          "text": [
            "Withdrawal successful\n",
            "4973.12\n",
            "Insufficient funds\n",
            "4973.12\n"
          ]
        }
      ],
      "source": [
        "Account acc1 = new Account(\"Brenda\", 34, 5473.12);\n",
        "\n",
        "acc1.withdraw(500);\n",
        "System.out.println(acc1.getBalance());\n",
        "acc1.withdraw(10000);\n",
        "System.out.println(acc1.getBalance());"
      ]
    },
    {
      "attachments": {},
      "cell_type": "markdown",
      "metadata": {
        "slideshow": {
          "slide_type": "subslide"
        },
        "tags": []
      },
      "source": [
        "#### *slight note\n",
        "\n",
        "`private` and `public` aren't the only access modifiers in java. There is also `protected`, as well as the default when no access modifier is provided, which differ in whether access outside a `packages`(see below) or in `subclasses`(see below) is allowed. For the most part, our code will primarily be using private and public as modifiers."
      ]
    },
    {
      "attachments": {},
      "cell_type": "markdown",
      "metadata": {
        "slideshow": {
          "slide_type": "slide"
        },
        "tags": []
      },
      "source": [
        "## [Static](https://www.baeldung.com/java-static) Fields/Methods : One to ~~Rule~~ Share with Them All"
      ]
    },
    {
      "attachments": {},
      "cell_type": "markdown",
      "metadata": {},
      "source": [
        "We've seen how to create fields and methods for individual objects, but what if for our Account class, we wanted to do some marketing research and track the total amount of money in every account?\n",
        "\n",
        "<center>\n",
        "  <img src=\"../Images/PiggyBank.png\" alt = \"\"/>\n",
        "</center>"
      ]
    },
    {
      "cell_type": "markdown",
      "metadata": {
        "slideshow": {
          "slide_type": "fragment"
        },
        "tags": []
      },
      "source": [
        "To do that, we can create a `static` field `totalMoney`, in our Account class, meaning its value will be shared between all of our account instances:"
      ]
    },
    {
      "cell_type": "code",
      "execution_count": 19,
      "metadata": {
        "slideshow": {
          "slide_type": "subslide"
        },
        "tags": [],
        "vscode": {
          "languageId": "java"
        }
      },
      "outputs": [],
      "source": [
        "class Account {\n",
        "    private static double totalMoney = 0; // static field\n",
        "    private String name;\n",
        "    private int age;\n",
        "    private double balance;\n",
        "    public Account(String name, int age, double balance){\n",
        "        this.name = name;\n",
        "        this.age = age;\n",
        "        this.balance = balance;\n",
        "        totalMoney = totalMoney + balance;\n",
        "    }\n",
        "    public void withdraw(int amount){\n",
        "        if (amount <= balance){ // enough money, allow transaction\n",
        "            balance = balance - amount;\n",
        "            totalMoney = totalMoney - amount; // change total to reflect withdrawal\n",
        "            System.out.println(\"Withdrawal successful\");\n",
        "        } else System.out.println(\"Insufficient funds\");\n",
        "    }\n",
        "    // make accessor for the balance\n",
        "    public double getBalance(){\n",
        "        return balance;\n",
        "    }\n",
        "    // make accessor for the totalMoney (notice that it's a static method)\n",
        "    public static double getTotalMoney(){\n",
        "        return totalMoney;\n",
        "    }\n",
        "}"
      ]
    },
    {
      "cell_type": "markdown",
      "metadata": {
        "slideshow": {
          "slide_type": "subslide"
        },
        "tags": []
      },
      "source": [
        "since the field is one value shared between all objects, we can directly access it from the class:"
      ]
    },
    {
      "cell_type": "code",
      "execution_count": 20,
      "metadata": {
        "vscode": {
          "languageId": "java"
        }
      },
      "outputs": [
        {
          "name": "stdout",
          "output_type": "stream",
          "text": [
            "0.0\n",
            "5473.12\n",
            "5573.12\n",
            "Withdrawal successful\n",
            "5073.12\n"
          ]
        }
      ],
      "source": [
        "System.out.println(Account.getTotalMoney());  // start w/ 0\n",
        "Account acc1 = new Account(\"Brenda\", 34, 5473.12);\n",
        "System.out.println(Account.getTotalMoney()); // add money from Brenda's account\n",
        "Account acc2 = new Account(\"Steve\", 12, 100);\n",
        "System.out.println(Account.getTotalMoney()); // add money from Steve's account\n",
        "acc1.withdraw(500);                          // Brenda withdraws\n",
        "System.out.println(Account.getTotalMoney()); // see that total money has decreased"
      ]
    },
    {
      "cell_type": "markdown",
      "metadata": {
        "slideshow": {
          "slide_type": "subslide"
        },
        "tags": []
      },
      "source": [
        "or if we want, we can also get it from any of the class instances:"
      ]
    },
    {
      "cell_type": "code",
      "execution_count": 21,
      "metadata": {
        "vscode": {
          "languageId": "java"
        }
      },
      "outputs": [
        {
          "name": "stdout",
          "output_type": "stream",
          "text": [
            "5073.12\n",
            "5073.12\n"
          ]
        }
      ],
      "source": [
        "System.out.println(acc1.getTotalMoney());\n",
        "System.out.println(acc2.getTotalMoney());"
      ]
    },
    {
      "cell_type": "markdown",
      "metadata": {
        "slideshow": {
          "slide_type": "fragment"
        },
        "tags": []
      },
      "source": [
        "but doing so this way is far less common and maybe a bit counterintuitive as well. "
      ]
    },
    {
      "attachments": {},
      "cell_type": "markdown",
      "metadata": {
        "slideshow": {
          "slide_type": "slide"
        },
        "tags": []
      },
      "source": [
        "## [Imports](https://www.geeksforgeeks.org/import-statement-in-java/) : Getting Outside Help\n",
        "\n",
        "Besides classes we make, there are also many classes that [java provides for us](https://docs.oracle.com/en/java/javase/11/docs/api/java.base/module-summary.html). Of the things used so far in this document, both [`String`](https://docs.oracle.com/en/java/javase/11/docs/api/java.base/java/lang/String.html) and [`System`](https://docs.oracle.com/en/java/javase/11/docs/api/java.base/java/lang/System.html) were provided by java.\n",
        "\n",
        "However, there are also things java provides us, but hides initially, in order to reduce clutter. For example, besides arrays, there are also many useful collections in `java.util`,  but as it's hidden away from us, we'd need to import it first:  "
      ]
    },
    {
      "cell_type": "code",
      "execution_count": 22,
      "metadata": {
        "vscode": {
          "languageId": "java"
        }
      },
      "outputs": [
        {
          "name": "stdout",
          "output_type": "stream",
          "text": [
            "[1, 2, 3]\n"
          ]
        }
      ],
      "source": [
        "import java.util.List;\n",
        "System.out.println(List.of(1,2,3));"
      ]
    },
    {
      "cell_type": "markdown",
      "metadata": {
        "slideshow": {
          "slide_type": "fragment"
        },
        "tags": []
      },
      "source": [
        "otherwise, we'd have to use a long (and ugly) name to get to it directly:"
      ]
    },
    {
      "cell_type": "code",
      "execution_count": 23,
      "metadata": {
        "vscode": {
          "languageId": "java"
        }
      },
      "outputs": [
        {
          "name": "stdout",
          "output_type": "stream",
          "text": [
            "[1, 2, 3]\n"
          ]
        }
      ],
      "source": [
        "System.out.println(java.util.List.of(1,2,3));"
      ]
    },
    {
      "cell_type": "markdown",
      "metadata": {
        "slideshow": {
          "slide_type": "subslide"
        },
        "tags": []
      },
      "source": [
        "If we use code from a third party, we also must use imports in order to get what we need.\n",
        "\n",
        "For example, if we wanted to connect with a motor controller on the robot, we'd need to import that class in our program:\n",
        "\n",
        "```java\n",
        "// TalonSRX motor controller for example\n",
        "import com.ctre.phoenix.motorcontrol.can.TalonSRX;\n",
        "```"
      ]
    },
    {
      "attachments": {},
      "cell_type": "markdown",
      "metadata": {
        "slideshow": {
          "slide_type": "slide"
        },
        "tags": []
      },
      "source": [
        "## [Packages](https://www.baeldung.com/java-packages) : Organizing Our Own Files\n",
        "\n",
        "like how java and 3rd party libraries, we can also organize our own code into groups called `packages`. \n",
        "\n",
        "```java\n",
        "package frc.example.mypackage;\n",
        "class C {\n",
        "  public static int x = 5;\n",
        "}\n",
        "```"
      ]
    },
    {
      "cell_type": "markdown",
      "metadata": {
        "slideshow": {
          "slide_type": "fragment"
        },
        "tags": []
      },
      "source": [
        "then, when we want to use that class `C` outside, we would import it similar to how we imported List from `java.util`:\n",
        "\n",
        "```java\n",
        "import frc.example.mypackage.C;\n",
        "System.out.println(C.x);\n",
        "// output : 5\n",
        "```"
      ]
    },
    {
      "attachments": {},
      "cell_type": "markdown",
      "metadata": {},
      "source": [
        "Usually, a package also represents the location of a file in a project. the class C above for example would be placed inside a file under the `frc/example/mypackage` folder."
      ]
    },
    {
      "cell_type": "markdown",
      "metadata": {
        "slideshow": {
          "slide_type": "slide"
        },
        "tags": []
      },
      "source": [
        "## A Java Program In Full\n",
        "\n",
        "now that we've covered all the necessary material, we can finally make a complete program in java.... and have it print \"Hello World\".\n",
        "\n",
        "The basic java program looks like:"
      ]
    },
    {
      "cell_type": "code",
      "execution_count": 24,
      "metadata": {
        "vscode": {
          "languageId": "java"
        }
      },
      "outputs": [],
      "source": [
        "// in file \"Main.java\"\n",
        "class Main{ // name of the class is not important, just has to match the name of the file\n",
        "    public static void main(String... args){\n",
        "        String output = \"Hello World\";\n",
        "        System.out.println(output);\n",
        "    }\n",
        "}"
      ]
    },
    {
      "cell_type": "code",
      "execution_count": 25,
      "metadata": {
        "vscode": {
          "languageId": "java"
        }
      },
      "outputs": [
        {
          "name": "stdout",
          "output_type": "stream",
          "text": [
            "Hello World\n"
          ]
        }
      ],
      "source": [
        "Main.main(); // simulate running the program, since jshell doesn't automatically do it"
      ]
    },
    {
      "cell_type": "markdown",
      "metadata": {
        "slideshow": {
          "slide_type": "subslide"
        },
        "tags": []
      },
      "source": [
        "In a java program, all your code must be inside a class, which is why we have the `class Main {...}`  surrounding our program.\n",
        "\n",
        "- the `main` static method is called the `entry point` for the program, and is where your code starts running from, this is why it must be both `public` and `static`.\n",
        "- the `String... args` (or more commonly `String[]`) are inputs that can be given when the program is ran in the terminal.\n",
        "\n",
        "To run a java program, we often use 2 commands, `javac` and `java`. First, we would run `javac` (the java compiler) on the program file, which will produce a `.class` file. Then we call `java` (the java launcher) with the name of the class which contains the `main` method entry point. "
      ]
    },
    {
      "attachments": {},
      "cell_type": "markdown",
      "metadata": {},
      "source": [
        "```sh\n",
        "> javac Main.java\n",
        "> java Main  # output: Hello World\n",
        "```"
      ]
    },
    {
      "cell_type": "markdown",
      "metadata": {},
      "source": [
        "Though an important feature of java in general, and crucial to understanding the flow of a program, it's not of particularly great importance for FRC programming, where the entry point often just calls another method that handles the task of setting up and starting execution of the robot's code (as described in a future document)."
      ]
    },
    {
      "attachments": {},
      "cell_type": "markdown",
      "metadata": {
        "slideshow": {
          "slide_type": "slide"
        },
        "tags": []
      },
      "source": [
        "## A Helpful Trick\n",
        "\n",
        "In the first document, we covered functions such as"
      ]
    },
    {
      "cell_type": "code",
      "execution_count": 26,
      "metadata": {
        "vscode": {
          "languageId": "java"
        }
      },
      "outputs": [
        {
          "name": "stdout",
          "output_type": "stream",
          "text": [
            "3\n",
            "8\n"
          ]
        }
      ],
      "source": [
        "int add(int x, int y){\n",
        "    return x + y;\n",
        "}\n",
        "System.out.println(add(1,2));\n",
        "System.out.println(add(5,3));"
      ]
    },
    {
      "attachments": {},
      "cell_type": "markdown",
      "metadata": {
        "slideshow": {
          "slide_type": "subslide"
        },
        "tags": []
      },
      "source": [
        "And in this document, we introduced methods like `Account.withdraw`, "
      ]
    },
    {
      "cell_type": "code",
      "execution_count": 27,
      "metadata": {
        "vscode": {
          "languageId": "java"
        }
      },
      "outputs": [
        {
          "name": "stdout",
          "output_type": "stream",
          "text": [
            "Withdrawal successful\n"
          ]
        }
      ],
      "source": [
        "new Account(\"joe\", 34, 100.0).withdraw(20);"
      ]
    },
    {
      "cell_type": "markdown",
      "metadata": {
        "slideshow": {
          "slide_type": "subslide"
        },
        "tags": []
      },
      "source": [
        "### However... \n"
      ]
    },
    {
      "cell_type": "markdown",
      "metadata": {
        "slideshow": {
          "slide_type": "fragment"
        },
        "tags": []
      },
      "source": [
        "they are actually both methods! Jshell just hides that aspect for our \"functions\" to make things simpler.\n"
      ]
    },
    {
      "attachments": {},
      "cell_type": "markdown",
      "metadata": {},
      "source": [
        "Our add function in the previous document can be represented as a static method in our program:"
      ]
    },
    {
      "cell_type": "code",
      "execution_count": 28,
      "metadata": {
        "slideshow": {
          "slide_type": "fragment"
        },
        "tags": [],
        "vscode": {
          "languageId": "java"
        }
      },
      "outputs": [
        {
          "name": "stdout",
          "output_type": "stream",
          "text": [
            "3\n"
          ]
        }
      ],
      "source": [
        "class Main{ \n",
        "    public static int add(int x, int y){ // our function behind the scenes\n",
        "        return x + y;\n",
        "    }  \n",
        "    public static void main(String... args){\n",
        "        System.out.println(add(1,2));\n",
        "    }\n",
        "}\n",
        "Main.main(); // simulate program running (remove if you're copying this snippet)"
      ]
    }
  ],
  "metadata": {
    "kernelspec": {
      "display_name": "Java",
      "language": "java",
      "name": "java"
    },
    "language_info": {
      "codemirror_mode": "java",
      "file_extension": ".jshell",
      "mimetype": "text/x-java-source",
      "name": "Java",
      "pygments_lexer": "java",
      "version": "11.0.16.1+1-LTS"
    }
  },
  "nbformat": 4,
  "nbformat_minor": 4
}
