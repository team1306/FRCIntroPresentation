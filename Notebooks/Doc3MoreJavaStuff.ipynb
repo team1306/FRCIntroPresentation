{
 "cells": [
  {
   "attachments": {},
   "cell_type": "markdown",
   "metadata": {},
   "source": [
    "## Extending Classes\n",
    "\n",
    "Classes offer us a good way to organize our information--both data and actions--into structures, but that alone also presents its own set of issues. For starters, what if two classes we want to make share much of their functionality (like for instance one is a specialized form of the other)? \n",
    "\n",
    "In that case, implementing many of these classes tends to lead to a lot of repetitive code, in turn complicating the development process and hurting readability. For instance, take the case of trying to create classes to represent `Rectangle`s and `Square`s that you'd want to draw on a screen.\n",
    "\n"
   ]
  },
  {
   "cell_type": "code",
   "execution_count": 24,
   "metadata": {},
   "outputs": [],
   "source": [
    "class Rectangle {\n",
    "    public int length, width;\n",
    "    public double x, y;\n",
    "\n",
    "    public Rectangle(int length, int width, double x, double y){\n",
    "        System.out.println(\"making rectangle\");\n",
    "        this.length = length;\n",
    "        this.width = width;\n",
    "        this.x = x;\n",
    "        this.y = y;\n",
    "    }\n",
    "\n",
    "    public int area() {\n",
    "        return length * width;\n",
    "    }\n",
    "\n",
    "    public int perimeter() {\n",
    "        return 2 * length + 2 * width;\n",
    "    }\n",
    "    // ... draw, change position, change size, get size, etc.\n",
    "}\n",
    "\n",
    "class Square {\n",
    "    public int length;\n",
    "    public double x, y;\n",
    "\n",
    "    public Square(int length, double x, double y){\n",
    "        System.out.println(\"making square\");\n",
    "        this.length = length;\n",
    "        this.x = x;\n",
    "        this.y = y;\n",
    "    }\n",
    "\n",
    "    public int area() {\n",
    "        return length * length;\n",
    "    }\n",
    "\n",
    "    public int perimeter() {\n",
    "        return 4 * length;\n",
    "    }\n",
    "    // ... draw, change position, change size, get size, etc.\n",
    "}"
   ]
  },
  {
   "attachments": {},
   "cell_type": "markdown",
   "metadata": {},
   "source": [
    "Though it's a rather short example, we see that two classes are very similar in their content, both taking arguments for side lengths and positions, as well as having methods that return the area and perimeter of the object. \n",
    "\n",
    "In fact here, we can even see (or recall from math) that every square is just a Rectangle where the side lengths are the same (width = length)."
   ]
  },
  {
   "cell_type": "code",
   "execution_count": 25,
   "metadata": {},
   "outputs": [
    {
     "name": "stdout",
     "output_type": "stream",
     "text": [
      "making square\n",
      "making rectangle\n",
      "25\n",
      "25\n"
     ]
    }
   ],
   "source": [
    "Square sqr = new Square(5, 0.0, 0.0);\n",
    "Rectangle sqr2 = new Rectangle(5, 5, 0.0, 0.0);\n",
    "\n",
    "System.out.println(sqr.area());\n",
    "System.out.println(sqr2.area()); // identical to above"
   ]
  },
  {
   "attachments": {},
   "cell_type": "markdown",
   "metadata": {},
   "source": [
    "In these situations when we have classes A and B that share much of their implementation, but B seems to be a special case of A, we can make class B `extend` A to represent that relationship:"
   ]
  },
  {
   "cell_type": "code",
   "execution_count": 26,
   "metadata": {},
   "outputs": [
    {
     "name": "stdout",
     "output_type": "stream",
     "text": [
      "making rectangle\n",
      "making square\n",
      "25\n",
      "5\n"
     ]
    }
   ],
   "source": [
    "class Square extends Rectangle {\n",
    "    public Square(int length, double x, double y){\n",
    "        super(length, length, x, y); // must be first line in call\n",
    "        System.out.println(\"making square\"); \n",
    "    }\n",
    "}\n",
    "\n",
    "Square sqr = new Square(5,0.0,0.0);\n",
    "System.out.println(sqr.area());\n",
    "System.out.println(sqr.length);"
   ]
  },
  {
   "attachments": {},
   "cell_type": "markdown",
   "metadata": {},
   "source": [
    "Here, by creating `Square` as a class which extends `Rectangle`, we've made our new Square class a `subclass`, or `child` class of the Rectangle class (our `superclass`), which carries with it a bunch of noticable ramifications."
   ]
  },
  {
   "attachments": {},
   "cell_type": "markdown",
   "metadata": {},
   "source": [
    "#### [Super](https://www.baeldung.com/java-super)\n",
    "\n",
    "Looking at our new implementation for our new Square class, you might see that we call something called `super` instead of implementing a constructor. the 'super' here works much like the `this` construct in the previous document, although instead of calling constructors in the same class, it calls a constructor in the extended, or `parent` class. \n",
    "\n",
    "Here, we see that the sole constructor of `Rectangle` was used, as shown by the `making rectangle` text from the output above."
   ]
  },
  {
   "attachments": {},
   "cell_type": "markdown",
   "metadata": {},
   "source": [
    "### [Inheritance](https://www.baeldung.com/java-inheritance)\n",
    "\n",
    "You may have also noticed that when we extended Rectangle with Square, we also don't make any of the fields or methods. This is because when we created Square to extend Rectangle, it also `inherited` all of the public fields and methods of Rectangle, like `length` or `area()`, allowing our square instance to use these methods. \n",
    "\n",
    "Beyond using these properties and methods outside our class, they can also be used inside methods of our class too (except for private members of the superclass). "
   ]
  },
  {
   "cell_type": "code",
   "execution_count": 31,
   "metadata": {},
   "outputs": [
    {
     "name": "stdout",
     "output_type": "stream",
     "text": [
      "making rectangle\n",
      "making square\n",
      "45\n"
     ]
    }
   ],
   "source": [
    "class Square extends Rectangle {\n",
    "    public Square(int length, double x, double y){\n",
    "        super(length, length, x, y); // must be first line in call\n",
    "        System.out.println(\"making square\"); \n",
    "    }\n",
    "\n",
    "    public int periAreaSum(){\n",
    "        // using definitions from superclass\n",
    "        return area() + perimeter();\n",
    "    }\n",
    "}\n",
    "\n",
    "System.out.println(new Square(5,0,0).periAreaSum()); // 5*5 + 4*5 = 25 + 20 = 45"
   ]
  },
  {
   "attachments": {},
   "cell_type": "markdown",
   "metadata": {},
   "source": [
    "Both of these consequences are quite useful for re-using common behavior, as we no longer have to provide repeat definitions for many common features, freeing up more time to work on/learn about other parts of our project ."
   ]
  },
  {
   "attachments": {},
   "cell_type": "markdown",
   "metadata": {},
   "source": [
    "#### [Overriding Methods](https://www.baeldung.com/java-method-overload-override)\n",
    "\n",
    "Sometimes, our inherited method doesn't do exactly what we want to, either because it's too broad, or simply ill-fit for the class. For intance, we could have classes that represent an Animal and a Dog:"
   ]
  },
  {
   "cell_type": "code",
   "execution_count": 35,
   "metadata": {},
   "outputs": [],
   "source": [
    "public class Animal {\n",
    "    public void makeSound() {\n",
    "        System.out.println(\"The animal makes a sound.\");\n",
    "    }\n",
    "}\n",
    "\n",
    "public class Dog extends Animal {\n",
    "    @Override\n",
    "    public void makeSound() {\n",
    "        System.out.println(\"The dog barks.\");\n",
    "    }\n",
    "}"
   ]
  },
  {
   "attachments": {},
   "cell_type": "markdown",
   "metadata": {},
   "source": [
    "Since the description for the sound animals make is a bit too broad to describe dogs' sounds, we'd want to override it to provide an implementation specifically for the Dog class. \n",
    "\n",
    "We do this by creating a method in our subclass `Dog` with the same `signature` (name, type, modifier) with our desired implementation. Although unnecessary, it is also good practice to add the [`@Override` annotation](https://www.baeldung.com/java-override) in order to catch mistakes for method overriding (typos, wrong type, etc)."
   ]
  },
  {
   "attachments": {},
   "cell_type": "markdown",
   "metadata": {},
   "source": [
    "### Subtyping \n",
    "\n",
    "Another consequence of inheritance is that--since a subclass inherits all the behaviors and properties of its superclass, we can use these subclasses any time we need an instance of the superclass.\n",
    "\n",
    "That is, because a square contains all the information associated with a rectangle (a square ***is*** a rectangle), any time we need a rectangle, we can provide a square and it should work just as well. \n",
    "\n",
    "Therefore, we can not only assign a type of `Square` to some instance of `Square`. We should also be able to assign it the type of (or substitute its type for) `Rectangle` and it should also work fine."
   ]
  },
  {
   "cell_type": "code",
   "execution_count": 36,
   "metadata": {},
   "outputs": [
    {
     "name": "stdout",
     "output_type": "stream",
     "text": [
      "making rectangle\n",
      "making square\n",
      "making rectangle\n",
      "making square\n"
     ]
    }
   ],
   "source": [
    "Square s = new Square(1,0,0);\n",
    "Rectangle r = new Square(2,0,0); // OK "
   ]
  },
  {
   "attachments": {},
   "cell_type": "markdown",
   "metadata": {},
   "source": [
    "This ability for a subtype to be substituted for its supertype is eponymously known as `subtyping`, or `up-casting` (as we can think of it as an implicit type \"casting\" upwards in the inheritance ladder)."
   ]
  },
  {
   "attachments": {},
   "cell_type": "markdown",
   "metadata": {},
   "source": [
    "### ([Subtype](https://www.baeldung.com/java-liskov-substitution-principle)) Polymorphism\n",
    "\n",
    "That ability to assign it the type of a superclass is also interesting at the point of usage. Since, instead of using the methods of the assigned type, it uses the methods of the underlying value's type.\n",
    "\n",
    "Take our Dog and Animal class for example:"
   ]
  },
  {
   "cell_type": "code",
   "execution_count": 37,
   "metadata": {},
   "outputs": [
    {
     "name": "stdout",
     "output_type": "stream",
     "text": [
      "The animal makes a sound.\n",
      "The dog barks.\n"
     ]
    }
   ],
   "source": [
    "Animal a = new Animal();\n",
    "Animal b = new Dog();\n",
    "\n",
    "a.makeSound();\n",
    "b.makeSound();"
   ]
  },
  {
   "attachments": {},
   "cell_type": "markdown",
   "metadata": {},
   "source": [
    "Even though both objects have the given type `Animal`, their behavior differs as `a` uses the implementation of `makeSound` found in the Animal class, whereas `b` uses the implementation of the Dog class.\n",
    "\n",
    "This ability for two identical method calls (makeSound) on two objects with identical types (Animal) to behave differently is known as `polymorphism` (literally: \"many forms\", as the same method takes many forms). And because this comes as a consequence of subtyping rules, it is sometimes called [`subtype polymorphism`](https://en.wikipedia.org/wiki/Subtyping) to disambiguate from the other forms of polymorphism."
   ]
  },
  {
   "attachments": {},
   "cell_type": "markdown",
   "metadata": {},
   "source": [
    "## [Abstract Classes](https://www.baeldung.com/java-abstract-class)\n",
    "\n",
    "So far, we've only seen classes where all methods are explicitly implemented in their definition. However, what can we do when we want to describe something more general that doesn't have a singular implementation.\n",
    "\n",
    "Looking back at our `Square` and `Rectangle` classes, and we can try to generalize further to `Shape`s. However we quickly see that trying to implement the `getArea` and `getPerimeter` methods presents a problem. How are we supposed to calculate the area or perimeter of some shape in general, whether it be a circle, triangle, square, rhombus, or etc? And the answer here seems to be that we can't.\n",
    "\n",
    "So instead of racking our heads trying to think of a general implementation, we can leave those methods as unimplemented `abstract` methods, so they can be implemented when we create subclasses."
   ]
  },
  {
   "cell_type": "code",
   "execution_count": 39,
   "metadata": {},
   "outputs": [],
   "source": [
    "abstract class Shape {\n",
    "    private int x, y; // position\n",
    "\n",
    "    public void move(int dx, int dy) {\n",
    "        x += dx;\n",
    "        y += dy;\n",
    "    }\n",
    "\n",
    "    // Subclasses must implement these methods\n",
    "    public abstract double getArea();\n",
    "    public abstract double getPerimeter();\n",
    "}"
   ]
  },
  {
   "attachments": {},
   "cell_type": "markdown",
   "metadata": {},
   "source": [
    "Notice that instead of a method body enclosed in `{}`, our abstract abstract method definitions just end with a semicolon. Likewise, notice the `abstract` modifier before `class` on the first line; this is necessary in designating our class `Shape` as one that can have some `abstract` methods, and trying to create abstract methods in a class without this modifier will produce an error. "
   ]
  },
  {
   "cell_type": "code",
   "execution_count": 42,
   "metadata": {},
   "outputs": [
    {
     "ename": "CompilationException",
     "evalue": "",
     "output_type": "error",
     "traceback": [
      "\u001b[1m\u001b[30m|   \u001b[1m\u001b[30m\u001b[0m\u001b[1m\u001b[30m\u001b[41mclass C {\u001b[0m",
      "\u001b[1m\u001b[30m|   \u001b[1m\u001b[30m\u001b[41m    abstract int foo();\u001b[0m",
      "\u001b[1m\u001b[30m|   \u001b[1m\u001b[30m\u001b[41m}\u001b[0m",
      "\u001b[1m\u001b[31mC is not abstract and does not override abstract method foo() in C\u001b[0m",
      ""
     ]
    }
   ],
   "source": [
    "class C {\n",
    "    abstract int foo();\n",
    "}"
   ]
  },
  {
   "attachments": {},
   "cell_type": "markdown",
   "metadata": {},
   "source": [
    "## [Interfaces](https://www.baeldung.com/java-interfaces)\n",
    "\n",
    "Another useful java concept that we haven't introduced yet are interfaces. An interface is similar to an (abstract) class, but has a few differences, namely in how inheritance, fields, and methods work."
   ]
  },
  {
   "attachments": {},
   "cell_type": "markdown",
   "metadata": {},
   "source": [
    "### Interface Methods\n",
    "\n",
    "An interface's methods are implicitly:\n",
    "\n",
    "- `public`, so it can be accessed from anywhere\n",
    "- `abstract` so they can't have an implementation\n",
    "\n",
    "Although it is allowed (but discouraged) to explicitly use those modifiers\n",
    "\n",
    "So the following interfaces are identical in their creation:"
   ]
  },
  {
   "cell_type": "code",
   "execution_count": 27,
   "metadata": {},
   "outputs": [],
   "source": [
    "interface Runnable{\n",
    "    void run(); // by default public and abstract\n",
    "}\n",
    "\n",
    "interface Runnable{\n",
    "    public abstract void run();\n",
    "}"
   ]
  },
  {
   "attachments": {},
   "cell_type": "markdown",
   "metadata": {},
   "source": [
    "Interface methods can also be `private` and `static`, although in these cases, those methods are not allowed to be abstract, so you'd need to provide a method implementation. \n",
    "\n",
    "Trying to define a `private abstract` method within your interface will result in a compiler error. "
   ]
  },
  {
   "cell_type": "code",
   "execution_count": 28,
   "metadata": {},
   "outputs": [],
   "source": [
    "interface Works {\n",
    "    private void foo(){\n",
    "        System.out.println(\"hello\");\n",
    "    }\n",
    "    static void bar(){\n",
    "        System.out.println(\"goodbye\");\n",
    "    }\n",
    "}"
   ]
  },
  {
   "cell_type": "code",
   "execution_count": 29,
   "metadata": {},
   "outputs": [
    {
     "ename": "CompilationException",
     "evalue": "",
     "output_type": "error",
     "traceback": [
      "\u001b[1m\u001b[30m|   \u001b[1m\u001b[30m    \u001b[0m\u001b[1m\u001b[30m\u001b[41mprivate void foo();\u001b[0m\u001b[1m\u001b[30m\u001b[0m",
      "\u001b[1m\u001b[31mmissing method body, or declare abstract\u001b[0m",
      ""
     ]
    }
   ],
   "source": [
    "interface Errors {\n",
    "    private void foo();\n",
    "}"
   ]
  },
  {
   "attachments": {},
   "cell_type": "markdown",
   "metadata": {},
   "source": [
    "In order to create a `public` interface method that isn't abstract, it must have the `default` modifier, showing that its supposed to be a *default* implementation for some feature described by the interface. "
   ]
  },
  {
   "cell_type": "code",
   "execution_count": null,
   "metadata": {},
   "outputs": [],
   "source": [
    "interface I {\n",
    "    default void foo(){ // remember interface methods are public by default\n",
    "        System.out.println(\"TODO: OVERRIDE ME!\");\n",
    "    }\n",
    "}"
   ]
  },
  {
   "cell_type": "markdown",
   "metadata": {},
   "source": [
    "#### Implementing Interfaces\n",
    "\n",
    "instead of being `extended`, an interface must be `implemented`, like so:"
   ]
  },
  {
   "cell_type": "code",
   "execution_count": 43,
   "metadata": {},
   "outputs": [],
   "source": [
    "class Cow implements Runnable {\n",
    "    public void run() {\n",
    "        System.out.println(\"running\");\n",
    "    }\n",
    "}"
   ]
  },
  {
   "attachments": {},
   "cell_type": "markdown",
   "metadata": {},
   "source": [
    "The class implementing the interface must also properly implement all methods specified by the interfaces, otherwise an error would occur."
   ]
  },
  {
   "cell_type": "code",
   "execution_count": 44,
   "metadata": {},
   "outputs": [
    {
     "ename": "CompilationException",
     "evalue": "",
     "output_type": "error",
     "traceback": [
      "\u001b[1m\u001b[30m|   \u001b[1m\u001b[30m    \u001b[0m\u001b[1m\u001b[30m\u001b[41mvoid run() { // not public!\u001b[0m",
      "\u001b[1m\u001b[30m|   \u001b[1m\u001b[30m\u001b[41m        System.out.println(\"running\");\u001b[0m",
      "\u001b[1m\u001b[30m|   \u001b[1m\u001b[30m\u001b[41m    }\u001b[0m",
      "\u001b[1m\u001b[31mrun() in Cow cannot implement run() in Runnable\u001b[0m",
      "\u001b[1m\u001b[31m  attempting to assign weaker access privileges; was public\u001b[0m",
      ""
     ]
    }
   ],
   "source": [
    "class Cow implements Runnable {\n",
    "    void run() { // not public!\n",
    "        System.out.println(\"running\");\n",
    "    }\n",
    "}"
   ]
  },
  {
   "attachments": {},
   "cell_type": "markdown",
   "metadata": {},
   "source": [
    "Unlike a superclass, which you can only have one of, you're able to implement as many superinterfaces as you like by listing the interface names seperated by commas:"
   ]
  },
  {
   "cell_type": "code",
   "execution_count": 46,
   "metadata": {},
   "outputs": [
    {
     "name": "stdout",
     "output_type": "stream",
     "text": [
      "running\n",
      "The animal makes a sound.\n",
      "TODO: OVERRIDE ME!\n"
     ]
    }
   ],
   "source": [
    "class Cow extends Animal implements Runnable, I {\n",
    "    public void run() {\n",
    "        System.out.println(\"running\");\n",
    "    }\n",
    "}\n",
    "\n",
    "Cow c = new Cow();\n",
    "// for runnable\n",
    "c.run();\n",
    "// from Animal\n",
    "c.makeSound();\n",
    "// from I\n",
    "c.foo();"
   ]
  },
  {
   "attachments": {},
   "cell_type": "markdown",
   "metadata": {},
   "source": [
    "Notice that here, the default method from I is inherited by the Cow class. While fine here, in some more complex cases, its possible to end up with two interfaces with have the same default method with the same signature, presenting us with a [problem](https://en.wikipedia.org/wiki/Multiple_inheritance#The_diamond_problem). Although luckily this is something we pretty much never have to deal with in FRC, it's nevertheless useful to know java has its own way to tackle this issue (we need to override it, otherwise it'd give an error):"
   ]
  },
  {
   "cell_type": "code",
   "execution_count": 52,
   "metadata": {},
   "outputs": [
    {
     "name": "stdout",
     "output_type": "stream",
     "text": [
      "foo1\n",
      "foo2\n"
     ]
    }
   ],
   "source": [
    "interface I1 {\n",
    "    default void foo(){\n",
    "        System.out.println(\"foo1\");\n",
    "    }\n",
    "}\n",
    "\n",
    "interface I2 {\n",
    "    default void foo(){\n",
    "        System.out.println(\"foo2\");\n",
    "    }\n",
    "}\n",
    "\n",
    "class C implements I1, I2 {\n",
    "    @Override\n",
    "    public void foo(){\n",
    "        // this is how we'd disambiguate the two implementations\n",
    "        I1.super.foo();\n",
    "        I2.super.foo();\n",
    "    }\n",
    "}\n",
    "\n",
    "new C().foo();"
   ]
  },
  {
   "attachments": {},
   "cell_type": "markdown",
   "metadata": {},
   "source": [
    "### Interface Motivation\n",
    "\n",
    "interfaces at first glance seem weird. Why would we need some structure that just contains public methods that aren't implemented?\n",
    "\n",
    "Interfaces are a useful organizational tool, they help establish a contract, or a guarantee that a class implements some behavior. In our example above, they guarantee that our cow is able to run.\n",
    "\n",
    "Interfaces can also group classes by common behaviors, even if they don't `extend` each other. For example, for a `Runnable` we could give a cow, person, cheetah, or whatever, even though those classes aren't directly related"
   ]
  },
  {
   "attachments": {},
   "cell_type": "markdown",
   "metadata": {},
   "source": [
    "### Interface Fields (Constants)"
   ]
  },
  {
   "attachments": {},
   "cell_type": "markdown",
   "metadata": {},
   "source": [
    "Beyond methods, interfaces can also contain `fields` which are implicitly `public`, `static`, and `final`. This makes Interfaces quite useful for defining constants that we want to use across our project."
   ]
  },
  {
   "cell_type": "code",
   "execution_count": null,
   "metadata": {},
   "outputs": [
    {
     "name": "stdout",
     "output_type": "stream",
     "text": [
      "18\n"
     ]
    }
   ],
   "source": [
    "interface Constants {\n",
    "    // for constants, it's common practice to capitalize all letters and seperate works with an underscore\n",
    "    int MINIMUM_AGE = 18;\n",
    "    // some mathematical constants perhaps (Already defined in java.lang.Math)\n",
    "    double PI = 3.1415926;\n",
    "    double E  = 2.7182818;\n",
    "    // some conversion factors maybe\n",
    "    int FEET_PER_MILE = 5280;\n",
    "}\n",
    "\n",
    "System.out.println(Constants.MINIMUM_AGE);"
   ]
  },
  {
   "attachments": {},
   "cell_type": "markdown",
   "metadata": {},
   "source": [
    "In contrast, if we were to use a class, we would have to explicitly include the `public`, `static`, and `final` modifiers, leading to a lot more clutter in our code."
   ]
  },
  {
   "cell_type": "code",
   "execution_count": null,
   "metadata": {},
   "outputs": [
    {
     "name": "stdout",
     "output_type": "stream",
     "text": [
      "18\n"
     ]
    }
   ],
   "source": [
    "class Constants {\n",
    "    // for constants, it's common practice to capitalize all letters and seperate works with an underscore\n",
    "    public static final int MINIMUM_AGE = 18;\n",
    "    // some mathematical constants perhaps (Already defined in java.lang.Math)\n",
    "    public static final double PI = 3.1415926;\n",
    "    public static final double E  = 2.7182818;\n",
    "    // some conversion factors maybe\n",
    "    public static final int FEET_PER_MILE = 5280;\n",
    "}\n",
    "\n",
    "System.out.println(Constants.MINIMUM_AGE);"
   ]
  },
  {
   "attachments": {},
   "cell_type": "markdown",
   "metadata": {},
   "source": [
    "## [JavaDoc](https://www.baeldung.com/javadoc) Comments\n",
    "\n",
    "JavaDoc comments, which are block comments surrounded with `/** */` (instead of the usual `/* */`) a special kind of comment that gives documentation about that class/method. Though as a comment it makes no difference in code, it can be usedful for describing what a method or class does in detail.\n",
    "\n",
    "The extensions that we use in VSCode also allow us to hover over a method or class and see a pop-up with it's javadoc description."
   ]
  },
  {
   "cell_type": "code",
   "execution_count": null,
   "metadata": {},
   "outputs": [],
   "source": [
    "/**\n",
    " * This is a class which does certain things\n",
    " * @author me myself I\n",
    " */\n",
    "class C {\n",
    "    /**\n",
    "     * adds two provided inputs and returns the result\n",
    "     * @param a first summand\n",
    "     * @param b second summand\n",
    "     * @return the sum of the two inputs\n",
    "     */\n",
    "    public static int add(int a, int b) {\n",
    "        return a + b;\n",
    "    }\n",
    "}"
   ]
  },
  {
   "attachments": {},
   "cell_type": "markdown",
   "metadata": {},
   "source": [
    "## [Generics](https://www.baeldung.com/java-generics) (Parametric Polymorphism)\n",
    "\n",
    "A good introduction to why we need Generics is the problem of trying to give types to containers. Imagine now that we need to create some class that can store any arbitrary pair of elements of possibly different types, like so:\n",
    "\n",
    "```java\n",
    "Pair p = new Pair(5, \"hello\");\n",
    "int first = p.getFirst(); // gets first value, which is an int\n",
    "String second = p.getSecond(); // gets second value, which is a string\n",
    "```\n",
    "\n",
    "but what if we want a different pair with different types?\n",
    "\n",
    "```java\n",
    "Pair p2 = new Pair('a', 4.4);\n",
    "// uh oh!\n",
    "char first2 = p2.getFirst();\n",
    "double second2 = p2.getSecond();\n",
    "```\n",
    "\n",
    "Now getFirst and getSecond return different types than before and we're stuck with a problem on our hands. That problem being the way we've been defining methods so far has no way to account for this variance, and we certainly don't want to define an implementation for every single possible pair of values. \n",
    "\n"
   ]
  },
  {
   "attachments": {},
   "cell_type": "markdown",
   "metadata": {},
   "source": [
    "### Taking Types as Parameters\n",
    "\n",
    "Notice here that neither `getFirst` or `getSecond` use any of the actual fields or methods of int/char or String/double, but rather simply give them back. In other words, they don't care what's type of value is contained as the 1st or 2nd element. \n",
    "\n",
    "This disregard is something we can use to write a single implmentation that can encapsulate all possible pairs of numbers, while ensuring that the types of our methods are correct. To do so, we use what is called a `type parameter`, where a type is expected to be given by the user (much like how for a normal parameter in a method expects a value). \n",
    "\n",
    "> Notice how `<` and `>` are used for type paremeters instead of `(` and `)`, as well as the fact that type parameters have their first letter capitalize (like class names)"
   ]
  },
  {
   "cell_type": "code",
   "execution_count": 1,
   "metadata": {},
   "outputs": [],
   "source": [
    "// our type parameters (note that they can also be associated with classes, not just functions)\n",
    "class Pair<First, Second>{\n",
    "    // using our type parameters for fields\n",
    "    private First fst;\n",
    "    private Second snd;\n",
    "    // using our type parameters for constructor arguments\n",
    "    public Pair(First fst, Second snd){\n",
    "        this.fst = fst;\n",
    "        this.snd = snd;\n",
    "    }\n",
    "    // using type params in methods\n",
    "    public First getFirst(){\n",
    "        return fst;\n",
    "    }\n",
    "    public Second getSecond(){\n",
    "        return snd;\n",
    "    }\n",
    "}"
   ]
  },
  {
   "attachments": {},
   "cell_type": "markdown",
   "metadata": {},
   "source": [
    "To then create our newly parameterized class, we'd provide our type arguments in `<` and `>` before our actual arguments:"
   ]
  },
  {
   "cell_type": "code",
   "execution_count": 2,
   "metadata": {},
   "outputs": [],
   "source": [
    "Pair<String, Integer> pair = new Pair<String, Integer>(\"a\",1);\n",
    "\n",
    "String f = pair.getFirst();\n",
    "int s = pair.getSecond();"
   ]
  },
  {
   "attachments": {},
   "cell_type": "markdown",
   "metadata": {},
   "source": [
    "> Try playing around here and see whether errors occur if you switch up the types of `f` and `s`, or provide `\"a\"` and `\"b\"` instead of `\"a\"` and `1` like shown above"
   ]
  },
  {
   "attachments": {},
   "cell_type": "markdown",
   "metadata": {},
   "source": [
    "Now, you may feel that our initalization of `Pair<String, Integer> pair = new Pair<String, Integer>` is starting to become quite unsightly, after all it uses the object's type (`Pair<String, Integer>`) multiple times: once to assign the variable's type and again to call the constructor. Luckily here there are two constructs that we can use do make the syntax more succinct.\n",
    "\n",
    "1. we can use what is called the `diamond pattern` (due to the shape of `<>`) on the constructor, where we provide an empty list of type parameters, thereby telling java to try and infer them:"
   ]
  },
  {
   "cell_type": "code",
   "execution_count": 3,
   "metadata": {},
   "outputs": [],
   "source": [
    "Pair<String, Integer> pair = new Pair<>(\"a\",1);"
   ]
  },
  {
   "attachments": {},
   "cell_type": "markdown",
   "metadata": {},
   "source": [
    "2. we can use our `var` keyword from earlier in order to infer the assigned type (this can often be used in conjunction with the above pattern, but sometimes when java can't infer our type parameters without an assigned type, it's not feasible)"
   ]
  },
  {
   "cell_type": "code",
   "execution_count": 5,
   "metadata": {},
   "outputs": [],
   "source": [
    "var pair = new Pair<>(\"a\",1); // much better looking :)"
   ]
  },
  {
   "cell_type": "markdown",
   "metadata": {},
   "source": [
    "> <p style=\"text-align:center\">NOTE : Boxing</p>\n",
    "> \n",
    "> You may have noticed that for our pair example above, when we created our pair above with an integer, we didn't pass the primitive `int` as the second type argument, instead we passed something called `Integer`, which we haven't seen yet.\n",
    ">\n",
    "> The reason for that is because in java, our type arguments can't be primitive types (for [some reasons](https://stackoverflow.com/questions/2721546/why-dont-java-generics-support-primitive-types) beyond the scope of this document). Instead we have a number of classes which serve as analogues to those primatives (Integer to int, Long to long, Double to double, Character to char, and etc.) These classes in particular are special because they can be set to each other seamlessly, as the language automatically converts between them through a process called `auto-(un)boxing`"
   ]
  },
  {
   "cell_type": "code",
   "execution_count": 6,
   "metadata": {},
   "outputs": [],
   "source": [
    "// it just works\n",
    "int x = 5;\n",
    "Integer y = x;\n",
    "int z = y;"
   ]
  },
  {
   "attachments": {},
   "cell_type": "markdown",
   "metadata": {},
   "source": [
    "## Enumerations ([Enums](https://www.baeldung.com/a-guide-to-java-enums))\n",
    "\n",
    "At its simplest, enumerations are just a group of constants, like for example the cardinal directions (N,S,E,W), the days of the week (M,Tu,W,Th,F,Sa,Su), or types of motors (Brushed, Brushless). "
   ]
  },
  {
   "cell_type": "code",
   "execution_count": 12,
   "metadata": {},
   "outputs": [
    {
     "name": "stdout",
     "output_type": "stream",
     "text": [
      "NORTH\n",
      "EAST\n",
      "[NORTH, SOUTH, EAST, WEST]\n"
     ]
    }
   ],
   "source": [
    "enum Direction { // how we list all the constants in the enum, notice the lack of an ending semicolon\n",
    "    NORTH, SOUTH, EAST, WEST\n",
    "}\n",
    "// how we get the individual constants\n",
    "System.out.println(Direction.NORTH);\n",
    "System.out.println(Direction.EAST);\n",
    "// get all things\n",
    "System.out.println(Arrays.toString(Direction.values()))"
   ]
  },
  {
   "attachments": {},
   "cell_type": "markdown",
   "metadata": {},
   "source": [
    "But sometimes we don't want just some constant, we also want to associate some useful values (like a rotation) or actions (like a unit conversion). Luckily, the enum declaration also creates a `class`, which we can provide fields and methods to. In a similar vein, you can also define constructors for an enum, but they must be private so that they can't be used outside of the enum class itself."
   ]
  },
  {
   "cell_type": "code",
   "execution_count": 13,
   "metadata": {},
   "outputs": [
    {
     "name": "stdout",
     "output_type": "stream",
     "text": [
      "3.141592653589793\n"
     ]
    }
   ],
   "source": [
    "enum Rotation{\n",
    "    QUARTER(90),\n",
    "    HALF(180),\n",
    "    THREE_QUARTER(270),\n",
    "    FULL(360); // note: semicolon here\n",
    "\n",
    "    private final double rotDeg;\n",
    "\n",
    "    private Rotation(double degrees){\n",
    "        rotDeg = degrees;\n",
    "    }\n",
    "\n",
    "    public double getDegrees(){\n",
    "        return rotDeg;\n",
    "    }\n",
    "    public double toRadians(){\n",
    "        return rotDeg * Math.PI / 180;\n",
    "    }\n",
    "}\n",
    "\n",
    "System.out.println(Rotation.HALF.toRadians());"
   ]
  },
  {
   "attachments": {},
   "cell_type": "markdown",
   "metadata": {},
   "source": [
    "### Usages\n",
    "\n",
    "Though quite a small feature, enumerations, especially the simple kind mentioned first are commonplace throughout FRC programming as a way to represent configurations--whether that be for motors like detailed above, or for states, device modes, and etc."
   ]
  },
  {
   "cell_type": "code",
   "execution_count": 1,
   "metadata": {},
   "outputs": [],
   "source": [
    "enum MotorType {\n",
    "    BRUSHLESS, BRUSHED\n",
    "}"
   ]
  }
 ],
 "metadata": {
  "kernelspec": {
   "display_name": "Java",
   "language": "java",
   "name": "java"
  },
  "language_info": {
   "codemirror_mode": "java",
   "file_extension": ".jshell",
   "mimetype": "text/x-java-source",
   "name": "java",
   "pygments_lexer": "java",
   "version": "17.0.6+10"
  },
  "orig_nbformat": 4
 },
 "nbformat": 4,
 "nbformat_minor": 2
}
