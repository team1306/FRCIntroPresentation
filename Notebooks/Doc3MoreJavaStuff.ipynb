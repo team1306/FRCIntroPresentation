{
 "cells": [
  {
   "attachments": {},
   "cell_type": "markdown",
   "metadata": {},
   "source": [
    "## Extending Classes\n",
    "\n",
    "Classes offer us a good way to organize our information--both data and actions--into structures, but that alone also presents its own set of issues. For starters, what if two classes we want to make share much of their functionality (like for instance one is a specialized form of the other)? \n",
    "\n",
    "In that case, implementing many of these classes tends to lead to a lot of repetitive code, in turn complicating the development process and hurting readability. For instance, take the case of trying to create classes to represent `Rectangle`s and `Square`s that you'd want to draw on a screen.\n",
    "\n"
   ]
  },
  {
   "cell_type": "code",
   "execution_count": 24,
   "metadata": {
    "vscode": {
     "languageId": "java"
    }
   },
   "outputs": [],
   "source": [
    "class Rectangle {\n",
    "    public int length, width;\n",
    "    public double x, y;\n",
    "\n",
    "    public Rectangle(int length, int width, double x, double y){\n",
    "        System.out.println(\"making rectangle\");\n",
    "        this.length = length;\n",
    "        this.width = width;\n",
    "        this.x = x;\n",
    "        this.y = y;\n",
    "    }\n",
    "\n",
    "    public int area() {\n",
    "        return length * width;\n",
    "    }\n",
    "\n",
    "    public int perimeter() {\n",
    "        return 2 * length + 2 * width;\n",
    "    }\n",
    "    // ... draw, change position, change size, get size, etc.\n",
    "}\n",
    "\n",
    "class Square {\n",
    "    public int length;\n",
    "    public double x, y;\n",
    "\n",
    "    public Square(int length, double x, double y){\n",
    "        System.out.println(\"making square\");\n",
    "        this.length = length;\n",
    "        this.x = x;\n",
    "        this.y = y;\n",
    "    }\n",
    "\n",
    "    public int area() {\n",
    "        return length * length;\n",
    "    }\n",
    "\n",
    "    public int perimeter() {\n",
    "        return 4 * length;\n",
    "    }\n",
    "    // ... draw, change position, change size, get size, etc.\n",
    "}"
   ]
  },
  {
   "attachments": {},
   "cell_type": "markdown",
   "metadata": {},
   "source": [
    "Though it's a rather short example, we see that two classes are very similar in their content, both taking arguments for side lengths and positions, as well as having methods that return the area and perimeter of the object. \n",
    "\n",
    "In fact here, we can even see (or recall from math) that every square is just a Rectangle where the side lengths are the same (width = length)."
   ]
  },
  {
   "cell_type": "code",
   "execution_count": 25,
   "metadata": {
    "vscode": {
     "languageId": "java"
    }
   },
   "outputs": [
    {
     "name": "stdout",
     "output_type": "stream",
     "text": [
      "making square\n",
      "making rectangle\n",
      "25\n",
      "25\n"
     ]
    }
   ],
   "source": [
    "Square sqr = new Square(5, 0.0, 0.0);\n",
    "Rectangle sqr2 = new Rectangle(5, 5, 0.0, 0.0);\n",
    "\n",
    "System.out.println(sqr.area());\n",
    "System.out.println(sqr2.area()); // identical to above"
   ]
  },
  {
   "attachments": {},
   "cell_type": "markdown",
   "metadata": {},
   "source": [
    "In these situations when we have classes A and B that share much of their implementation, but B seems to be a special case of A, we can make class B `extend` A to represent that relationship:"
   ]
  },
  {
   "cell_type": "code",
   "execution_count": 26,
   "metadata": {
    "vscode": {
     "languageId": "java"
    }
   },
   "outputs": [
    {
     "name": "stdout",
     "output_type": "stream",
     "text": [
      "making rectangle\n",
      "making square\n",
      "25\n",
      "5\n"
     ]
    }
   ],
   "source": [
    "class Square extends Rectangle {\n",
    "    public Square(int length, double x, double y){\n",
    "        super(length, length, x, y); // must be first line in call\n",
    "        System.out.println(\"making square\"); \n",
    "    }\n",
    "}\n",
    "\n",
    "Square sqr = new Square(5,0.0,0.0);\n",
    "System.out.println(sqr.area());\n",
    "System.out.println(sqr.length);"
   ]
  },
  {
   "attachments": {},
   "cell_type": "markdown",
   "metadata": {},
   "source": [
    "Here, by creating `Square` as a class which extends `Rectangle`, we've made our new Square class a `subclass`, or `child` class of the Rectangle class (our `superclass`), which carries with it a bunch of noticable ramifications."
   ]
  },
  {
   "attachments": {},
   "cell_type": "markdown",
   "metadata": {},
   "source": [
    "#### Super\n",
    "\n",
    "Looking at our new implementation for our new Square class, you might see that we call something called `super` instead of implementing a constructor. the 'super' here works much like the `this` construct in the previous document, although instead of calling constructors in the same class, it calls a constructor in the extended, or `parent` class. \n",
    "\n",
    "Here, we see that the sole constructor of `Rectangle` was used, as shown by the `making rectangle` text from the output above."
   ]
  },
  {
   "attachments": {},
   "cell_type": "markdown",
   "metadata": {},
   "source": [
    "### Inheritance\n",
    "\n",
    "You may have also noticed that when we extended Rectangle with Square, we also don't make any of the fields or methods. This is because when we created Square to extend Rectangle, it also `inherited` all of the public fields and methods of Rectangle, like `length` or `area()`, allowing our square instance to use these methods. \n",
    "\n",
    "Beyond using these properties and methods outside our class, they can also be used inside methods of our class too (except for private members of the superclass). "
   ]
  },
  {
   "cell_type": "code",
   "execution_count": 31,
   "metadata": {
    "vscode": {
     "languageId": "java"
    }
   },
   "outputs": [
    {
     "name": "stdout",
     "output_type": "stream",
     "text": [
      "making rectangle\n",
      "making square\n",
      "45\n"
     ]
    }
   ],
   "source": [
    "class Square extends Rectangle {\n",
    "    public Square(int length, double x, double y){\n",
    "        super(length, length, x, y); // must be first line in call\n",
    "        System.out.println(\"making square\"); \n",
    "    }\n",
    "\n",
    "    public int periAreaSum(){\n",
    "        // using definitions from superclass\n",
    "        return area() + perimeter();\n",
    "    }\n",
    "}\n",
    "\n",
    "System.out.println(new Square(5,0,0).periAreaSum()); // 5*5 + 4*5 = 25 + 20 = 45"
   ]
  },
  {
   "attachments": {},
   "cell_type": "markdown",
   "metadata": {},
   "source": [
    "Both of these consequences are quite useful for re-using common behavior, as we no longer have to provide repeat definitions for many common features, freeing up more time to work on/learn about other parts of our project ."
   ]
  },
  {
   "attachments": {},
   "cell_type": "markdown",
   "metadata": {},
   "source": [
    "#### Overriding Methods\n",
    "\n",
    "Sometimes, our inherited method doesn't do exactly what we want to, either because it's too broad, or simply ill-fit for the class. For intance, we could have classes that represent an Animal and a Dog:"
   ]
  },
  {
   "cell_type": "code",
   "execution_count": 35,
   "metadata": {
    "vscode": {
     "languageId": "java"
    }
   },
   "outputs": [],
   "source": [
    "public class Animal {\n",
    "    public void makeSound() {\n",
    "        System.out.println(\"The animal makes a sound.\");\n",
    "    }\n",
    "}\n",
    "\n",
    "public class Dog extends Animal {\n",
    "    @Override\n",
    "    public void makeSound() {\n",
    "        System.out.println(\"The dog barks.\");\n",
    "    }\n",
    "}"
   ]
  },
  {
   "attachments": {},
   "cell_type": "markdown",
   "metadata": {},
   "source": [
    "Since the description for the sound animals make is a bit too broad to describe dogs' sounds, we'd want to override it to provide an implementation specifically for the Dog class. \n",
    "\n",
    "We do this by creating a method in our subclass `Dog` with the same `signature` (name, type, modifier) with our desired implementation. Although unnecessary, it is also good practice to add the [`@Override` annotation](https://www.baeldung.com/java-override) in order to catch mistakes for method overriding (typos, wrong type, etc)."
   ]
  },
  {
   "attachments": {},
   "cell_type": "markdown",
   "metadata": {},
   "source": [
    "### Subtyping \n",
    "\n",
    "Another consequence of inheritance is that--since a subclass inherits all the behaviors and properties of its superclass, we can use these subclasses any time we need an instance of the superclass.\n",
    "\n",
    "That is, because a square contains all the information associated with a rectangle (a square ***is*** a rectangle), any time we need a rectangle, we can provide a square and it should work just as well. \n",
    "\n",
    "Therefore, we can not only assign a type of `Square` to some instance of `Square`. We should also be able to assign it the type of (or substitute its type for) `Rectangle` and it should also work fine."
   ]
  },
  {
   "cell_type": "code",
   "execution_count": 36,
   "metadata": {
    "vscode": {
     "languageId": "java"
    }
   },
   "outputs": [
    {
     "name": "stdout",
     "output_type": "stream",
     "text": [
      "making rectangle\n",
      "making square\n",
      "making rectangle\n",
      "making square\n"
     ]
    }
   ],
   "source": [
    "Square s = new Square(1,0,0);\n",
    "Rectangle r = new Square(2,0,0); // OK "
   ]
  },
  {
   "attachments": {},
   "cell_type": "markdown",
   "metadata": {},
   "source": [
    "This ability for a subtype to be substituted for its supertype is eponymously known as `subtyping`, or `up-casting` (as we can think of it as an implicit type \"casting\" upwards in the inheritance ladder)."
   ]
  },
  {
   "attachments": {},
   "cell_type": "markdown",
   "metadata": {},
   "source": [
    "### (Subtype) Polymorphism\n",
    "\n",
    "That ability to assign it the type of a superclass is also interesting at the point of usage. Since, instead of using the methods of the assigned type, it uses the methods of the underlying value's type.\n",
    "\n",
    "Take our Dog and Animal class for example:"
   ]
  },
  {
   "cell_type": "code",
   "execution_count": 37,
   "metadata": {
    "vscode": {
     "languageId": "java"
    }
   },
   "outputs": [
    {
     "name": "stdout",
     "output_type": "stream",
     "text": [
      "The animal makes a sound.\n",
      "The dog barks.\n"
     ]
    }
   ],
   "source": [
    "Animal a = new Animal();\n",
    "Animal b = new Dog();\n",
    "\n",
    "a.makeSound();\n",
    "b.makeSound();"
   ]
  },
  {
   "attachments": {},
   "cell_type": "markdown",
   "metadata": {},
   "source": [
    "Even though both objects have the given type `Animal`, their behavior differs as `a` uses the implementation of `makeSound` found in the Animal class, whereas `b` uses the implementation of the Dog class.\n",
    "\n",
    "This ability for two identical method calls (makeSound) on two objects with identical types (Animal) to behave differently is known as `polymorphism` (literally: \"many forms\", as the same method takes many forms). And because this comes as a consequence of subtyping rules, it is sometimes called [`subtype polymorphism`](https://en.wikipedia.org/wiki/Subtyping) to disambiguate from the other forms of polymorphism."
   ]
  },
  {
   "attachments": {},
   "cell_type": "markdown",
   "metadata": {},
   "source": [
    "## Abstract Classes\n",
    "\n",
    "So far, we've only seen classes where all methods are explicitly implemented in their definition. However, what can we do when we want to describe something more general that doesn't have a singular implementation.\n",
    "\n",
    "Looking back at our `Square` and `Rectangle` classes, and we can try to generalize further to `Shape`s. However we quickly see that trying to implement the `getArea` and `getPerimeter` methods presents a problem. How are we supposed to calculate the area or perimeter of some shape in general, whether it be a circle, triangle, square, rhombus, or etc? And the answer here seems to be that we can't.\n",
    "\n",
    "So instead of racking our heads trying to think of a general implementation, we can leave those methods as unimplemented `abstract` methods, so they can be implemented when we create subclasses."
   ]
  },
  {
   "cell_type": "code",
   "execution_count": 39,
   "metadata": {
    "vscode": {
     "languageId": "java"
    }
   },
   "outputs": [],
   "source": [
    "abstract class Shape {\n",
    "    private int x, y; // position\n",
    "\n",
    "    public void move(int dx, int dy) {\n",
    "        x += dx;\n",
    "        y += dy;\n",
    "    }\n",
    "\n",
    "    // Subclasses must implement these methods\n",
    "    public abstract double getArea();\n",
    "    public abstract double getPerimeter();\n",
    "}"
   ]
  },
  {
   "attachments": {},
   "cell_type": "markdown",
   "metadata": {},
   "source": [
    "Notice that instead of a method body enclosed in `{}`, our abstract abstract method definitions just end with a semicolon. Likewise, notice the `abstract` modifier before `class` on the first line; this is necessary in designating our class `Shape` as one that can have some `abstract` methods, and trying to create abstract methods in a class without this modifier will produce an error. "
   ]
  },
  {
   "cell_type": "code",
   "execution_count": 42,
   "metadata": {
    "vscode": {
     "languageId": "java"
    }
   },
   "outputs": [
    {
     "ename": "CompilationException",
     "evalue": "",
     "output_type": "error",
     "traceback": [
      "\u001b[1m\u001b[30m|   \u001b[1m\u001b[30m\u001b[0m\u001b[1m\u001b[30m\u001b[41mclass C {\u001b[0m",
      "\u001b[1m\u001b[30m|   \u001b[1m\u001b[30m\u001b[41m    abstract int foo();\u001b[0m",
      "\u001b[1m\u001b[30m|   \u001b[1m\u001b[30m\u001b[41m}\u001b[0m",
      "\u001b[1m\u001b[31mC is not abstract and does not override abstract method foo() in C\u001b[0m",
      ""
     ]
    }
   ],
   "source": [
    "class C {\n",
    "    abstract int foo();\n",
    "}"
   ]
  },
  {
   "attachments": {},
   "cell_type": "markdown",
   "metadata": {},
   "source": [
    "## Interfaces\n",
    "\n",
    "Another useful java concept that we haven't introduced yet are interfaces. An interface is similar to an (abstract) class, but has a few differences, namely in how inheritance, fields, and methods work."
   ]
  },
  {
   "attachments": {},
   "cell_type": "markdown",
   "metadata": {},
   "source": [
    "### Interface Methods\n",
    "\n",
    "An interface's methods are implicitly:\n",
    "\n",
    "- `public`, so it can be accessed from anywhere\n",
    "- `abstract` so they can't have an implementation\n",
    "\n",
    "Although it is allowed (but discouraged) to explicitly use those modifiers\n",
    "\n",
    "So the following interfaces are identical in their creation:"
   ]
  },
  {
   "cell_type": "code",
   "execution_count": 27,
   "metadata": {
    "vscode": {
     "languageId": "java"
    }
   },
   "outputs": [],
   "source": [
    "interface Runnable{\n",
    "    void run(); // by default public and abstract\n",
    "}\n",
    "\n",
    "interface Runnable{\n",
    "    public abstract void run();\n",
    "}"
   ]
  },
  {
   "attachments": {},
   "cell_type": "markdown",
   "metadata": {},
   "source": [
    "Interface methods can also be `private` and `static`, although in these cases, those methods are not allowed to be abstract, so you'd need to provide a method implementation. \n",
    "\n",
    "Trying to define a `private abstract` method within your interface will result in a compiler error. "
   ]
  },
  {
   "cell_type": "code",
   "execution_count": 28,
   "metadata": {
    "vscode": {
     "languageId": "java"
    }
   },
   "outputs": [],
   "source": [
    "interface Works {\n",
    "    private void foo(){\n",
    "        System.out.println(\"hello\");\n",
    "    }\n",
    "    static void bar(){\n",
    "        System.out.println(\"goodbye\");\n",
    "    }\n",
    "}"
   ]
  },
  {
   "cell_type": "code",
   "execution_count": 29,
   "metadata": {
    "vscode": {
     "languageId": "java"
    }
   },
   "outputs": [
    {
     "ename": "CompilationException",
     "evalue": "",
     "output_type": "error",
     "traceback": [
      "\u001b[1m\u001b[30m|   \u001b[1m\u001b[30m    \u001b[0m\u001b[1m\u001b[30m\u001b[41mprivate void foo();\u001b[0m\u001b[1m\u001b[30m\u001b[0m",
      "\u001b[1m\u001b[31mmissing method body, or declare abstract\u001b[0m",
      ""
     ]
    }
   ],
   "source": [
    "interface Errors {\n",
    "    private void foo();\n",
    "}"
   ]
  },
  {
   "attachments": {},
   "cell_type": "markdown",
   "metadata": {},
   "source": [
    "In order to create a `public` interface method that isn't abstract, it must have the `default` modifier, showing that its supposed to be a *default* implementation for some feature described by the interface. "
   ]
  },
  {
   "cell_type": "code",
   "execution_count": null,
   "metadata": {
    "vscode": {
     "languageId": "java"
    }
   },
   "outputs": [],
   "source": [
    "interface I {\n",
    "    default void foo(){ // remember interface methods are public by default\n",
    "        System.out.println(\"TODO: OVERRIDE ME!\");\n",
    "    }\n",
    "}"
   ]
  },
  {
   "cell_type": "markdown",
   "metadata": {},
   "source": [
    "#### Implementing Interfaces\n",
    "\n",
    "instead of being `extended`, an interface must be `implemented`, like so:"
   ]
  },
  {
   "cell_type": "code",
   "execution_count": null,
   "metadata": {
    "vscode": {
     "languageId": "java"
    }
   },
   "outputs": [
    {
     "name": "stdout",
     "output_type": "stream",
     "text": [
      "Hello, World!\n"
     ]
    }
   ],
   "source": [
    "class C {\n",
    "    public void m() {\n",
    "        System.out.println(\"Hello, World!\");\n",
    "    }\n",
    "}\n",
    "class D extends C { }\n",
    "new D().m();"
   ]
  },
  {
   "attachments": {},
   "cell_type": "markdown",
   "metadata": {},
   "source": [
    "### Interface Motivation\n",
    "\n",
    "interfaces at first glance seem weird. Why would we need some structure that just contains public methods that aren't implemented?\n",
    "\n",
    "Interfaces are a useful organizational tool, they help establish a contract, or a guarantee that a class implements some behavior. In our example above, they guarantee that our cow is able to run.\n",
    "\n",
    "Interfaces can also group classes by common behaviors, even if they don't `extend` each other. For example, for a `Runnable` we could give a cow, person, cheetah, or whatever, even though those classes aren't directly related"
   ]
  },
  {
   "attachments": {},
   "cell_type": "markdown",
   "metadata": {},
   "source": [
    "### Interface Fields (Constants)"
   ]
  },
  {
   "attachments": {},
   "cell_type": "markdown",
   "metadata": {},
   "source": [
    "Beyond methods, interfaces can also contain `fields` which are implicitly `public`, `static`, and `final`. This makes Interfaces quite useful for defining constants that we want to use across our project."
   ]
  },
  {
   "cell_type": "code",
   "execution_count": null,
   "metadata": {
    "vscode": {
     "languageId": "java"
    }
   },
   "outputs": [
    {
     "name": "stdout",
     "output_type": "stream",
     "text": [
      "18\n"
     ]
    }
   ],
   "source": [
    "interface Constants {\n",
    "    // for constants, it's common practice to capitalize all letters and seperate works with an underscore\n",
    "    int MINIMUM_AGE = 18;\n",
    "    // some mathematical constants perhaps (Already defined in java.lang.Math)\n",
    "    double PI = 3.1415926;\n",
    "    double E  = 2.7182818;\n",
    "    // some conversion factors maybe\n",
    "    int FEET_PER_MILE = 5280;\n",
    "}\n",
    "\n",
    "System.out.println(Constants.MINIMUM_AGE);"
   ]
  },
  {
   "attachments": {},
   "cell_type": "markdown",
   "metadata": {},
   "source": [
    "In contrast, if we were to use a class, we would have to explicitly include the `public`, `static`, and `final` modifiers, leading to a lot more clutter in our code."
   ]
  },
  {
   "cell_type": "code",
   "execution_count": null,
   "metadata": {
    "vscode": {
     "languageId": "java"
    }
   },
   "outputs": [
    {
     "name": "stdout",
     "output_type": "stream",
     "text": [
      "18\n"
     ]
    }
   ],
   "source": [
    "class Constants {\n",
    "    // for constants, it's common practice to capitalize all letters and seperate works with an underscore\n",
    "    public static final int MINIMUM_AGE = 18;\n",
    "    // some mathematical constants perhaps (Already defined in java.lang.Math)\n",
    "    public static final double PI = 3.1415926;\n",
    "    public static final double E  = 2.7182818;\n",
    "    // some conversion factors maybe\n",
    "    public static final int FEET_PER_MILE = 5280;\n",
    "}\n",
    "\n",
    "System.out.println(Constants.MINIMUM_AGE);"
   ]
  },
  {
   "attachments": {},
   "cell_type": "markdown",
   "metadata": {},
   "source": [
    "## JavaDoc Comments\n",
    "\n",
    "JavaDoc comments, which are block comments surrounded with `/** */` (instead of the usual `/* */`) a special kind of comment that gives documentation about that class/method. Though as a comment it makes no difference in code, it can be usedful for describing what a method or class does in detail.\n",
    "\n",
    "The extensions that we use in VSCode also allow us to hover over a method or class and see a pop-up with it's javadoc description."
   ]
  },
  {
   "cell_type": "code",
   "execution_count": null,
   "metadata": {
    "vscode": {
     "languageId": "java"
    }
   },
   "outputs": [],
   "source": [
    "/**\n",
    " * This is a class which does certain things\n",
    " * @author me myself I\n",
    " */\n",
    "class C {\n",
    "    /**\n",
    "     * adds two provided inputs and returns the result\n",
    "     * @param a first summand\n",
    "     * @param b second summand\n",
    "     * @return the sum of the two inputs\n",
    "     */\n",
    "    public static int add(int a, int b) {\n",
    "        return a + b;\n",
    "    }\n",
    "}"
   ]
  },
  {
   "attachments": {},
   "cell_type": "markdown",
   "metadata": {},
   "source": [
    "## Generics And Type Parameters"
   ]
  },
  {
   "attachments": {},
   "cell_type": "markdown",
   "metadata": {},
   "source": [
    "## Enumerations (Enums)"
   ]
  },
  {
   "attachments": {},
   "cell_type": "markdown",
   "metadata": {},
   "source": [
    "## Function Expressions (Lambdas)"
   ]
  }
 ],
 "metadata": {
  "kernelspec": {
   "display_name": "Java",
   "language": "java",
   "name": "java"
  },
  "language_info": {
   "codemirror_mode": "java",
   "file_extension": ".jshell",
   "mimetype": "text/x-java-source",
   "name": "Java",
   "pygments_lexer": "java",
   "version": "17.0.6+10"
  },
  "orig_nbformat": 4
 },
 "nbformat": 4,
 "nbformat_minor": 2
}
