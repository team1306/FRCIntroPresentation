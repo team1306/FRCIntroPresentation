{
  "cells": [
    {
      "cell_type": "markdown",
      "id": "c26ae8f2-fc51-4c6d-a441-58da6e2a4747",
      "metadata": {
        "slideshow": {
          "slide_type": "slide"
        },
        "tags": []
      },
      "source": [
        "# Robot Code in Detail\n",
        "\n",
        "Previously, we opened and started to take a look at the `Robot.java` file for our example project, and also cloned our own robot for the 2022 season using git. Now we'll take a look a closer look at the code, as well as the organization, patterns, and design philosophy that underpins it."
      ]
    },
    {
      "cell_type": "markdown",
      "id": "527efe2e-f072-4dbd-bd53-445941ac50cd",
      "metadata": {
        "slideshow": {
          "slide_type": "slide"
        },
        "tags": []
      },
      "source": [
        "## Conceptual Organization\n",
        "\n",
        "Building and programming a robot can be a complicated task that involves keeping track of a large number of electronics. If we try to handle everything just using the features provided in our `Robot.java` file, we'd quickly see that it becomes unsustainable. "
      ]
    },
    {
      "cell_type": "markdown",
      "id": "4293baf7-d2f2-4bf9-9fbb-e7a873734719",
      "metadata": {
        "slideshow": {
          "slide_type": "fragment"
        },
        "tags": []
      },
      "source": [
        "Instead, to keep our code at least moderately understandable, we can split our code from one giant `Robot` class to several individual classes that each handle a specific task, in line with the [seperation of concerns](https://en.wikipedia.org/wiki/Separation_of_concerns) principle.\n",
        "\n",
        "The benefits of this are that:\n",
        "- if something doesn't work, we can more easily find where the problem came from\n",
        "- someone reading our code (including us in the future) can better understand what the code does\n",
        "- it's much nicer to look at :)\n"
      ]
    },
    {
      "cell_type": "markdown",
      "id": "683b07e0-007b-4af1-b063-db916d0629ad",
      "metadata": {
        "slideshow": {
          "slide_type": "subslide"
        },
        "tags": []
      },
      "source": [
        "Luckily, WPILib provides us with such a design through their `\"Command-Based\" Programming` methodology"
      ]
    },
    {
      "cell_type": "markdown",
      "id": "7063339e-510b-4df5-ad14-dbf47df0ebfb",
      "metadata": {},
      "source": [
        "For our robot, we can break down the task of `running the robot` into 4 seperate layers, those being\n",
        "\n",
        "1. getting user input\n",
        "2. turning input into desired actions\n",
        "3. executing actions on relevant parts of the robot \n",
        "4. making the robot respond physically\n",
        "\n",
        "Splitting it up this way, we would also need some additional system that ties them together."
      ]
    },
    {
      "cell_type": "markdown",
      "id": "86265e3f-142d-48bf-90ed-23cc6bb13c24",
      "metadata": {
        "slideshow": {
          "slide_type": "fragment"
        },
        "tags": []
      },
      "source": [
        "A simple hypothetical example would be: if (1) a driver pushes a joystick forward on an Xbox controller, (2) it gives a command to drive the robot. This command then (3) tells the subsystem controlling the motors to spin them a certain way, which then (4) makes the robot go forwards. "
      ]
    },
    {
      "attachments": {},
      "cell_type": "markdown",
      "id": "a9e14760-1d36-4c76-bf77-c45a7003a3aa",
      "metadata": {
        "slideshow": {
          "slide_type": "subslide"
        },
        "tags": []
      },
      "source": [
        "Going even further, we see that this framework can be used to further break down layers 3 and 2 into individual pieces, called `subsystem`s, and `command`s.\n",
        "\n",
        "\n",
        "<center>\n",
        "  <img src=\"../Images/SubsysAndComms.svg\" alt = \"\" width = 700/>\n",
        "</center>\n"
      ]
    },
    {
      "cell_type": "markdown",
      "id": "a2e2320d-7f14-4b8b-92df-bde57d7bc844",
      "metadata": {
        "slideshow": {
          "slide_type": "slide"
        },
        "tags": []
      },
      "source": [
        "## Subsystems "
      ]
    },
    {
      "cell_type": "markdown",
      "id": "64ec58e6-8696-44af-80ab-615e194c91d9",
      "metadata": {},
      "source": [
        "> Subsystems encapsulate lower-level robot hardware (such as motor controllers, sensors, and/or pneumatic actuators), and define the interfaces through which that hardware can be accessed by the rest of the robot code. Subsystems allow users to “hide” the internal complexity of their actual hardware from the rest of their code\n",
        ">\n",
        ">\\- WPILIB documentation"
      ]
    },
    {
      "cell_type": "markdown",
      "id": "d92abd41-6556-4b19-90f1-a9d9c144b14a",
      "metadata": {},
      "source": [
        "In essense, subsystems are simple abstraction that group bits of hardware that work to control one core part of the robot (like driving). Then, after creating a subsystem, we can communicate with that subsystem directly instead of managing its individual components."
      ]
    },
    {
      "cell_type": "markdown",
      "id": "ad395518-3a25-4f6a-8f3d-b93d2a19a26a",
      "metadata": {
        "slideshow": {
          "slide_type": "subslide"
        },
        "tags": []
      },
      "source": [
        "### Creating a subsystem\n",
        "\n",
        "as Subsystems are quite general containers, so there's not much that we have to provide. To create a subsystem, we'd create a new class that extends from the `SubsystemBase` class, and optionally provide something to do everytime the command scheduler runs (we'll see this later, but it should be the same freqeuency as `robotPeriodic`)\n",
        "\n",
        "```java\n",
        "import edu.wpi.first.wpilibj2.command.SubsystemBase;\n",
        "\n",
        "public class ExampleSubsystem extends SubsystemBase {\n",
        "  /** Creates a new ExampleSubsystem. */\n",
        "  public ExampleSubsystem() {}\n",
        "\n",
        "  @Override\n",
        "  public void periodic() {\n",
        "    // This method will be called once per (~20ms)\n",
        "  }\n",
        "}\n",
        "```"
      ]
    },
    {
      "cell_type": "markdown",
      "id": "8366eb40-eea3-4caf-93e7-ae5f44a51cdf",
      "metadata": {},
      "source": [
        "which, if you look at the file in you example project, should be in the `frc\\robot\\subsystems` folder"
      ]
    },
    {
      "attachments": {},
      "cell_type": "markdown",
      "id": "a0897094-81db-44a0-bef0-700b346e8b85",
      "metadata": {
        "slideshow": {
          "slide_type": "subslide"
        },
        "tags": []
      },
      "source": [
        "### Subsystem Example: Drivetrain\n",
        "The drivetrain consists of the parts of the robot that move the wheels and drive the robot. \n",
        "\n",
        "example: West Coast Drive drivetrain\n",
        "\n",
        "<center>\n",
        "  <img src=\"../Images/Drivetrain.png\" alt = \"\" width = 800/>\n",
        "</center>"
      ]
    },
    {
      "cell_type": "markdown",
      "id": "6dd3394a-1937-4e16-9383-1251c863bb25",
      "metadata": {
        "slideshow": {
          "slide_type": "subslide"
        },
        "tags": []
      },
      "source": [
        "The electronic components for the simple model of the drivetrain above are just those four motors (for the sake of space, the example will just have 1).\n",
        "\n",
        "A drivetrain subsystem should also have a method that handles the process of moving the motors internally."
      ]
    },
    {
      "attachments": {},
      "cell_type": "markdown",
      "id": "3d7fb479-6539-4d91-bb4c-080325a735d3",
      "metadata": {},
      "source": [
        "So in code, a drivetrain class would look something like: \n",
        "\n",
        "```java\n",
        "import edu.wpi.first.wpilibj2.command.SubsystemBase;\n",
        "// note this is a 3rd party dependency\n",
        "import com.ctre.phoenix.motorcontrol.can.TalonFX; \n",
        "\n",
        "public class ExDrivetrain extends SubsystemBase {\n",
        "    // we want to handle the motor controllers only in this \n",
        "    //subsystem so they should be private\n",
        "    private TalonFX motor1;\n",
        "    private TalonFX motor2;\n",
        "\n",
        "    public ExDrivetrain() {\n",
        "        motor1 = new TalonFX(/*motor id*/);\n",
        "        motor1.configFactoryDefault();\n",
        "        motor1.setNeutralMode(NeutralMode.Brake);\n",
        "\n",
        "        motor2 = new TalonFX(/*motor id*/);\n",
        "        motor2.configFactoryDefault();\n",
        "        motor2.setNeutralMode(NeutralMode.Brake);\n",
        "    }\n",
        "\n",
        "    public void driveWheels(double output1, double output2){\n",
        "        // tells the motor controllers to run the motors \n",
        "        motor1.set(output1);\n",
        "        motor2.set(output2);\n",
        "    }\n",
        "}\n",
        "```\n",
        "\n",
        "where the `drive` method serves as the main point of interaction from the outside with the subsystem, while its constructor initalizes all the necessary objects and sets up everything to be run"
      ]
    },
    {
      "cell_type": "markdown",
      "id": "ea7609db",
      "metadata": {
        "slideshow": {
          "slide_type": "subslide"
        },
        "tags": []
      },
      "source": [
        "Now that we have a subsystem, we can interact with that subsystem instead of interacting with individual electronic components, making our code a whole lot more understandable.  "
      ]
    },
    {
      "cell_type": "markdown",
      "id": "66bf4e53-0621-429f-a6f9-87ae1beb60c5",
      "metadata": {
        "slideshow": {
          "slide_type": "slide"
        },
        "tags": []
      },
      "source": [
        "## Inputs\n",
        "\n",
        "Now that we have made commands that correspond to individual actions and responsibilities, we need some way to know when to schedule commands in response to inputs.\n",
        "\n",
        "Fortunately, WPILib also provides many ways to get user inputs though outside devices."
      ]
    },
    {
      "attachments": {},
      "cell_type": "markdown",
      "id": "7e7d5c99",
      "metadata": {
        "slideshow": {
          "slide_type": "fragment"
        },
        "tags": []
      },
      "source": [
        "For our robots in particular, we only use XBox controllers, so we made our own, even simpler system to work with just those controllers.\n",
        "\n",
        "<center>\n",
        "  <img src=\"../Images/XBoxController.png\" alt = \"\" width = 600/>\n",
        "</center>"
      ]
    },
    {
      "attachments": {},
      "cell_type": "markdown",
      "id": "03f14f2c",
      "metadata": {
        "slideshow": {
          "slide_type": "subslide"
        },
        "tags": []
      },
      "source": [
        "### Users In An FRC Competition\n",
        "\n",
        "In an FRC competition, there will be two drivers for each robot. For us, these two drivers are called the `Primary` and `Secondary` drivers/players. Under the hood however, these just refer to the particular ports which the controllers are assigned to."
      ]
    },
    {
      "attachments": {},
      "cell_type": "markdown",
      "id": "9220d575",
      "metadata": {
        "slideshow": {
          "slide_type": "subslide"
        },
        "tags": []
      },
      "source": [
        "### The Controller Class\n",
        "\n",
        "For our robot, the inputs are handled by the `Controller` class in the `utils` folder.\n",
        "\n",
        "<center>\n",
        "  <img src=\"../Images/ControllerUtil.png\" alt = \"\" width = 600/>\n",
        "</center>"
      ]
    },
    {
      "attachments": {},
      "cell_type": "markdown",
      "id": "f2c6c698",
      "metadata": {
        "slideshow": {
          "slide_type": "subslide"
        },
        "tags": []
      },
      "source": [
        "To create a binding, we use either the `simpleAxis` method(which represents an input between -1 and 1, like a joystick) or the `simpleButton` method (which represents either on or off, like a button).\n",
        "\n",
        "We first pass in which controller this refers to, as well as what input to bind.\n",
        "```java\n",
        "UserDigital buttonA = Controller.simpleButton(\n",
        "    Controller.PRIMARY,\n",
        "    Controller.BUTTON_A\n",
        ");\n",
        "\n",
        "UserAnalog leftTrigger = Controller.simpleButton(\n",
        "    Controller.PRIMARY,\n",
        "    Controller.AXIS_LY\n",
        ");\n",
        "```\n",
        "Note that the values are static constants defined as integers, this is an example of an `enumeration`, where one particular value or `state` is represented as an integer. This is a kind of simplified version of the `Enums` talked about in the previous section, where the names are implicitly given in the form of variables corresponding to different values, as opposed to being explicitly specified in the body of an Enum class"
      ]
    },
    {
      "cell_type": "markdown",
      "id": "06192c9d",
      "metadata": {
        "slideshow": {
          "slide_type": "subslide"
        },
        "tags": []
      },
      "source": [
        "The `UserDigital` and `UserAnalog` interfaces are the things that represent those individual bindings. To get the input at a particular time, we call their `get` method (and they should return either a boolean or a double)"
      ]
    },
    {
      "cell_type": "markdown",
      "id": "cca81508",
      "metadata": {},
      "source": [
        "```java\n",
        "// userdigital example\n",
        "boolean isButtonADown = buttonA.get();\n",
        "// useranalog example\n",
        "double leftTriggerOut = leftTrigger.get();\n",
        "```"
      ]
    },
    {
      "attachments": {},
      "cell_type": "markdown",
      "id": "1bfc8b5b",
      "metadata": {},
      "source": [
        "## Inputs with Subsystems\n",
        "\n",
        "With these two tools, we can start to create a pretty crude and simple design for how our robot might work by directly adding code into the `Robot.java` file (something we won't actually be doing a lot with, and we'll see why in the next document).\n",
        "\n",
        "A pretty rudimentary example of our robot instructions could be to have it run forwards based on the Y axis values of the left controller joystick during the teleoperated period, which we can represent as the following method in `Robot`:\n",
        "\n",
        "```java\n",
        "// in class Robot\n",
        "private UserAnalog lyaxis = Controller.simpleAxis(Controller.PRIMARY, Controller.AXIS_LY);\n",
        "private ExDriveTrain dt = new ExDriveTrain();\n",
        "// ...\n",
        "@Override\n",
        "public void teleopPeriodic(){\n",
        "    dt.drive(lyaxis.get(), lyaxis.get());\n",
        "}\n",
        "```\n",
        "\n",
        "or perhaps we could've wanted to run our robot forwards if a button was pressed and backwards if it was not:\n",
        "\n",
        "```java\n",
        "// in class Robot\n",
        "UserDigital buttonA = Controller.simpleButton(Controller.PRIMARY,Controller.BUTTON_A);\n",
        "private ExDriveTrain dt = new ExDriveTrain();\n",
        "// ...\n",
        "@Override\n",
        "public void teleopPeriodic(){\n",
        "    if (buttonA.get())\n",
        "        dt.drive(0.5,0.5);\n",
        "    else\n",
        "        dt.drive(-0.5,-0.5)\n",
        "}\n",
        "```"
      ]
    },
    {
      "attachments": {},
      "cell_type": "markdown",
      "id": "6df2e734",
      "metadata": {},
      "source": [
        "This method of getting inputs frequently, and then passing their current value is a technique known as `polling`. In a large number of cases (and almost always for our inputs), this is sufficent for what we want to accomplish. \n",
        "\n",
        "However, there are times--like when we want to find out when a button is clicked, not just when it's on--where this method is cumbersome. For those times, we'll discuss better, command based alternatives that we can use in those cases in the next document in the sections covering `BooleanEvent`s and `Trigger`s"
      ]
    },
    {
      "attachments": {},
      "cell_type": "markdown",
      "id": "d33002a9-6de2-4192-8486-5257b2c15a83",
      "metadata": {
        "slideshow": {
          "slide_type": "slide"
        },
        "tags": []
      },
      "source": [
        "## Program Organization\n",
        "\n",
        "Now that we've seen some of the individual parts of our design, we can look at how they fit together (take about why we disregard Main.java)"
      ]
    },
    {
      "cell_type": "markdown",
      "id": "407d53ed",
      "metadata": {
        "slideshow": {
          "slide_type": "fragment"
        },
        "tags": []
      },
      "source": [
        "### Robot.java\n",
        "\n",
        "(note : remember, us humans aren't aren't that good at thinking of mechanisms as actions ....)\n",
        "\n",
        "The `Robot` class itself doesn't contain that much in both our Robot codebase as well as in the example project, and this is by design. Because the Robot itself operates off of **time**, and not off of **inputs**, we want to limit the amount of work done in this class. \n",
        "\n",
        "All the robot handles are background tasks, such as running the command scheduler (robotPeriodic), and handling phase transitions (teleopInit). The heavy work is done by another class, the `RobotContainer` (which Robot creates in robotInit)."
      ]
    },
    {
      "cell_type": "markdown",
      "id": "ff44a6ff",
      "metadata": {
        "slideshow": {
          "slide_type": "subslide"
        },
        "tags": []
      },
      "source": [
        "### RobotContainer\n",
        "\n",
        "the `RobotContainer` class handles the setting up, as well as storage of all the individual subsystems and commands. Generally, subsystems and commands are created in the constructor of the RobotContainer, and it also specifies which commands to run during autonomous.\n",
        "\n",
        "In addition, the RobotContainer should also creates all of our input bindings, before passing them off to the subsystems and commands"
      ]
    },
    {
      "cell_type": "markdown",
      "id": "a72570a5",
      "metadata": {
        "slideshow": {
          "slide_type": "subslide"
        },
        "tags": []
      },
      "source": [
        "### Constants\n",
        "\n",
        "Often, we'll have many values that represent specific constants and need to be used throughout our project (example being CAN ids). For those values, we put them in a dedicated Constants class. Since we only need one copy of each, want to access it from everywhere, and don't want to change their values, we'll make them `public static final` fields. \n",
        "\n",
        "This can get to be quite long and a bit of an eyesore, so we take advantage of another java feature, and just make them fields within an `interface` instead of a class, which makes them automatically public, static, and final."
      ]
    },
    {
      "cell_type": "markdown",
      "id": "6efe2455",
      "metadata": {
        "slideshow": {
          "slide_type": "subslide"
        },
        "tags": []
      },
      "source": [
        "### Subfolders\n",
        "\n",
        "besides the main 3 (4) classes, we want to group all our other classes into meaningful folders (and by extension packages).\n",
        "\n",
        "Two of these groupings are the `subsystems` and `commands` folders, but we also have in our project a `utils`, or utilities folder containing miscellaneous things that are useful, like our class for managing controllers, and the UserDigital/UserAnalog interfaces"
      ]
    }
  ],
  "metadata": {
    "kernelspec": {
      "display_name": "Java",
      "language": "java",
      "name": "java"
    },
    "language_info": {
      "codemirror_mode": "java",
      "file_extension": ".jshell",
      "mimetype": "text/x-java-source",
      "name": "java",
      "pygments_lexer": "java",
      "version": "17.0.4.1+1"
    },
    "vscode": {
      "interpreter": {
        "hash": "b8a6d9b80dcf53dac0db88ee280fe003af7896d55209108fde44da72bfc602ee"
      }
    }
  },
  "nbformat": 4,
  "nbformat_minor": 5
}
