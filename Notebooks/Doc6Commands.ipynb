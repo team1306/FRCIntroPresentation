{
 "cells": [
  {
   "attachments": {},
   "cell_type": "markdown",
   "metadata": {},
   "source": [
    "# Command-Based Programming\n",
    "\n",
    "We've seen the simpler building blocks of command-based programming in the previous document--how we can get inputs and group devices into subsystems--as well as how projects are generally organized.\n",
    "\n",
    "Now we'll take a close look at the thing that gives `Command-Based Programming` its name: Commands, as well as some of the features which tie very closely into the command-based framework, and BooleanEvents/Triggers. This section will begin, however, with a discussion about a concept with many names, such as `lambdas`, `closures`, `anonymous-functions`. They present an alternative method for the representation of actions in our projects and are crucial towards the new kind of command-based programming that is being pushed by the designers of WPILib.\n",
    "\n",
    "As such, it will be worthwhile to look at them in great (albeit tangentially related) detail, and to really understand their functionality.\n",
    "\n",
    "As you go through this first section, it is recommended to give everything here a try yourself in JShell. Try replicating the results from the codeblocks and see what results, play around with creating and applying them and see if their behavior matches your expections. If not, try and figure out why, and don't hesistate to ask if something is especially confusing. Lambdas, and their related features are famously a source of confusions for many java programmers. "
   ]
  },
  {
   "attachments": {},
   "cell_type": "markdown",
   "metadata": {},
   "source": [
    "## Functions (a continuation)\n",
    "\n",
    "In the first two documents, we covered 'functions' in the form of:"
   ]
  },
  {
   "cell_type": "code",
   "execution_count": 1,
   "metadata": {
    "vscode": {
     "languageId": "java"
    }
   },
   "outputs": [],
   "source": [
    "int square(int x){\n",
    "    return x*x;\n",
    "}"
   ]
  },
  {
   "attachments": {},
   "cell_type": "markdown",
   "metadata": {},
   "source": [
    "\n",
    "before revealing that in fact, these are just `method`s in disguise.\n"
   ]
  },
  {
   "attachments": {},
   "cell_type": "markdown",
   "metadata": {},
   "source": [
    "### The Shortfalls of Methods\n",
    "\n",
    "At a glance, this distinction seems to have little to no consequence -- so what if our functions are methods of classes instead of actual function values? What difference would that make? \n",
    "\n",
    "The issue with just using methods is that methods can't be passed as values, like an integer or String. This presents a problem whenever we want to have the ability to perform any valid but arbitrary action, instead of some predetermined action.\n",
    "\n",
    "That is, lets say we have an array, and we want to map some operation over all of its values. Instead of using some particular method like `square`:"
   ]
  },
  {
   "cell_type": "code",
   "execution_count": 2,
   "metadata": {
    "vscode": {
     "languageId": "java"
    }
   },
   "outputs": [
    {
     "name": "stdout",
     "output_type": "stream",
     "text": [
      "[1, 4, 9, 16]\n"
     ]
    }
   ],
   "source": [
    "int[] map(int[] xs){\n",
    "    int[] newArr = new int[xs.length];\n",
    "    // appender (i++) or (++i) is a shorter and more popular alternative to the previous (i += 1)\n",
    "    for (int i = 0; i < xs.length; i++){ \n",
    "        newArr[i] = square(xs[i]);\n",
    "    }\n",
    "    return newArr;\n",
    "}\n",
    "\n",
    "System.out.println(Arrays.toString(map(new int[]{1,2,3,4})));"
   ]
  },
  {
   "attachments": {},
   "cell_type": "markdown",
   "metadata": {},
   "source": [
    "But what if we want some way to use any valid function that takes an integer, and returns another integer:\n",
    "\n",
    "```java\n",
    "int[] map(int[] xs, ??? f){ // what could this type be??\n",
    "    int[] newArr = new int[xs.length];\n",
    "    for (int i = 0; i < xs.length; i++){ \n",
    "        newArr[i] = f(xs[i]);\n",
    "    }\n",
    "    return newArr;\n",
    "}\n",
    "```"
   ]
  },
  {
   "attachments": {},
   "cell_type": "markdown",
   "metadata": {},
   "source": [
    "As it stands, there is no way to directly pass a method, even a valid one, in such a manner. So instead, we must compromise and pass an object of some sort that can represent a function."
   ]
  },
  {
   "attachments": {},
   "cell_type": "markdown",
   "metadata": {},
   "source": [
    "### Functional Interfaces "
   ]
  },
  {
   "attachments": {},
   "cell_type": "markdown",
   "metadata": {},
   "source": [
    "\n",
    "But what shape would such a object take? And how does that 'representation' of a function work? \n",
    "\n",
    "Such a function would have to behave analogously to a method when it comes to its usage, being able to be applied in much the same way a method would be called. Beyond that however, it doesn't need anything else -- neither any fields or other methods.\n",
    "\n",
    "In this case, we can simply represent any particular function as a class with only one method:\n"
   ]
  },
  {
   "cell_type": "code",
   "execution_count": 3,
   "metadata": {
    "vscode": {
     "languageId": "java"
    }
   },
   "outputs": [
    {
     "data": {
      "text/plain": [
       "25"
      ]
     },
     "execution_count": 3,
     "metadata": {},
     "output_type": "execute_result"
    }
   ],
   "source": [
    "class square {\n",
    "    public int apply(int x) {\n",
    "        return x * x;\n",
    "    }\n",
    "}\n",
    "\n",
    "new square().apply(5);"
   ]
  },
  {
   "attachments": {},
   "cell_type": "markdown",
   "metadata": {},
   "source": [
    "But that only works for particular functions, where we know in advance the implementation. What if we wanted to create something that encompasses all possible functions of a certain signature, like functions similar to `square` which only take one integer as input and give an integer as its output?\n",
    "\n",
    "For that, we can't know how our objects' single method might be implemented, since each function could have very distinct implementations. As such, we can represent such functions as an interface with one unimplemented method:"
   ]
  },
  {
   "cell_type": "code",
   "execution_count": 4,
   "metadata": {
    "vscode": {
     "languageId": "java"
    }
   },
   "outputs": [],
   "source": [
    "interface MyFunction {\n",
    "    int apply(int x);\n",
    "}\n",
    "\n",
    "int[] map(int[] xs, MyFunction f){\n",
    "    int[] newArr = new int[xs.length];\n",
    "    for (int i = 0; i < xs.length; i++){ \n",
    "        // calling our 'function'\n",
    "        newArr[i] = f.apply(xs[i]);\n",
    "    }\n",
    "    return newArr;\n",
    "}"
   ]
  },
  {
   "attachments": {},
   "cell_type": "markdown",
   "metadata": {},
   "source": [
    "then to create an instance of our function, we would implement this interface and provide an implementation for this method:"
   ]
  },
  {
   "cell_type": "code",
   "execution_count": 5,
   "metadata": {
    "vscode": {
     "languageId": "java"
    }
   },
   "outputs": [
    {
     "name": "stdout",
     "output_type": "stream",
     "text": [
      "[1, 8, 27, 64]\n"
     ]
    }
   ],
   "source": [
    "class cube implements MyFunction{\n",
    "    public int apply(int x) {\n",
    "        return x * x * x;\n",
    "    }\n",
    "}\n",
    "\n",
    "System.out.println(\n",
    "    Arrays.toString(\n",
    "        map(\n",
    "            new int[]{1,2,3,4},\n",
    "            new cube() // passing an object that represents our function\n",
    "        )\n",
    "    )\n",
    ");"
   ]
  },
  {
   "attachments": {},
   "cell_type": "markdown",
   "metadata": {},
   "source": [
    "The `MyFunction` interface is an example of what is known as a `SAM (Single Abstract Method) type`, or a `Functional Interface`, since the interface only contains a single abstract method, a fact which will become very important in the next section. It could have any number of static, private, or default methods -- but so long as it only has one abstract method, it is a valid functional interface."
   ]
  },
  {
   "cell_type": "code",
   "execution_count": 6,
   "metadata": {
    "vscode": {
     "languageId": "java"
    }
   },
   "outputs": [],
   "source": [
    "interface NonFunctional { // 2 abstract methods\n",
    "    double foo(double x);\n",
    "    int bar(int x);\n",
    "}\n",
    "\n",
    "interface Functional {\n",
    "    double foo(double x);\n",
    "}"
   ]
  },
  {
   "attachments": {},
   "cell_type": "markdown",
   "metadata": {},
   "source": [
    "### Anonymous Functions - The Lambda"
   ]
  },
  {
   "attachments": {},
   "cell_type": "markdown",
   "metadata": {},
   "source": [
    "One thing you might've noticed about this pattern of\n",
    "- creating an interface which represents a type of function\n",
    "- creating a class that implements the interface to implement a particular function\n",
    "- creating an instance of the class get a function value.\n",
    "\n",
    "is that it's particularly repetitive to do on it own. Luckily, there are existing constructs in place that help ease that process a bit. For the interface creation, we'll see some existing examples in the java standard library later on. However for the latter steps of creating a class/instance, java provides a core language feature called the `lambda expression`.\n",
    "\n",
    "#### Lambdas\n",
    "\n",
    "Lambda expressions, whose name comes from the related [lambda calculus](https://en.wikipedia.org/wiki/Lambda_calculus)(though knowledge of it won't be necessary here), are a syntactical feature allowing for easier construction of these function values. They are structured [as follows](https://docs.oracle.com/javase/specs/jls/se20/html/jls-15.html#jls-15.27):\n",
    "\n",
    "`(parameter_list) -> lambda_body`\n",
    "\n",
    "```java\n",
    "// e.g.\n",
    "(int x) -> x * 2;\n",
    "(int x) -> {\n",
    "    int y = x*2;\n",
    "    return y;\n",
    "};\n",
    "```\n",
    "\n",
    "where a parameter list containing all the parameters of the function is followed by an arrow pointing towards the body of the lambda.\n",
    "\n"
   ]
  },
  {
   "attachments": {},
   "cell_type": "markdown",
   "metadata": {},
   "source": [
    "The structure of a lambda expression mirrors that of a method definition. The format for the parameter list of both are identical, and the lambda_body is analogous to the method body. The only difference being that if the lambda_body is just one expression, an explicit `return` isn't necessary. "
   ]
  },
  {
   "attachments": {},
   "cell_type": "markdown",
   "metadata": {},
   "source": [
    "### Existing Examples"
   ]
  },
  {
   "cell_type": "markdown",
   "metadata": {},
   "source": [
    "An example already present in java would be the [`Comparator<T>`](https://docs.oracle.com/en/java/javase/17/docs/api/java.base/java/util/Comparator.html) interface, whose body contains one abstract method (amid a medley of static methods): \n",
    "\n",
    "```java\n",
    "// intended behavior for compare:\n",
    "// if compare(o1, o2) is:\n",
    "//     < 0 then o1 < o2 \n",
    "//     = 0 then o1 = o2\n",
    "//     > 0 then o1 > o2\n",
    "interface Comparator<T>{\n",
    "    int compare(T o1, T o2);\n",
    "}\n",
    "```"
   ]
  },
  {
   "cell_type": "markdown",
   "metadata": {},
   "source": [
    "which can then be implemented with the following lambda functions:"
   ]
  },
  {
   "cell_type": "code",
   "execution_count": 7,
   "metadata": {
    "vscode": {
     "languageId": "java"
    }
   },
   "outputs": [
    {
     "name": "stdout",
     "output_type": "stream",
     "text": [
      "1\n",
      "-14\n"
     ]
    }
   ],
   "source": [
    "// standard order comparator for numbers\n",
    "Comparator<Integer> cmp = (i, j) -> i - j;\n",
    "System.out.println(cmp.compare(2, 1));\n",
    "// reverse order comparator for strings\n",
    "Comparator<String> cmp2 = (s1, s2) -> s2.compareTo(s1);\n",
    "System.out.println(cmp2.compare(\"book\", \"barn\"));"
   ]
  },
  {
   "cell_type": "markdown",
   "metadata": {},
   "source": [
    "we could then use our comparators (or existing comparators) with java's library to do things like sort a list"
   ]
  },
  {
   "cell_type": "code",
   "execution_count": 8,
   "metadata": {
    "vscode": {
     "languageId": "java"
    }
   },
   "outputs": [
    {
     "name": "stdout",
     "output_type": "stream",
     "text": [
      "[book, barn, apple, banana, orange, pear]\n",
      "now in reverse order:\n",
      "[pear, orange, book, barn, banana, apple]\n"
     ]
    }
   ],
   "source": [
    "ArrayList<String> xs = new ArrayList<String>();\n",
    "xs.addAll(List.of(\n",
    "    \"book\", \"barn\", \"apple\", \"banana\", \"orange\", \"pear\"\n",
    "));\n",
    "System.out.println(xs);\n",
    "xs.sort(cmp2);\n",
    "System.out.println(\"now in reverse order:\");\n",
    "System.out.println(xs); "
   ]
  },
  {
   "attachments": {},
   "cell_type": "markdown",
   "metadata": {},
   "source": [
    "### Custom Examples"
   ]
  },
  {
   "cell_type": "markdown",
   "metadata": {},
   "source": [
    "we could do the same with our `MyFunction` interface from above, and define `Cube` using a short lambda expression instead of a whole class definition, like so:"
   ]
  },
  {
   "cell_type": "code",
   "execution_count": 9,
   "metadata": {
    "vscode": {
     "languageId": "java"
    }
   },
   "outputs": [
    {
     "name": "stdout",
     "output_type": "stream",
     "text": [
      "[1, 8, 27, 64]\n"
     ]
    }
   ],
   "source": [
    "MyFunction cube = x -> x * x * x;\n",
    "// reusing our map function\n",
    "int[] res = map(new int[]{1,2,3,4}, cube);\n",
    "System.out.println(\n",
    "    Arrays.toString(res)\n",
    ");\n"
   ]
  },
  {
   "cell_type": "markdown",
   "metadata": {},
   "source": [
    "which looks quite a bit cleaner than our definition before."
   ]
  },
  {
   "cell_type": "markdown",
   "metadata": {},
   "source": [
    "#### UserAnalog and UserDigital\n",
    "\n",
    "looking at our previous document, we can see another example of lambdas in use: that being our `UserAnalog` and`UserDigital` interfaces.\n",
    "\n",
    "Looking at their definition, they have the structure as a functional interface, with a singular abstract instance method (and some static helper methods). As such, we can use lambdas to create instances of them, and use them in our code:"
   ]
  },
  {
   "cell_type": "code",
   "execution_count": 10,
   "metadata": {
    "vscode": {
     "languageId": "java"
    }
   },
   "outputs": [
    {
     "name": "stdout",
     "output_type": "stream",
     "text": [
      "3.14\n",
      "true\n"
     ]
    }
   ],
   "source": [
    "// for analog inputs (e.g. joysticks or triggers)\n",
    "public interface UserAnalog {\n",
    "    // ... helper method(s)\n",
    "    // the singular abstract (instance) method\n",
    "    public double get(); \n",
    "}\n",
    "// for digital inputs (e.g. buttons)\n",
    "public interface UserDigital {\n",
    "    // ... helper method(s)\n",
    "    // the singular abstract (instance) method\n",
    "    public boolean get(); // note this returns a boolean instead of a double \n",
    "}\n",
    "UserAnalog ua = () -> 3.14;\n",
    "UserDigital ud = () -> true;\n",
    "System.out.println(ua.get());\n",
    "System.out.println(ud.get());"
   ]
  },
  {
   "attachments": {},
   "cell_type": "markdown",
   "metadata": {},
   "source": [
    "### Method References"
   ]
  },
  {
   "cell_type": "markdown",
   "metadata": {},
   "source": [
    "Beyond lambda expressions, java also provides a contract that allows the creation of references to existing methods. For instance, instead of capitalizing an array of strings using our previous `map` function by providing the lambda expression `(int i) -> Math.abs(i)`, we can create a static method reference for `Math.abs` by using two colons: "
   ]
  },
  {
   "cell_type": "code",
   "execution_count": 11,
   "metadata": {
    "vscode": {
     "languageId": "java"
    }
   },
   "outputs": [
    {
     "name": "stdout",
     "output_type": "stream",
     "text": [
      "[2, 1, 0, 1, 2]\n"
     ]
    }
   ],
   "source": [
    "int[] res = map(new int[]{-2,-1,0,1,2}, Math::abs);\n",
    "System.out.println(\n",
    "    Arrays.toString(res)\n",
    ");"
   ]
  },
  {
   "cell_type": "markdown",
   "metadata": {},
   "source": [
    "method references can also be used to create references to instance methods, by using the instance name instead of the class name:"
   ]
  },
  {
   "cell_type": "code",
   "execution_count": 12,
   "metadata": {
    "vscode": {
     "languageId": "java"
    }
   },
   "outputs": [
    {
     "name": "stdout",
     "output_type": "stream",
     "text": [
      "[6, 7, 8, 9]\n"
     ]
    }
   ],
   "source": [
    "class Num{\n",
    "    int x;\n",
    "    Num(int x){\n",
    "        this.x = x;\n",
    "    }\n",
    "    int add(int y){\n",
    "        return x + y;\n",
    "    }\n",
    "}\n",
    "var five = new Num(5);\n",
    "int [] ret = map(new int[]{1,2,3,4}, five::add);\n",
    "System.out.println(\n",
    "    Arrays.toString(ret)\n",
    ");"
   ]
  },
  {
   "cell_type": "markdown",
   "metadata": {},
   "source": [
    "## An Application: BooleanEvents \n",
    "\n",
    "one way we can use lambdas is to listen for certain events that we then connect with actions. For instance, earlier we introduced a more primitive method of directly polling with our Controller methods and our `UserDigital` and `UserAnalog` interfaces. "
   ]
  },
  {
   "cell_type": "markdown",
   "metadata": {},
   "source": [
    "### Limits of Polling Boolean Inputs\n",
    "\n",
    "While the aforementioned method works well for analog inputs and button-*holding*. It's rather ineffective at listening for button-*pressing* and *releasing*, which involve listening multiple times for changes from `down -> up` or `down -> up`. \n",
    "\n",
    "Furthermore, if we want to bind combinations of button presses to an event (e.g. pressing `A` and `B` at the same time to perform a pre-assigned action), the complexity of the checks grows quite quickly.  "
   ]
  },
  {
   "cell_type": "markdown",
   "metadata": {},
   "source": [
    "\n",
    "### [EventLoop](https://github.wpilib.org/allwpilib/docs/release/java/edu/wpi/first/wpilibj/event/EventLoop.html) and [BooleanEvent](https://github.wpilib.org/allwpilib/docs/release/java/edu/wpi/first/wpilibj/event/BooleanEvent.html) Objects"
   ]
  },
  {
   "cell_type": "markdown",
   "metadata": {},
   "source": [
    "luckily WIPLib supplies us two tools to help with this task. those being the `BooleanEvent` and `EventLoop`. "
   ]
  },
  {
   "cell_type": "code",
   "execution_count": 13,
   "metadata": {
    "vscode": {
     "languageId": "java"
    }
   },
   "outputs": [],
   "source": [
    "// 6 lines below are just for setting up the environment in this particular document\n",
    "// note that this written with 2023 version, so should be updated accordingly in future years if used\n",
    "%mavenRepo wpilib https://frcmaven.wpi.edu/artifactory/release\n",
    "%mavenRepo ctre https://maven.ctr-electronics.com/release\n",
    "%maven edu.wpi.first.wpilibj:wpilibj-java:2023.4.3\n",
    "%maven edu.wpi.first.wpiutil:wpiutil-java:2023.4.3\n",
    "%maven edu.wpi.first.wpimath:wpimath-java:2023.4.3\n",
    "%maven edu.wpi.first.wpilibNewCommands:wpilibNewCommands-java:2023.4.3\n",
    "// necessary imports\n",
    "import edu.wpi.first.wpilibj.event.EventLoop;\n",
    "import edu.wpi.first.wpilibj.event.BooleanEvent;\n",
    "// create boolean event with an event loop\n",
    "var loop = new EventLoop();\n",
    "var event = new BooleanEvent(loop, () -> true);\n",
    "// a demonstration of a more dynamic event\n",
    "var flag = false;\n",
    "var event2 = new BooleanEvent(loop, () -> flag);\n"
   ]
  },
  {
   "cell_type": "markdown",
   "metadata": {},
   "source": [
    "where the EventLoop `loop` acts as the core manager or coordinator of all the boolean events (`event` and `event2`) that we created, and the event itself is an association between that loop and a function (or predicate) that checks whether some condition it fulfilled. This very general description allows it to be used in an assortment of relevant cases, from the aforementioned button presses, to checking if a sensor has reached a certain value, or a combination of both (say pressing a button while a motor has spun up to a desired speed and the robot is oriented to a certain angle). \n",
    "\n",
    "Outside of just associating an event with its condition, the event also allows us to specify what action should be taken when the condition is fulfilled. This is done by passing in another function which does not take or return any values. "
   ]
  },
  {
   "cell_type": "code",
   "execution_count": 14,
   "metadata": {
    "vscode": {
     "languageId": "java"
    }
   },
   "outputs": [],
   "source": [
    "// bind certain actions to the events when their condition is met\n",
    "event.ifHigh(() -> System.out.println(\"alwaying running\"));\n",
    "event2.ifHigh(() -> System.out.println(\"flag on\"));"
   ]
  },
  {
   "cell_type": "markdown",
   "metadata": {},
   "source": [
    "Futhermore, the BooleanEvent class also gives us the tools to construct more complex events from existing ones. Especially important is the ability to listen for *changes* in the condition, instead of just to the condition itself, which can be achieved with the `rising` and `falling` methods, which construct a new event that only fires when the condition changes from `false -> true` or `true -> false` respectively.\n"
   ]
  },
  {
   "cell_type": "code",
   "execution_count": 15,
   "metadata": {
    "vscode": {
     "languageId": "java"
    }
   },
   "outputs": [],
   "source": [
    "// we can also string events together to create more complex events\n",
    "var enabled = event2.rising();\n",
    "var disabled = event2.falling();\n",
    "\n",
    "enabled.ifHigh(() -> System.out.println(\"flag enabled\"));\n",
    "disabled.ifHigh(() -> System.out.println(\"flag disabled\"));\n"
   ]
  },
  {
   "cell_type": "markdown",
   "metadata": {},
   "source": [
    "To then query the status of all of the events (or `poll` them), we'd call the EventLoop's `poll` method, which checks the conditions for all associated events and if they are true, executes the associated action."
   ]
  },
  {
   "cell_type": "code",
   "execution_count": 16,
   "metadata": {
    "vscode": {
     "languageId": "java"
    }
   },
   "outputs": [
    {
     "name": "stdout",
     "output_type": "stream",
     "text": [
      "alwaying running\n",
      "----------------\n",
      "alwaying running\n",
      "flag on\n",
      "flag enabled\n",
      "----------------\n",
      "alwaying running\n",
      "flag disabled\n",
      "----------------\n"
     ]
    },
    {
     "name": "stdout",
     "output_type": "stream",
     "text": [
      "alwaying running\n"
     ]
    }
   ],
   "source": [
    "// poll to invoke actions\n",
    "loop.poll();\n",
    "System.out.println(\"-\".repeat(16));\n",
    "// set flag and try again\n",
    "flag = true;\n",
    "loop.poll(); \n",
    "System.out.println(\"-\".repeat(16));\n",
    "// ... and again\n",
    "flag = false;\n",
    "loop.poll();\n",
    "System.out.println(\"-\".repeat(16));\n",
    "// ... and once more\n",
    "loop.poll();"
   ]
  },
  {
   "cell_type": "markdown",
   "metadata": {},
   "source": [
    "In practice, this would most likely be called in one of the `periodic` methods of our Robot class in order to avoid missing any event activations. \n",
    "\n",
    "```java\n",
    "@Override \n",
    "public void teleopPeriodic(){\n",
    "    // other code...\n",
    "    loop.poll();\n",
    "}\n",
    "```"
   ]
  },
  {
   "cell_type": "markdown",
   "metadata": {},
   "source": [
    "Events can also be constructed using logical operations (and, or, not) on existing events, which allows us to create more complex events from simpler ones. For instance, if we had event `a` for button `A` being held, and event `b` for button `B` being held, we could create an event `c` for when only one of is `A` and `B` being pressed with the following snippet: \n",
    "    \n",
    "```java\n",
    "// a && !b || !a && b (aka a xor b but alas no xor method)\n",
    "var c = a.and(b.negate()).or(a.negate().and(b));\n",
    "```"
   ]
  },
  {
   "cell_type": "markdown",
   "metadata": {},
   "source": [
    "> Note: in practice, many events that are prone to rapid changes (such as button presses) should be filtered with the `debounce` method, which prevents the event from unwantingly firing multiple times in a short period and repeatedly triggering the associated action.\n",
    "\n",
    "> Note2: chaining the rising and falling for the same event in order to listen for changes in the condition might not work as expected, at least not in the demonstration environment, perhaps due to their measurement changing the internal state of the event. As such, consider attaching the same action for the seperate rising and falling events. For any maintainer reading this, check if adding a debounce rectified this issue."
   ]
  },
  {
   "attachments": {},
   "cell_type": "markdown",
   "metadata": {},
   "source": [
    "## Commands \n",
    "\n",
    "> represent actions the robot can take. Commands run when scheduled, until they are interrupted or their end condition is met. Commands are very recursively composable: commands can be composed to accomplish more-complicated tasks\n",
    "\n",
    "Commands form the second important abstraction in the command-based paradigm and are the backbone for implementing more complex robot behaviors. Whereas subsystems are simple groupings of individual hardware devices that work together as one unit, Commands allow for the modeling of more sophisticated, high level actions more akin to how we might describe them in natural language.\n"
   ]
  },
  {
   "attachments": {},
   "cell_type": "markdown",
   "metadata": {},
   "source": [
    "### A Basic Structure / The Manual Way \n",
    "\n",
    "Commands, like described in the text above, run when scheduled, until they are interrupted or their end condition is met, and so primarily consist of four core methods to facilitate that workflow: \n",
    "1. `initialize` - called once when the command is first scheduled and starts execution\n",
    "    - where any necessary setup should be done (similar to the `Init` methods in `Robot`)\n",
    "2. `execute` - called repeatedly while the command is scheduled\n",
    "    - where the bulk of the command's logic should be placed (similar to the `Periodic` methods in `Robot`)\n",
    "3. `isFinished` - called repeatedly while the command is scheduled\n",
    "    - determines whether the objective of the command has been met\n",
    "4. `end` - called once when the command is finished to do any necessary cleanup   \n",
    "    - method has an `interrupted` parameter that describes whether it finished successfully (`interrupted=false`) or was shut down by the scheduler (`interrupted=true`)\n",
    "\n",
    "Commands can be manually created by extending the `CommandBase` class, the template for creating arbitrary commands, and overriding the aforementioned methods to achieve the desired behavior. \n",
    "\n",
    "In CommandBase, the default behavior for each `initalize`, `execute`, and `end` is to do nothing, and the default behavior for `isFinished` is to return `false`, which means that the default command will run until the robot is disabled and will do nothing. \n",
    " \n",
    " \n"
   ]
  },
  {
   "cell_type": "code",
   "execution_count": 17,
   "metadata": {
    "vscode": {
     "languageId": "java"
    }
   },
   "outputs": [],
   "source": [
    "// disclaimer: this was written with 2023 version, so should be updated accordingly in future years if used\n",
    "// in particular, CommandBase will be deprecated, and the new Command class will take over its function\n",
    "// at present, Command is an interface, not a class, so CommandBase is used here instead\n",
    "import edu.wpi.first.wpilibj2.command.CommandBase;\n",
    "\n",
    "class ExampleCommand extends CommandBase {\n",
    "    @Override\n",
    "    public void initialize() {\n",
    "        System.out.println(\"initializing\");\n",
    "    }\n",
    "\n",
    "    @Override\n",
    "    public void execute() {\n",
    "        System.out.println(\"executing\");\n",
    "    }\n",
    "\n",
    "    @Override\n",
    "    public void end(boolean interrupted) {\n",
    "        if (interrupted) {\n",
    "            System.out.println(\"interrupted\");\n",
    "        } else {\n",
    "            System.out.println(\"ending\");\n",
    "        }\n",
    "    }\n",
    "}\n"
   ]
  },
  {
   "attachments": {},
   "cell_type": "markdown",
   "metadata": {},
   "source": [
    "### Managing Requirements\n",
    "\n",
    "A Command like the one constructed above isn't very helpful on its own, commands often need to interact with subsystems to perform their desired task. To specify which subsystems are required, we need to call the `addRequirements` method of `CommandBase` on all the subsystems that we need.\n",
    "\n",
    "Specifying which requirements a command has is important for the scheduler (thing that manages execution of our commands) to know in order to avoid conflicts, such as a case where two commands are try to use the same subsystem at the same time but with differing inputs. \n",
    "\n",
    "In the case of these manually defined events, this is often done in the constructor where the relevant subsytems are passed in as parameters:\n",
    "\n",
    "> Aside: this is an example of a pattern called `dependency injection` where things that the command needs (dependencies) are provided (injected). Here, this pattern helps seperate the creation and usage of our subsystems\n"
   ]
  },
  {
   "cell_type": "code",
   "execution_count": 18,
   "metadata": {
    "vscode": {
     "languageId": "java"
    }
   },
   "outputs": [],
   "source": [
    "import edu.wpi.first.wpilibj2.command.SubsystemBase;\n",
    "import edu.wpi.first.wpilibj2.command.CommandBase;\n",
    "\n",
    "class ExampleSubsystem extends SubsystemBase {\n",
    "    // subsystem code here\n",
    "}\n",
    "\n",
    "class ExampleCommand extends CommandBase {\n",
    "    public ExampleCommand(ExampleSubsystem subsys1, ExampleSubsystem subsys2){\n",
    "        this.addRequirements(subsys1, subsys2); \n",
    "    }\n",
    "    @Override\n",
    "    public void execute() {\n",
    "        // do stuff\n",
    "    }\n",
    "}"
   ]
  },
  {
   "cell_type": "markdown",
   "metadata": {},
   "source": [
    "#### Default Commands\n",
    "\n",
    "One particular usage for commands command usage for a command is to have it always run on one or more specific subsystems. These commands often handle core background tasks that are essential to the function of the robot, like a `drive` command that controls robot motion.\n",
    "\n",
    "When the subsystem is not being used by another command, the specified default command will run.\n",
    "\n",
    "```java\n",
    "// complete but simplified example of a manually defined command that acts \n",
    "public class ClimberCommand extends CommandBase {\n",
    "    private final Climber climber;\n",
    "    private final UserAnalog speed;\n",
    "    // climber is the subsystem which will default to this command\n",
    "    public ClimberCommand(Climber climber, UserAnalog speed) {\n",
    "        this.climber = climber;\n",
    "        this.speed = speed;\n",
    "        // works b/c addRequirements is a method of CommandBase\n",
    "        this.addRequirements(climber);\n",
    "        // making it a default command\n",
    "        climber.setDefaultCommand(this);\n",
    "    }\n",
    "\n",
    "    @Override\n",
    "    public void execute() {\n",
    "        climber.extend(speed.get(), false);\n",
    "    }\n",
    "}\n",
    "```"
   ]
  },
  {
   "cell_type": "markdown",
   "metadata": {},
   "source": [
    "### [The Command Scheduler](https://docs.wpilib.org/en/stable/docs/software/commandbased/command-scheduler.html)\n",
    "\n",
    "Now that we have our command, how do we run it? We defined methods for what to do in different cases with `initalize`, `execute`, and `end`, but we never called them anywhere.\n",
    "\n",
    "In the command-based framework, the construct that handles this, as well as the general logic of commands for us is the `CommandScheduler`. The job of the scheduler here is similar to the `EventLoop` from the previous section about `BooleanEvent`s, in that it manages every aspect of the execution of commands like an `EventLoop` manages its events and their associated actions.\n",
    "\n",
    "Like how the EventLoop must be `poll`ed regularly, so too must the CommandScheduler be `run` regularly. This is done by calling the `run` method of the scheduler in the `robotPeriodic` method of our Robot class.\n",
    "\n",
    "However, one important difference is that there is only one copy of the CommandScheduler, and it is a static field of the `CommandScheduler` class. As such, we don't need to create an instance of it, and can instead just call the `getInstance` method to get the scheduler.\n",
    "\n",
    "\n",
    "```java\n",
    "import edu.wpi.first.wpilibj.TimedRobot;\n",
    "import edu.wpi.first.wpilibj2.command.CommandScheduler;\n",
    "public class Robot extends TimedRobot {\n",
    "    @Override\n",
    "    public void robotPeriodic(){\n",
    "        // this specific pattern is called the 'singleton' pattern\n",
    "        CommandScheduler.getInstance().run();\n",
    "    }\n",
    "}\n",
    "```"
   ]
  },
  {
   "cell_type": "markdown",
   "metadata": {},
   "source": [
    "To directly add our commands to the scheduler, the `schedule` method of the command can be used:\n",
    "\n",
    "```java\n",
    "var exCmd = new ExampleCommand(subsys1, subsys2);\n",
    "exCnd.schedule();\n",
    "```"
   ]
  },
  {
   "attachments": {},
   "cell_type": "markdown",
   "metadata": {},
   "source": [
    "### A More Concise Way of Creating Commands\n",
    "\n",
    "While the manual way of defining commands works (and which we used the past few years), it's rather verbose and repetitive in its structure, such it's usage of constructor parameters to pass in the required subsystems and inputs. \n",
    "\n",
    "Looking at the above ClimberCommand, we can see this is the case, as its fields serve only to give the methods access to the inputs and subsystems without housing any other internal state.\n",
    "\n",
    "In cases like this where we don't need to modify any internal state, we are able to create lambdas for each of the four (`initialize`, `execute`, `end`, and `isFinished`) methods and create a `FunctionalCommand` by providing by providing those lambdas and any required subsystems to its constructor.\n",
    "\n",
    "```java\n",
    "import edu.wpi.first.wpilibj2.command.FunctionalCommand;\n",
    "// ... in RobotContainer for instance:\n",
    "Climber climber = ...;\n",
    "UserAnalog speed = ...;\n",
    "var climberCommand =  new FunctionalCommand(\n",
    "    // initialize\n",
    "    () -> {},\n",
    "    // execute\n",
    "    () -> climber.extend(speed.get(), false),\n",
    "    // end\n",
    "    interrupt -> {},\n",
    "    // isFinished\n",
    "    () -> false,\n",
    "    // requirements\n",
    "    climber\n",
    ")\n",
    "```\n",
    "\n",
    "In addition to `FunctionalCommand`, there are also a collection of additional [preset command classes](https://docs.wpilib.org/en/stable/docs/software/commandbased/commands.html#included-command-types) that can be used to create commands for other common and niche use cases. Most of these are also accessible through corresponding factory methods, with the idea of representing the four behaviors ."
   ]
  },
  {
   "attachments": {},
   "cell_type": "markdown",
   "metadata": {},
   "source": [
    "## Command Factories\n",
    "\n",
    "The bulk of the useful factory methods for commands are found in the [`Commands`](https://github.wpilib.org/allwpilib/docs/release/java/edu/wpi/first/wpilibj2/command/Commands.html) class as static methods where the particular inputs for each factory can be found in the above link.\n",
    "\n",
    "### General Command Factories\n",
    "\n",
    "These command factories usually take one or more functions that describe the behaviors (`initalize`, `execute`,  `isFinished`, and `end`) of the command, as well as any required subsystems. \n",
    "\n",
    "The command created by:\n",
    "- `runOnce(action, reqs...)` runs `action` once and terminates\n",
    "- `startEnd(start, end, reqs...)`  runs `start` when it starts and `end` when it gets interrupted\n",
    "- `run(action, reqs...)` runs `action` everytime until interrupted \n",
    "-  `runEnd(run, end, reqs... )` runs `run` everytime until interrupted and then runs `end` once\n",
    "\n",
    "```java\n",
    "var cmd = Commands.runOnce(() -> System.out.println(\"Hello World\"));\n",
    "```\n",
    "> note: if you want to avoid repetition of \"Commands.\" you can use a static import, which will add all static methods of Commands to the namespace of the file. \n",
    "> ```java \n",
    "> import static edu.wpi.first.wpilibj2.command.Commands.*;\n",
    "> // ...\n",
    "> var cmd = runOnce(() -> System.out.println(\"Hello World\"));\n",
    "> ```\n",
    "\n",
    "\n",
    "### Timed Commands\n",
    "a specialized pair of methods whose resulting commands do nothing for a while. These are useful when sequenced with other commands to create a delay between them and wait until conditions are ideal for the next command to run.\n",
    "\n",
    "Since these commands do nothing, they don't need any subsystems as requirements:\n",
    "\n",
    "The command created by:\n",
    "- `waitSeconds(seconds)` - waits `seconds` before finishing\n",
    "- `waitUntil(condition)` - waits until `condition` is true before finishing\n",
    "\n",
    "\n"
   ]
  },
  {
   "cell_type": "markdown",
   "metadata": {},
   "source": [
    "### Combining Commands\n",
    "\n",
    "the Commands class also includes a collection of methods for combining commands together to create more complex behaviors, such as creating sequences of events, running commands in parallel, and selecting events based on conditions.\n",
    "\n",
    "Typically these types of combinators take one or more commands and return a new command that represents the combination of the original commands.\n"
   ]
  },
  {
   "cell_type": "markdown",
   "metadata": {},
   "source": [
    "\n",
    "#### Sequential Commands\n",
    "\n",
    "sequential chains of commands can be created with the `sequence` and `repeatingSequence` methods. Both run their commands in order, but `repeatingSequence` will repeat the sequence once it finishes. E.g.:\n",
    "\n",
    "```java\n",
    "// should finish in ~3 second when the last print has been finished\n",
    "\n",
    "var seqcmd = Commands.sequence(\n",
    "    Commands.runOnce(() -> System.out.println(\"first\")),\n",
    "    Commands.waitSeconds(1),\n",
    "    Commands.runOnce(() -> System.out.println(\"second\")),\n",
    "    Commands.waitSeconds(2),\n",
    "    Commands.runOnce(() -> System.out.println(\"third\"))\n",
    ");\n",
    "```\n"
   ]
  },
  {
   "cell_type": "markdown",
   "metadata": {},
   "source": [
    "\n",
    "#### Parallel Commands\n",
    "\n",
    "parallel commands can be created with the `parallel` and `race` methods, which runs all of its commands at the same time. The event created by `parallel` will finish when all of its commands finish, while the event created by `race` will terminate when any of its commands finish. E.g.:\n",
    "\n",
    "```java\n",
    "// should finish in ~2 seconds, when the last print is done\n",
    "var parcmd = Commands.parallel(\n",
    "    Commands.runOnce(() -> System.out.println(\"first\")),\n",
    "    Commands.waitSeconds(1),\n",
    "    Commands.runOnce(() -> System.out.println(\"second\")),\n",
    "    Commands.waitSeconds(2),\n",
    "    Commands.runOnce(() -> System.out.println(\"third\"))\n",
    ");\n",
    "```\n"
   ]
  },
  {
   "cell_type": "markdown",
   "metadata": {},
   "source": [
    "\n",
    "If we want to use a particular event to determine when a parallel command should terminate, we'd use the `deadline` method, whose event terminates when its first argument finishes. \n",
    "\n",
    "#### Selective Commands\n",
    "\n",
    "The `either` and `select` factories allows for the creation of commands that run one of two commands  or more commands respectively, based on the result of a condition (boolean for `either` and some object for `select`). E.g.:\n",
    "\n",
    "```java\n",
    "var cmd1 = Commands.either(\n",
    "    Commands.runOnce(() -> System.out.println(\"t\")),\n",
    "    Commands.runOnce(() -> System.out.println(\"f\")),\n",
    "    () -> true\n",
    "); // gives a command that prints \"t\"\n",
    "\n",
    "var cmd2 = Commands.select(\n",
    "    Map.of(\n",
    "        1, Commands.runOnce(() -> System.out.println(\"one\")),\n",
    "        2, Commands.runOnce(() -> System.out.println(\"two\"))\n",
    "        4, Commands.runOnce(() -> System.out.println(\"four\"))\n",
    "    ),\n",
    "    () -> 4\n",
    "); // gives a command that prints \"four\"\n",
    "```"
   ]
  },
  {
   "cell_type": "markdown",
   "metadata": {},
   "source": [
    "## Triggers : An Addendum \n",
    "With the introduction of Commands, it is also useful to look at an additional construction that we can use to associate commands with events in the same way BooleanEvents work with actions. Here WPILib provides us with the `Trigger` class, which mirrors the `BooleanEvent` class in many ways, but instead of taking in an action as a `Runnable` function, it takes in a `Command` instead. \n",
    "\n",
    "The exact set of functionality provided by Triggers can be found in its [javadoc](https://github.wpilib.org/allwpilib/docs/release/java/edu/wpi/first/wpilibj2/command/button/Trigger.html). Some of the method names change between the two classes (such as onFalse and onTrue instead of falling and rising). Also since Commands are more versatile than actions used in BooleanEvents, `Trigger` has some methods which do not have parallels in `BooleanEvent`, such as the while methods and the toggle methods. \n",
    "\n",
    "Triggers also allow us to directly link controller inputs to their associated functions, and as a result, (with the exception of default events) much of the scheduling of commands during the teleop phase can be done with Triggers instead of being done manually: E.g.:\n",
    "\n",
    "```java\n",
    "// in RobotContainer\n",
    "var intake = new Intake(); // subsystem\n",
    "var in = /* get button input (next section) */;\n",
    "var out = /* get button input (next section) */;\n",
    "in.whileTrue(intake.suckCommand(1));\n",
    "out.whileTrue(intake.suckCommand(-1));\n",
    "```\n",
    "\n",
    "In addition, when they are manually created, Triggers have the option of either being bound to an EventLoop like BooleanEvents, or to the CommandScheduler, based on whether they recieve an EventLoop or not in the constructor. Examples on how Triggers can be used in conjunction with commands can be found [here](https://docs.wpilib.org/en/stable/docs/software/commandbased/binding-commands-to-triggers.html). "
   ]
  },
  {
   "attachments": {},
   "cell_type": "markdown",
   "metadata": {},
   "source": [
    "### Getting Trigger Objects\n",
    "\n",
    "Triggers, by their design, are very suited for usage with user inputs. As such, the WPILib library provides a collection of methods for creating Triggers from inputs, and our own `UserDigital` interface has a helper method for creating a Trigger.\n",
    "\n",
    "#### From UserDigital\n",
    "\n",
    "The UserDigital interface has a default method `asTrigger` which creates a Trigger from the UserDigital object. \n",
    "```java\n",
    "UserDigital in = () -> true;\n",
    "var trigger = in.asTrigger();\n",
    "```\n",
    "\n",
    "> Note: UserDigital also has a asBooleanEvent method which creates a BooleanEvent from the UserDigital object when provided with an EventLoop argument. There is currently no method to create a trigger with an EventLoop from a UserDigital.\n",
    "\n",
    "#### From Digital Inputs More Generally\n",
    "\n",
    "The command-based input classes, such as `CommandXboxController` or `CommandGenericHID` for general inputs have methods for their digital (button) inputs that create Triggers from them. As an example, to create a Trigger from the `A` button of an `XboxController`:\n",
    "\n",
    "```java\n",
    "import edu.wpi.first.wpilibj2.command.button.CommandXboxController;\n",
    "var controller = new CommandXboxController(0); //input being the port on driver station\n",
    "var trigger = controller.a(); // an eventLoop can also be provided\n",
    "```\n"
   ]
  },
  {
   "cell_type": "markdown",
   "metadata": {},
   "source": [
    "### The in-depth descriptions\n",
    "\n",
    "https://docs.wpilib.org/en/stable/docs/software/commandbased/structuring-command-based-project.html\n",
    "\n",
    "### Documentation\n",
    "\n",
    "- https://first.wpi.edu/wpilib/allwpilib/docs/release/java/index.html\n",
    "- https://api.ctr-electronics.com/phoenix/release/java/index.html\n",
    "- https://codedocs.revrobotics.com/java/com/revrobotics/package-summary.html"
   ]
  }
 ],
 "metadata": {
  "kernelspec": {
   "display_name": "Java",
   "language": "java",
   "name": "java"
  },
  "language_info": {
   "codemirror_mode": "java",
   "file_extension": ".jshell",
   "mimetype": "text/x-java-source",
   "name": "Java",
   "pygments_lexer": "java",
   "version": "11.0.16.1+1-LTS"
  },
  "orig_nbformat": 4
 },
 "nbformat": 4,
 "nbformat_minor": 2
}
