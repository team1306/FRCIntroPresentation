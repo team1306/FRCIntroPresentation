{
 "cells": [
  {
   "attachments": {},
   "cell_type": "markdown",
   "metadata": {},
   "source": [
    "# Command Based Programming\n",
    "\n",
    "The previous"
   ]
  },
  {
   "attachments": {},
   "cell_type": "markdown",
   "metadata": {},
   "source": [
    "## Lambdas"
   ]
  },
  {
   "attachments": {},
   "cell_type": "markdown",
   "metadata": {},
   "source": [
    "### Functional Interfaces and Anonymous Functions"
   ]
  },
  {
   "attachments": {},
   "cell_type": "markdown",
   "metadata": {},
   "source": [
    "### Method References"
   ]
  },
  {
   "attachments": {},
   "cell_type": "markdown",
   "metadata": {},
   "source": [
    "## Why Does it Matter: The Issue with Just Having Subsystems"
   ]
  },
  {
   "cell_type": "markdown",
   "metadata": {},
   "source": [
    "Having *just* `Subsystem` as an abstraction still falls short in a big way:"
   ]
  },
  {
   "attachments": {},
   "cell_type": "markdown",
   "metadata": {},
   "source": [
    "## Commands "
   ]
  },
  {
   "attachments": {},
   "cell_type": "markdown",
   "metadata": {},
   "source": [
    "### A Basic Structure / The Manual Way "
   ]
  },
  {
   "attachments": {},
   "cell_type": "markdown",
   "metadata": {},
   "source": [
    "#### A Command's Constituent Components"
   ]
  },
  {
   "attachments": {},
   "cell_type": "markdown",
   "metadata": {},
   "source": [
    "#### CommandBase and A Worked Example"
   ]
  },
  {
   "attachments": {},
   "cell_type": "markdown",
   "metadata": {},
   "source": [
    "### A Better, Functional Way"
   ]
  },
  {
   "attachments": {},
   "cell_type": "markdown",
   "metadata": {},
   "source": [
    "#### Command Factories\n"
   ]
  },
  {
   "attachments": {},
   "cell_type": "markdown",
   "metadata": {},
   "source": [
    "#### Some Selected Examples"
   ]
  },
  {
   "attachments": {},
   "cell_type": "markdown",
   "metadata": {},
   "source": [
    "## Events and Triggers : An Addendum to Inputs "
   ]
  },
  {
   "attachments": {},
   "cell_type": "markdown",
   "metadata": {},
   "source": [
    "### Limits of Polling Boolean Inputs"
   ]
  },
  {
   "attachments": {},
   "cell_type": "markdown",
   "metadata": {},
   "source": [
    "### Eventloop and BooleanEven Objects"
   ]
  },
  {
   "attachments": {},
   "cell_type": "markdown",
   "metadata": {},
   "source": [
    "### Trigger Objects"
   ]
  },
  {
   "cell_type": "markdown",
   "metadata": {},
   "source": [
    "***We still have to manually check each input case and map that to some chain of actions!!***\n",
    "\n",
    "```java\n",
    "@Override\n",
    "public void robotPeriodic() {\n",
    "    if (/* input case 1*/){\n",
    "        // do something w/ some subsystems\n",
    "    } else if (/* input case 2 */) {\n",
    "        // do something else w/ other subsystems\n",
    "    } ...\n",
    "}\n",
    "```"
   ]
  },
  {
   "cell_type": "markdown",
   "metadata": {},
   "source": [
    "We see that with enough cases and complexity, this pattern becomes unsustainable"
   ]
  },
  {
   "cell_type": "markdown",
   "metadata": {},
   "source": [
    "(note)We also have to manually deal with conflicts in our design; for example if we accidently had 2 input cases that needed to use the same subsystem at the same time.... things would break"
   ]
  },
  {
   "cell_type": "markdown",
   "metadata": {},
   "source": [
    "## Commands\n",
    "\n",
    "> Commands are simple state machines that perform high-level robot functions using the methods defined by subsystems. Commands can be either idle, in which they do nothing, or scheduled, in which the scheduler will execute a specific set of the command’s code depending on the state of the command. The CommandScheduler recognizes scheduled commands as being in one of three states: initializing, executing, or ending. Commands specify what is done in each of these states through the initialize(), execute() and end() methods. \n",
    ">\n",
    "> \\- WPIlib documentation\n",
    "\n",
    "Commands are an abstraction over actions/ responsibilities that can be performed at any given time. "
   ]
  },
  {
   "cell_type": "markdown",
   "metadata": {},
   "source": [
    "### Creating a Command\n",
    "To create a command, extend the `CommandBase` class, and override a few important methods, those being `initialize`, `execute`, `end`, and `isFinished`\n",
    "```java\n",
    "import edu.wpi.first.wpilibj2.command.CommandBase;\n",
    "\n",
    "class ExampleCommand extends CommandBase {\n",
    "  @Override\n",
    "  public void initialize() {}\n",
    "\n",
    "  @Override\n",
    "  public void execute() {}\n",
    "\n",
    "  @Override\n",
    "  public void end(boolean interrupted) {}\n",
    "\n",
    "  @Override\n",
    "  public boolean isFinished(){ return false; }\n",
    "}\n",
    "```"
   ]
  },
  {
   "cell_type": "markdown",
   "metadata": {},
   "source": [
    "`initialize` : when the command starts executing (similar to the `<x>Init` methods)\n",
    "  - set up everything needed for the execution of the command\n",
    "\n",
    "`execute` : while the command is running (similar to the `<x>Periodic` methods)\n",
    "  - the main thing  the action/command is trying to accomplish\n",
    "\n",
    "`end` : directly after the command stops running\n",
    "  - clean up and finalize the command (bring it to a conclusion)\n",
    "  - the `interrupted` parameter is whether it finished successfully (`false`) or was shut down by the scheduler (`true`)\n",
    "\n",
    "`isFinished` checks whether the command has accomplished its goal\n",
    "  - if it returns `true`, then `end` will be called with `false` and execution for the command will stop\n",
    "  - always returning false makes it never stop unless interrupted"
   ]
  },
  {
   "cell_type": "markdown",
   "metadata": {},
   "source": [
    "#### Note : Default Behaviors\n",
    "\n",
    "by default the `end`, `initialize`, and `execute` methods do nothing, and `isFinished` always returns false, so a very simple command that always runs in the background can get away with just overriding `execute`. \n",
    "\n",
    "We'll expand on this later by introducing default commands"
   ]
  },
  {
   "cell_type": "markdown",
   "metadata": {},
   "source": [
    "### Binding Subsystems"
   ]
  },
  {
   "cell_type": "markdown",
   "metadata": {},
   "source": [
    "A Command like that on its own isn't very helpful, commands need to interact with subsystems to perform some useful action. To specify which subsystems, we need to call the `addRequirements` method of `CommandBase` on all the subsystems that we need (usually in the constructor).\n",
    "\n",
    "```java\n",
    "class ExampleCommand extends CommandBase {\n",
    "    public ExampleCommand(){\n",
    "        this.addRequirements(subsys1, subsys2, ...);\n",
    "    }\n",
    "    @Override\n",
    "    public void execute() {\n",
    "        // do stuff\n",
    "    }\n",
    "}\n",
    "```"
   ]
  },
  {
   "cell_type": "markdown",
   "metadata": {},
   "source": [
    "But how do we get those subsystems??? "
   ]
  },
  {
   "cell_type": "markdown",
   "metadata": {},
   "source": [
    "Note : If we created these subsystem in the command, then we'd have duplicate sub-systems for the same components!"
   ]
  },
  {
   "cell_type": "markdown",
   "metadata": {},
   "source": [
    "We can do it cleanly by passing subsystem objects to the constructor:\n",
    "\n",
    "```java\n",
    "class ExampleCommand extends CommandBase {\n",
    "    public ExampleCommand(SubSystemName subsys1, ...){\n",
    "        this.addRequirements(subsys1, ...);\n",
    "    }\n",
    "}\n",
    "```"
   ]
  },
  {
   "cell_type": "markdown",
   "metadata": {},
   "source": [
    "This is an example of a pattern called `dependency injection` where things that the command needs (dependencies) are provided (injected). This helps seperate the creation and usage of out subsystems, in a nod to the principle of `seperation of concerns` from before."
   ]
  },
  {
   "cell_type": "markdown",
   "metadata": {},
   "source": [
    "### Default Commands\n",
    "\n",
    "One particular command usage for a command is to have it always run. These commands often handle core background tasks that are essential to the function of the robot, like a `drive` command that controls robot motion."
   ]
  },
  {
   "cell_type": "markdown",
   "metadata": {},
   "source": [
    "for these types of commands, we can make that command a `default` command of the subsystem:\n",
    "\n",
    "```java\n",
    "class ExampleCommand extends CommandBase {\n",
    "    public ExampleCommand(SubSystemName subsys1){\n",
    "        this.addRequirements(subsys1);\n",
    "        // this refers to the current object\n",
    "        subsys1.setDefaultCommand(this);\n",
    "    }\n",
    "}\n",
    "```"
   ]
  },
  {
   "cell_type": "markdown",
   "metadata": {},
   "source": [
    "If the subsystem is not the requirement of some other command, then this default command will be executed."
   ]
  },
  {
   "cell_type": "markdown",
   "metadata": {},
   "source": [
    "### Example Command"
   ]
  },
  {
   "cell_type": "markdown",
   "metadata": {},
   "source": [
    "```java\n",
    "public class ClimberCommand extends CommandBase {\n",
    "    private final Climber climber;\n",
    "    private final UserAnalog speed;\n",
    "    // climber is the subsystem\n",
    "    public ClimberCommand(Climber climber, UserAnalog speed) {\n",
    "        this.climber = climber;\n",
    "        this.speed = speed;\n",
    "        // works b/c addRequirements is a method of CommandBase\n",
    "        this.addRequirements(climber);\n",
    "        // making it a default command\n",
    "        climber.setDefaultCommand(this);\n",
    "    }\n",
    "\n",
    "    @Override\n",
    "    public void execute() {\n",
    "        climber.extend(speed.get(), false);\n",
    "    }\n",
    "}\n",
    "```"
   ]
  },
  {
   "cell_type": "markdown",
   "metadata": {},
   "source": [
    "## The Command Scheduler\n",
    "\n",
    "Now that we have our command, how do we run it? We defined methods for what to do in different cases with `initalize`, `execute`, and `end`, but we never called them anywhere."
   ]
  },
  {
   "cell_type": "markdown",
   "metadata": {},
   "source": [
    "Luckily, there is something that handles this, as well as the general logic of commands for us: the Command Scheduler."
   ]
  },
  {
   "cell_type": "markdown",
   "metadata": {},
   "source": [
    "Since there should only be 1 instance of the command scheduler, we get it through an `getInstance` static method, e.g.\n",
    "```java\n",
    "// CommandScheduler is what is known as a \"singleton\"\n",
    "CommandScheduler.getInstance().run();\n",
    "```\n",
    "the CommandScheduler instance has 2 methods of use to us: `schedule` and `run`"
   ]
  },
  {
   "cell_type": "markdown",
   "metadata": {},
   "source": [
    "`schedule` sets up a command to be run, and checks whether it makes sense to run the command, and then takes appropriate actions. These checks include:\n",
    " - whether the command is already scheduled\n",
    " - whether the subsystems required aren't already being used\n",
    "   - if they are being used, whether the other commands be interrupted\n",
    "  "
   ]
  },
  {
   "cell_type": "markdown",
   "metadata": {},
   "source": [
    "`run` runs through 1 cycle of the command scheduler, which involves:\n",
    " - running each Subsystem `periodic` method\n",
    " - executing all scheduled commands\n",
    " - seeing which commands have finished and remove them from the schedule"
   ]
  },
  {
   "cell_type": "markdown",
   "metadata": {},
   "source": [
    "### Using commands\n",
    "\n",
    "to use our commands, we'd only need to call `schedule` on them when the correct condition is met. For our default commands, this isn't necessary. For example, if we wanted some command to run at the very start, then we could do: \n",
    "\n",
    "```java\n",
    "@Override\n",
    "public void robotInit() {\n",
    "    CommandScheduler.getInstance().schedule(\n",
    "        new SomeCommand(new SomeSubsystem(...))\n",
    "    );\n",
    "}\n",
    "```"
   ]
  },
  {
   "cell_type": "markdown",
   "metadata": {},
   "source": [
    "We'd also need to reliably run our `CommandScheduler` each cycle, so we would call the `run` method from `robotPeriodic`:\n",
    "\n",
    "```java\n",
    "@Override\n",
    "public void robotPeriodic() {\n",
    "    CommandScheduler.getInstance().run();\n",
    "}\n",
    "```"
   ]
  },
  {
   "cell_type": "markdown",
   "metadata": {},
   "source": [
    "## Digression : Simplicity & Abstraction "
   ]
  },
  {
   "cell_type": "markdown",
   "metadata": {},
   "source": [
    "Both by using the command scheduler as opposed to manually managing our subsystems, and by using subsystems instead of working with individual electronics, we saw that our code got a lot cleaner, and we were also able to better understand its logic. \n",
    "\n",
    "(e.g. It's much easier to understand `drive the robot` as a high level instruction than it is to understand what happens when individual motors are spun)"
   ]
  },
  {
   "cell_type": "markdown",
   "metadata": {},
   "source": [
    "This idea of code being much more understandable as more and more gets hidden and abstracted away from us is a common one in computing in general. In very many applications, it's often important that we see which parts of the problem are important for us as people to reason with, and which parts can be handled without us needing to think about it explicitly."
   ]
  },
  {
   "cell_type": "markdown",
   "metadata": {},
   "source": [
    "## Grouping Commands\n",
    "\n",
    "We've seen how to work with individual commands, but there are many cases where we want two commands to run at the same time (in parallel), or one after the other (in sequence), or in any number of ways depending on the circumstances.\n",
    "\n",
    "Using the existing features, we can use the `initalize` and `end` methods to schedule parallel and sequential commands respectively, but WPILib offers us a much more elegant solution..."
   ]
  },
  {
   "cell_type": "markdown",
   "metadata": {},
   "source": [
    "### Sequencing commands\n",
    "\n",
    "To run one command after another, we can do one of two things.\n",
    "\n",
    "1. we can a `Command`'s `andThen`/`beforeStarting` methods to run commands after/before some command. (Note that `andThen` can take > 1 commands, but `beforeStarting` only takes 1)\n",
    "\n",
    "```java\n",
    "// a chain of commands\n",
    "command1\n",
    "  .andThen(command2, command3)\n",
    "  .beforeStarting(command0);\n",
    "```\n"
   ]
  },
  {
   "cell_type": "markdown",
   "metadata": {},
   "source": [
    "2. we can create a `SequentialCommandGroup` with all the commands we want to run:\n",
    "\n",
    "```java\n",
    "new SequentialCommandGroup(\n",
    "  command0,\n",
    "  command1,\n",
    "  command2,\n",
    "  command3\n",
    ");\n",
    "```"
   ]
  },
  {
   "cell_type": "markdown",
   "metadata": {},
   "source": [
    "the `andThen` and `beforeStarting` methods also return a `SequentialCommandGroup` object, so both these methods can be equally good. `SequentialCommandGroup`s are themselves commands, so they also be used wherever any individual `Command` is needed. (they extend a class which extends CommandBase) "
   ]
  },
  {
   "cell_type": "markdown",
   "metadata": {},
   "source": [
    "### Parallelizing Commands\n",
    "\n",
    "Unlike sequential commands, which just involve running one command, and then running another when the first command finishes, there are many ways to parallelize commands, since those individual commands can end at different times."
   ]
  },
  {
   "cell_type": "markdown",
   "metadata": {},
   "source": [
    "#### We Could...\n",
    "\n",
    "- end when one of the commands ends\n",
    "- end when all of the commands end\n",
    "- end when a specific command ends"
   ]
  },
  {
   "cell_type": "markdown",
   "metadata": {},
   "source": [
    "#### Luckily, we can do all 3\n",
    "\n",
    "1. to end when the one command finishes, we can use the `raceWith` method\n",
    "2. to end when the all commands finish, we can use the `alongWith` method\n",
    "3. to end when a specific command finishes, we can use the `deadlineWith​` method"
   ]
  },
  {
   "cell_type": "markdown",
   "metadata": {},
   "source": [
    "#### Direct Construction"
   ]
  },
  {
   "cell_type": "markdown",
   "metadata": {},
   "source": [
    "Similar to sequenced command groups, we can also directly construct parallel command group object instead of using those methods. As there are three ways to parallelize commands, there are 3 different parallel command groups that we can use.\n",
    "\n",
    "1. ParallelRaceGroup\n",
    "2. ParallelCommandGroup\n",
    "3. ParallelDeadlineGroup"
   ]
  },
  {
   "cell_type": "markdown",
   "metadata": {},
   "source": [
    "The methods from before return values of these types, and values of these parallel groups, like values of sequential command groups, are themselves valid commands"
   ]
  },
  {
   "cell_type": "markdown",
   "metadata": {},
   "source": [
    "### The in-depth description\n",
    "\n",
    "https://docs.wpilib.org/en/stable/docs/software/commandbased/structuring-command-based-project.html\n",
    "\n",
    "### Documentation\n",
    "\n",
    "- https://first.wpi.edu/wpilib/allwpilib/docs/release/java/index.html\n",
    "- https://api.ctr-electronics.com/phoenix/release/java/index.html\n",
    "- https://codedocs.revrobotics.com/java/com/revrobotics/package-summary.html"
   ]
  }
 ],
 "metadata": {
  "language_info": {
   "name": "python"
  },
  "orig_nbformat": 4
 },
 "nbformat": 4,
 "nbformat_minor": 2
}
