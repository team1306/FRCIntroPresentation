{
  "cells": [
    {
      "attachments": {},
      "cell_type": "markdown",
      "metadata": {
        "slideshow": {
          "slide_type": "slide"
        },
        "tags": []
      },
      "source": [
        "# Intro to Java Basics\n",
        "\n",
        "This document will primarily be one about the basics of the java language itself, and involves constructing snippets that represent incomplete parts of a java program. Code written in this document is meant to be replicated on the `jshell` tool that comes with the installation of the jdk. To open jshell, first open your desktop search bar and type `terminal` or `cmd` and click on the first result. you should see a screen that looks like this (Left)\n",
        "\n",
        "Type in `jshell` and it should run the application (Right, with examples of expressions). \n",
        "\n",
        "<center>\n",
        "  <img src=\"../Images/CmdPrompt.png\" height = 300>\n",
        "  <img src=\"../Images/JShell.png\" height = 300>\n",
        "</center>"
      ]
    },
    {
      "cell_type": "markdown",
      "metadata": {
        "slideshow": {
          "slide_type": "slide"
        },
        "tags": []
      },
      "source": [
        "## Statements : Doing Stuff\n",
        "\n",
        "A statement is an action that we want to carry out. Statements in java must end with a semicolon, for example:"
      ]
    },
    {
      "cell_type": "code",
      "execution_count": 1,
      "metadata": {
        "tags": []
      },
      "outputs": [
        {
          "name": "stdout",
          "output_type": "stream",
          "text": [
            "Hello, World!\n"
          ]
        }
      ],
      "source": [
        "System.out.println(\"Hello, World!\"); // print \"Hello, World!\" to output"
      ]
    },
    {
      "attachments": {},
      "cell_type": "markdown",
      "metadata": {},
      "source": [
        "Try running that line in jshell by copy+pasting it, and then hitting enter. you should a line below it that just says `Hello World!`, which represents an output of the line."
      ]
    },
    {
      "cell_type": "markdown",
      "metadata": {
        "slideshow": {
          "slide_type": "fragment"
        },
        "tags": []
      },
      "source": [
        "A statement can also span over multiple lines, as semicolons, not spaces, are used to denote the end of a statement,"
      ]
    },
    {
      "cell_type": "markdown",
      "metadata": {
        "slideshow": {
          "slide_type": "subslide"
        },
        "tags": []
      },
      "source": [
        "For example, the following code block is also a valid statement"
      ]
    },
    {
      "cell_type": "code",
      "execution_count": 2,
      "metadata": {
        "tags": []
      },
      "outputs": [
        {
          "name": "stdout",
          "output_type": "stream",
          "text": [
            "It was the best of times, it was the worst of times, it was the age of wisdom, it was the age of foolishness it was the epoch of belief, it was the epoch of incredulity, it was the season of Light, it was the season of Darkness, it was the spring of hope, it was the winter of despair, we had everything before us, we had nothing before us, we were all going direct to Heaven, we were all going direct the other way\n"
          ]
        }
      ],
      "source": [
        "System.out.println(\n",
        "    \"It was the best of times, it was the worst of times,\"\n",
        "    + \" it was the age of wisdom, it was the age of foolishness\"\n",
        "    + \" it was the epoch of belief, it was the epoch of incredulity,\"\n",
        "    + \" it was the season of Light, it was the season of Darkness,\"\n",
        "    + \" it was the spring of hope, it was the winter of despair,\"\n",
        "    + \" we had everything before us, we had nothing before us,\"\n",
        "    + \" we were all going direct to Heaven,\"\n",
        "    + \" we were all going direct the other way\"\n",
        "); "
      ]
    },
    {
      "attachments": {},
      "cell_type": "markdown",
      "metadata": {},
      "source": [
        "Likewise here, try also pasting the entire expression into jshell and verify that what gets printed is correct."
      ]
    },
    {
      "cell_type": "markdown",
      "metadata": {
        "slideshow": {
          "slide_type": "slide"
        }
      },
      "source": [
        "## Comments : Clarifying Code\n",
        "\n",
        "The text following a `//` is called a **comment**, and it has no impact on the actual program - however, they are useful as they can help us explain our code, and let us better understand our code when we come back to it later on.\n",
        "\n",
        "`//` comments out only the text on the same line, so the text on the next line is ran normally"
      ]
    },
    {
      "cell_type": "code",
      "execution_count": 3,
      "metadata": {
        "slideshow": {
          "slide_type": "fragment"
        }
      },
      "outputs": [
        {
          "name": "stdout",
          "output_type": "stream",
          "text": [
            "0\n"
          ]
        }
      ],
      "source": [
        "// prints out the number of submarines in the sky\n",
        "System.out.println(0);"
      ]
    },
    {
      "cell_type": "markdown",
      "metadata": {},
      "source": [
        "comments can also span multiple lines, so long as they begin with `/*` and end with `*/`"
      ]
    },
    {
      "cell_type": "code",
      "execution_count": 4,
      "metadata": {},
      "outputs": [
        {
          "name": "stdout",
          "output_type": "stream",
          "text": [
            "0\n"
          ]
        }
      ],
      "source": [
        "/*\n",
        " * This is a multiline comment\n",
        " * It can span multiple lines\n",
        " * This prints out the number of submarines in the sky by the way\n",
        " */\n",
        "System.out.println(0);"
      ]
    },
    {
      "attachments": {},
      "cell_type": "markdown",
      "metadata": {
        "slideshow": {
          "slide_type": "slide"
        }
      },
      "source": [
        "## Variables : Giving Values Names\n",
        "\n",
        "constant values like `0` in don't tell us much about its meaning or significance (it could be the temperature or the amount of cookies left in a jar), instead we can pair that value with a name that explains what it means. In java, we'd do this by creating (or `initializing`) a variable.\n",
        "\n",
        "<center>\n",
        "  <img src=\"..\\Images\\SkySub.png\" alt = \"\"/>\n",
        "</center>"
      ]
    },
    {
      "cell_type": "code",
      "execution_count": 5,
      "metadata": {
        "slideshow": {
          "slide_type": "fragment"
        }
      },
      "outputs": [
        {
          "name": "stdout",
          "output_type": "stream",
          "text": [
            "0\n"
          ]
        }
      ],
      "source": [
        "int skySubmarines = 0;             // create a variable\n",
        "System.out.println(skySubmarines); // print out its value"
      ]
    },
    {
      "attachments": {},
      "cell_type": "markdown",
      "metadata": {},
      "source": [
        "Here try pasting the lines individually into jshell, first do `int skySubmarines = 0;`, and then `System.out.println(skySubmarines);` (as programs run from top to bottom). \n",
        "\n",
        "<center>\n",
        "  <img src=\"../Images/JShellVariable.png\" width = 500>\n",
        "</center>\n",
        "\n",
        "You should see that for the first line, the jshell output, rather than being empty since nothing is outputted, is instead `skySubmarines ==> 0`. This tells us that the result of that statement was the creation (or re-assignment) of a variable `skySubmarines` with the value `0`. This was also what the outputs for the example image at the start were with `$1` and `$2`, as if you just input an expression like `1+1`, it will automatically assign it a variable name like `$1` in case you need that value later on.  "
      ]
    },
    {
      "cell_type": "markdown",
      "metadata": {
        "slideshow": {
          "slide_type": "subslide"
        }
      },
      "source": [
        "Notice that variables also have an associated type, which tells us what kind of value it holds. \n",
        "\n",
        "The core simple types are:\n",
        " - `int`, which holds a positive or negative integer (e.g. -1, 0, 59)\n",
        " - `char`, which holds a character, (e.g. `a`, `4`, or `{`)\n",
        " - `boolean`, which is either `true` or `false`\n",
        " - `double`, which holds some decimal number (e.g. -3.14, 2.718, 1.618)\n",
        "\n",
        "(less importantly, there is also `short` and `long`, which are similar to `int` but have a different size, as well as `float`, which is similar to a `double`, but smaller)\n",
        "\n",
        " attempting to hold a value that isnt of the correct type will error, with the exception of `double` holding an `int`, since java can automatically convert from int to double"
      ]
    },
    {
      "cell_type": "code",
      "execution_count": 6,
      "metadata": {
        "slideshow": {
          "slide_type": "subslide"
        }
      },
      "outputs": [],
      "source": [
        "int age = 51;\n",
        "char middleInitial = 'M'; // note that characters are denoted by single quotes\n",
        "boolean isMarried = true;\n",
        "double heightInMeters = 1.78;\n",
        "double age2 = age; // not the same type, but since ints are valid doubles, it works"
      ]
    },
    {
      "cell_type": "code",
      "execution_count": 1,
      "metadata": {},
      "outputs": [
        {
          "ename": "CompilationException",
          "evalue": "",
          "output_type": "error",
          "traceback": [
            "\u001b[1m\u001b[30m|   \u001b[1m\u001b[30mchar age3 = \u001b[0m\u001b[1m\u001b[30m\u001b[41mage\u001b[0m\u001b[1m\u001b[30m; // incorrect type; will error (try in jshell)\u001b[0m",
            "\u001b[1m\u001b[31mcannot find symbol\u001b[0m",
            "\u001b[1m\u001b[31m  symbol:   variable age\u001b[0m",
            ""
          ]
        }
      ],
      "source": [
        "\n",
        "char age3 = age; // incorrect type; will error (try in jshell)"
      ]
    },
    {
      "cell_type": "markdown",
      "metadata": {
        "slideshow": {
          "slide_type": "subslide"
        }
      },
      "source": [
        "another common but less simple type is the `string`, which is a grouping of characters"
      ]
    },
    {
      "cell_type": "code",
      "execution_count": null,
      "metadata": {
        "tags": []
      },
      "outputs": [],
      "source": [
        "String name = \"Alfred Boris Cruz\"; "
      ]
    },
    {
      "attachments": {},
      "cell_type": "markdown",
      "metadata": {
        "slideshow": {
          "slide_type": "fragment"
        },
        "tags": []
      },
      "source": [
        "note that strings are denoted by double quotes - using single quotes for a string will result in an error\n"
      ]
    },
    {
      "cell_type": "code",
      "execution_count": null,
      "metadata": {},
      "outputs": [
        {
          "ename": "CompilationException",
          "evalue": "",
          "output_type": "error",
          "traceback": [
            "\u001b[1m\u001b[30m|   \u001b[1m\u001b[30mString name2 = \u001b[0m\u001b[1m\u001b[30m\u001b[41m\u001b[0m\u001b[1m\u001b[30m'Alfred Boris Cruz'; \u001b[0m",
            "\u001b[1m\u001b[31munclosed character literal\u001b[0m",
            ""
          ]
        }
      ],
      "source": [
        "String name2 = 'Alfred Boris Cruz'; "
      ]
    },
    {
      "cell_type": "markdown",
      "metadata": {
        "slideshow": {
          "slide_type": "subslide"
        },
        "tags": []
      },
      "source": [
        "After being declared, variables can be modified, or `assigned` to. The way to do this is similar to creating the variable, just without including the type. Note that trying to change a variable to a value of a different type will produce an error."
      ]
    },
    {
      "cell_type": "code",
      "execution_count": null,
      "metadata": {
        "tags": []
      },
      "outputs": [],
      "source": [
        "age = 52;  // <variable_name> = <new_value>\n",
        "isMarried = false;"
      ]
    },
    {
      "cell_type": "code",
      "execution_count": null,
      "metadata": {},
      "outputs": [
        {
          "ename": "CompilationException",
          "evalue": "",
          "output_type": "error",
          "traceback": [
            "\u001b[1m\u001b[30m|   \u001b[1m\u001b[30misMarried = \u001b[0m\u001b[1m\u001b[30m\u001b[41m0\u001b[0m\u001b[1m\u001b[30m;\u001b[0m",
            "\u001b[1m\u001b[31mincompatible types: int cannot be converted to boolean\u001b[0m",
            ""
          ]
        }
      ],
      "source": [
        "isMarried = 0;"
      ]
    },
    {
      "attachments": {},
      "cell_type": "markdown",
      "metadata": {
        "slideshow": {
          "slide_type": "subslide"
        },
        "tags": []
      },
      "source": [
        "Variables can also be created, but not initialized - this is refered to as either the `declaration` or `definition` of the variable.\n",
        "\n",
        "if a variable is created in this way, it must be assigned to later on - using it without assigning a value will produce an error\n"
      ]
    },
    {
      "cell_type": "code",
      "execution_count": null,
      "metadata": {},
      "outputs": [
        {
          "ename": "CompilationException",
          "evalue": "",
          "output_type": "error",
          "traceback": [
            "\u001b[1m\u001b[30m|   \u001b[1m\u001b[30m    System.out.println(\u001b[0m\u001b[1m\u001b[30m\u001b[41mk\u001b[0m\u001b[1m\u001b[30m); \u001b[0m",
            "\u001b[1m\u001b[31mvariable k might not have been initialized\u001b[0m",
            ""
          ]
        }
      ],
      "source": [
        "{ // explicit block used here because of how jshell works\n",
        "    boolean k;\n",
        "    System.out.println(k); \n",
        "    // error: variable k might not have been initalized\n",
        "}"
      ]
    },
    {
      "cell_type": "code",
      "execution_count": null,
      "metadata": {},
      "outputs": [
        {
          "name": "stdout",
          "output_type": "stream",
          "text": [
            "true\n"
          ]
        }
      ],
      "source": [
        "{\n",
        "    boolean k;\n",
        "    k = true; // initalized after declaration\n",
        "    System.out.println(k);\n",
        "}"
      ]
    },
    {
      "cell_type": "markdown",
      "metadata": {
        "slideshow": {
          "slide_type": "slide"
        }
      },
      "source": [
        "## Conditionals (if/else statements)\n",
        "\n",
        "sometimes we want different behaviors depending on some condition. A good example would be the check on whether someone is tall enough to ride on a rollercoaster or waterslide. \n",
        "\n",
        "In that scenario, we'd want to make sure to let in people who are tall enough and stop people people who aren't\n",
        "\n",
        "<center>\n",
        "  <img src=\"../Images/Height.png\" alt = \"\"/>\n",
        "</center>"
      ]
    },
    {
      "cell_type": "code",
      "execution_count": null,
      "metadata": {
        "slideshow": {
          "slide_type": "subslide"
        },
        "tags": []
      },
      "outputs": [],
      "source": [
        "double heightOfJoe = 1.78;\n",
        "double heightOfBob = 1.23;"
      ]
    },
    {
      "cell_type": "markdown",
      "metadata": {
        "tags": []
      },
      "source": [
        "with a height requirement of 1.5 meters, we should see that Joe is tall enough to ride but bob isn't"
      ]
    },
    {
      "cell_type": "code",
      "execution_count": null,
      "metadata": {
        "slideshow": {
          "slide_type": "fragment"
        },
        "tags": []
      },
      "outputs": [
        {
          "name": "stdout",
          "output_type": "stream",
          "text": [
            "can ride\n"
          ]
        }
      ],
      "source": [
        "if (heightOfJoe > 1.5)\n",
        "    System.out.println(\"can ride\");\n",
        "else\n",
        "    System.out.println(\"too short\");"
      ]
    },
    {
      "cell_type": "code",
      "execution_count": null,
      "metadata": {},
      "outputs": [
        {
          "name": "stdout",
          "output_type": "stream",
          "text": [
            "too short\n"
          ]
        }
      ],
      "source": [
        "if (heightOfBob > 1.5)\n",
        "    System.out.println(\"can ride\");\n",
        "else \n",
        "    System.out.println(\"too short\");"
      ]
    },
    {
      "cell_type": "markdown",
      "metadata": {
        "slideshow": {
          "slide_type": "subslide"
        },
        "tags": []
      },
      "source": [
        "As seen from the code above, the general structure for an if-else statement is \n",
        "```java\n",
        "if (A)\n",
        "    B\n",
        "else\n",
        "    C\n",
        "```\n",
        "where `A` is a condition that we are checking (it must result in a boolean), `B` is the action we want to happen when A is true, and `C` is the action we want to happen when A is false. \n",
        "\n",
        "if we only want to do something when `A` is true, then the `else C` portion can be left off, like for example:"
      ]
    },
    {
      "cell_type": "code",
      "execution_count": null,
      "metadata": {},
      "outputs": [],
      "source": [
        "int accountBalance = 50;\n",
        "// nothing is done as the condition is not satisfied\n",
        "if (accountBalance < 10)\n",
        "    System.out.println(\"cannot withdraw\");"
      ]
    },
    {
      "cell_type": "markdown",
      "metadata": {
        "slideshow": {
          "slide_type": "subslide"
        },
        "tags": []
      },
      "source": [
        "If we want to do multiple actions, then we'd surround the `B` and `C` with braces, allowing us to place multiple statements within it. (If this look is preferable to you, putting braces around single statements is also allowed)"
      ]
    },
    {
      "cell_type": "markdown",
      "metadata": {
        "slideshow": {
          "slide_type": "fragment"
        },
        "tags": []
      },
      "source": [
        "Expanding on the previous program, we have:"
      ]
    },
    {
      "cell_type": "code",
      "execution_count": null,
      "metadata": {},
      "outputs": [
        {
          "name": "stdout",
          "output_type": "stream",
          "text": [
            "thanks for your purchase\n",
            "39\n"
          ]
        }
      ],
      "source": [
        "int accountBalance = 50;\n",
        "if (accountBalance < 10) {\n",
        "    System.out.println(\"cannot withdraw\");\n",
        "    System.out.println(\"try again after acquiring more funding\");\n",
        "} else {\n",
        "    accountBalance = accountBalance - 11;\n",
        "    System.out.println(\"thanks for your purchase\");\n",
        "}\n",
        "System.out.println(accountBalance); // remaining funds"
      ]
    },
    {
      "cell_type": "markdown",
      "metadata": {
        "slideshow": {
          "slide_type": "subslide"
        },
        "tags": []
      },
      "source": [
        "If there are multiple cases, you can chain if-else statements together, here is the funny expanded version for example:"
      ]
    },
    {
      "cell_type": "code",
      "execution_count": null,
      "metadata": {},
      "outputs": [
        {
          "name": "stdout",
          "output_type": "stream",
          "text": [
            "three\n"
          ]
        }
      ],
      "source": [
        "int x = 3;\n",
        "if (x == 1){\n",
        "    System.out.println(\"one\");\n",
        "} else {\n",
        "    if (x == 2){\n",
        "        System.out.println(\"two\");\n",
        "    } else {\n",
        "        if (x == 3){\n",
        "            System.out.println(\"three\");\n",
        "        } else {\n",
        "            System.out.println(\"something else\");\n",
        "        }\n",
        "    }\n",
        "}"
      ]
    },
    {
      "attachments": {},
      "cell_type": "markdown",
      "metadata": {
        "slideshow": {
          "slide_type": "subslide"
        },
        "tags": []
      },
      "source": [
        "Here, the body of every `if` and `else` is wrapped in braces. However, since `if statements` are single statements, we can omit the braces surrounding them. When these unnecessary braces and indentations are removed, this results in the much more visually appealing: "
      ]
    },
    {
      "cell_type": "code",
      "execution_count": null,
      "metadata": {},
      "outputs": [
        {
          "name": "stdout",
          "output_type": "stream",
          "text": [
            "three\n"
          ]
        }
      ],
      "source": [
        "int x = 3;\n",
        "if (x == 1) {\n",
        "    System.out.println(\"one\");\n",
        "} else if (x == 2) {\n",
        "    System.out.println(\"two\");\n",
        "} else if (x == 3) {\n",
        "    System.out.println(\"three\");\n",
        "} else {\n",
        "    System.out.println(\"something else\");\n",
        "}"
      ]
    },
    {
      "attachments": {},
      "cell_type": "markdown",
      "metadata": {},
      "source": [
        "giving us a much cleaner and readable structure for our chained if-else statements. (This arrangement of a single `if` statement in the `else` block is commonly referred to as an `else-if` statement, representing an alternative choice. Though that view is more intuitive, I feel it's still interesting to see how it works behind the scenes and seeing it as a chain of if statments.)"
      ]
    },
    {
      "cell_type": "markdown",
      "metadata": {
        "slideshow": {
          "slide_type": "slide"
        },
        "tags": []
      },
      "source": [
        "## Loops : Lather, Rinse, Repeat\n",
        "\n",
        "<center>\n",
        "  <img src=\"../Images/Loop.png\" alt = \"\"/>\n",
        "</center>\n",
        "\n",
        "loops are a way to repeating a block of code multiple times. The block of code being repeated is known as the `Loop Body`.\n",
        "\n",
        "Loops in java fall generally into 2 main categories*:"
      ]
    },
    {
      "cell_type": "markdown",
      "metadata": {
        "slideshow": {
          "slide_type": "subslide"
        },
        "tags": []
      },
      "source": [
        "while loops, which repeat a block of code while a some condition is true, like for example:"
      ]
    },
    {
      "cell_type": "code",
      "execution_count": null,
      "metadata": {},
      "outputs": [
        {
          "name": "stdout",
          "output_type": "stream",
          "text": [
            "too young\n",
            "16\n",
            "too young\n",
            "17\n",
            "old enough\n",
            "18\n"
          ]
        }
      ],
      "source": [
        "int age = 16;\n",
        "while (age < 18) {\n",
        "    System.out.println(\"too young\");\n",
        "    System.out.println(age);\n",
        "    age = age + 1;\n",
        "}\n",
        "System.out.println(\"old enough\");\n",
        "System.out.println(age);"
      ]
    },
    {
      "attachments": {},
      "cell_type": "markdown",
      "metadata": {
        "slideshow": {
          "slide_type": "subslide"
        },
        "tags": []
      },
      "source": [
        "and for loops, which are usually used to loop between a start and end value, and are commonly used to iterate through collections of values, like for example arrays.\n",
        "\n",
        "an array of some type is denoted with a pair of square brackets after the type name, like for example: "
      ]
    },
    {
      "cell_type": "code",
      "execution_count": null,
      "metadata": {},
      "outputs": [
        {
          "name": "stdout",
          "output_type": "stream",
          "text": [
            "chocolate\n"
          ]
        }
      ],
      "source": [
        "// create an array of Strings that contains 3 values: \"chocolate\", \"vanilla\", and \"strawberry\"\n",
        "String[] iceCreamFlavors = {\"chocolate\", \"vanilla\", \"strawberry\"};\n",
        "System.out.println(iceCreamFlavors[0]);"
      ]
    },
    {
      "cell_type": "markdown",
      "metadata": {},
      "source": [
        "The array is indexed also with a pair of square brackets, like shown on the last line"
      ]
    },
    {
      "cell_type": "markdown",
      "metadata": {
        "slideshow": {
          "slide_type": "subslide"
        },
        "tags": []
      },
      "source": [
        "Note that the first value in the array is at index 0, the second at index 1, and the third at index 2\n",
        "so the values are located between `0` and `length-1`, as opposed to between `1` and `length`.\n",
        "\n",
        "A for loop going through the array would then look like:"
      ]
    },
    {
      "cell_type": "code",
      "execution_count": null,
      "metadata": {},
      "outputs": [
        {
          "name": "stdout",
          "output_type": "stream",
          "text": [
            "0 -> chocolate\n",
            "1 -> vanilla\n",
            "2 -> strawberry\n"
          ]
        }
      ],
      "source": [
        "for (int i = 0; i < 3; i = i + 1) {\n",
        "    System.out.println(i + \" -> \" + iceCreamFlavors[i]);\n",
        "}"
      ]
    },
    {
      "attachments": {},
      "cell_type": "markdown",
      "metadata": {},
      "source": [
        "for loops, in their structure, are quite a bit more complicated than their while loop counterparts. but they consist of 4 main components:\n",
        "\n",
        "```java\n",
        "for(<initialization>; <loop_condition>; <update>)\n",
        "  <body>\n",
        "```\n",
        "\n",
        "- the `initalization` component is a `statement` where the variables used during the loop are declared and initalized. In our loop above, this involved creating a variable `i` with value 0 (`int i = 0`)\n",
        "- the `loop_condition` component is an `expression` thats checked at the end of each iteration. if it evaluates to `true`, the loop continues to the next iteration. Otherwise if it evaluates to `false`, the loop halts. In the example above, this expression is `i < 3`.\n",
        "- the `update` component is a statement which updates the values of variables after an iteration (unless it's the last iteration, as the loop halts before this is executed). In the example above, this involves incrementing the value in variable `i` with the statement (`i = i + 1`)\n",
        "- the `body` component is a statement or block that represents the action(s) which are performed in each iteration. In our example, this is printing the `i`th index of the iceCreamFlavors array with the statement `System.out.println(iceCreamFlavors[i]);` Like an if statement's body, if it consists of a single statement, the braces surrounding it can also be omitted."
      ]
    },
    {
      "attachments": {},
      "cell_type": "markdown",
      "metadata": {},
      "source": [
        "#### Try it Yourself\n",
        "\n",
        "Pause for a bit and play around with different arrays, arrays of different types, and for loops going through those arrays. Perhaps try making array that represents the days of the week, a restaurant menu, or anything of the sort.\n",
        "\n",
        "Likewise, try playing around with different parts of the for loops: (useful tip: `ctrl+C` halts a line's execution :] )\n",
        "- what happens if you change the initalization component? what if it's initalized to 1 instead of 0?\n",
        "- what happens if you change the loop condition to false? true? or some other expression?\n",
        "- what happens if you change the update component to add 2 instead of 1, or perhaps 3,4, or 0?\n",
        "- what happens if you leave each part empty? does it error? or does it not?\n",
        "- can you rewrite the earlier while loop example using a for loop instead?\n"
      ]
    },
    {
      "cell_type": "markdown",
      "metadata": {
        "slideshow": {
          "slide_type": "slide"
        },
        "tags": []
      },
      "source": [
        "## Functions : Reusing Actions\n",
        "\n",
        "Sometimes, we need to some action or calculation multiple times at multiple locations, and with different inputs, like if we want to check the heights of multiple people."
      ]
    },
    {
      "cell_type": "markdown",
      "metadata": {
        "slideshow": {
          "slide_type": "fragment"
        },
        "tags": []
      },
      "source": [
        "We can try doing this directly, but..."
      ]
    },
    {
      "cell_type": "code",
      "execution_count": null,
      "metadata": {
        "slideshow": {
          "slide_type": "fragment"
        },
        "tags": []
      },
      "outputs": [
        {
          "name": "stdout",
          "output_type": "stream",
          "text": [
            "can ride\n",
            "too short\n",
            "too short\n",
            "can ride\n"
          ]
        }
      ],
      "source": [
        "double heightOfJoe = 1.78;\n",
        "double heightOfBob = 1.23;\n",
        "double heightOfAlex = 1.45;\n",
        "double heightOfJane = 1.56;\n",
        "\n",
        "if (heightOfJoe > 1.5)\n",
        "    System.out.println(\"can ride\");\n",
        "else\n",
        "    System.out.println(\"too short\");\n",
        "\n",
        "if (heightOfBob > 1.5)\n",
        "    System.out.println(\"can ride\");\n",
        "else\n",
        "    System.out.println(\"too short\");\n",
        "\n",
        "if (heightOfAlex > 1.5)\n",
        "    System.out.println(\"can ride\");\n",
        "else\n",
        "    System.out.println(\"too short\");\n",
        "\n",
        "if (heightOfJane > 1.5)\n",
        "    System.out.println(\"can ride\");\n",
        "else\n",
        "    System.out.println(\"too short\");"
      ]
    },
    {
      "cell_type": "markdown",
      "metadata": {},
      "source": [
        "it becomes really long and repetitive..really quickly"
      ]
    },
    {
      "cell_type": "markdown",
      "metadata": {
        "slideshow": {
          "slide_type": "subslide"
        },
        "tags": []
      },
      "source": [
        "Instead, we can wrap the checking of heights in a function:"
      ]
    },
    {
      "cell_type": "code",
      "execution_count": null,
      "metadata": {
        "tags": []
      },
      "outputs": [],
      "source": [
        "String checkCanRide(double height) {\n",
        "    if (height > 1.5)\n",
        "        return \"can ride\";\n",
        "    else\n",
        "        return \"too short\";\n",
        "}"
      ]
    },
    {
      "cell_type": "markdown",
      "metadata": {},
      "source": [
        "with the following important parts:\n",
        "- `return type` : `String` at the front \n",
        "- `parameter` : `double height` wrapped in parentheses.\n",
        "- `return <thing>;` represents a result from the function. As the return type is string in this example, both of the possible return values are strings\n",
        "- the body of the function, unlike an if-statement/loop, **must** be wrapped in braces"
      ]
    },
    {
      "cell_type": "markdown",
      "metadata": {
        "slideshow": {
          "slide_type": "fragment"
        },
        "tags": []
      },
      "source": [
        "in a sense, it's similar to functions in math, where for some input, you get some output, like for example: in \n",
        "$f(x) = 3 \\cdot x + x$, $f(3)$ would be equal to $3 \\cdot 3 + 3 = 12$"
      ]
    },
    {
      "cell_type": "markdown",
      "metadata": {
        "slideshow": {
          "slide_type": "subslide"
        },
        "tags": []
      },
      "source": [
        "Also similar to functions in math, calling a function is done by placing parentheses after the function's name, with inputs (or `arguments`) wrapped in those parenthese."
      ]
    },
    {
      "cell_type": "code",
      "execution_count": null,
      "metadata": {},
      "outputs": [
        {
          "name": "stdout",
          "output_type": "stream",
          "text": [
            "can ride\n",
            "too short\n",
            "too short\n",
            "can ride\n"
          ]
        }
      ],
      "source": [
        "System.out.println(checkCanRide(heightOfJoe));\n",
        "System.out.println(checkCanRide(heightOfBob));\n",
        "System.out.println(checkCanRide(heightOfAlex));\n",
        "System.out.println(checkCanRide(heightOfJane));"
      ]
    },
    {
      "cell_type": "markdown",
      "metadata": {
        "slideshow": {
          "slide_type": "subslide"
        },
        "tags": []
      },
      "source": [
        "That's a lot cleaner, but we can still do better (note that the `System.out.println` is still repeated).\n",
        "\n",
        "luckily, one place where java and math functions are different is that java functions can return no value, if the return type is marked as `void`"
      ]
    },
    {
      "cell_type": "code",
      "execution_count": null,
      "metadata": {},
      "outputs": [],
      "source": [
        "void checkCanRide(double height) {\n",
        "  if (height > 1.5)\n",
        "      System.out.println(\"can ride\");\n",
        "  else\n",
        "      System.out.println(\"too short\");\n",
        "}"
      ]
    },
    {
      "cell_type": "markdown",
      "metadata": {},
      "source": [
        "functions denoted by a return type of `void` only do some action and produce no result"
      ]
    },
    {
      "cell_type": "markdown",
      "metadata": {
        "slideshow": {
          "slide_type": "subslide"
        },
        "tags": []
      },
      "source": [
        "Again, we can call the function, but this time, the prints aren't needed"
      ]
    },
    {
      "cell_type": "code",
      "execution_count": null,
      "metadata": {},
      "outputs": [
        {
          "name": "stdout",
          "output_type": "stream",
          "text": [
            "can ride\n",
            "too short\n",
            "too short\n",
            "can ride\n"
          ]
        }
      ],
      "source": [
        "checkCanRide(heightOfJoe);\n",
        "checkCanRide(heightOfBob);\n",
        "checkCanRide(heightOfAlex);\n",
        "checkCanRide(heightOfJane);"
      ]
    },
    {
      "attachments": {},
      "cell_type": "markdown",
      "metadata": {},
      "source": [
        "#### Try it Yourself\n",
        "\n",
        "Pause a bit here and try making some of your own functions and explore their outputs. Any functions from math that you want to use? Can you make any that utilizes the structures described earlier (the for, if, and while statements)?"
      ]
    },
    {
      "cell_type": "markdown",
      "metadata": {
        "slideshow": {
          "slide_type": "slide"
        },
        "tags": []
      },
      "source": [
        "## Scopes : where can a variable be used?\n",
        "\n",
        "Variables in Java are `block scoped`, meaning that they are only accessible within the block they were defined in, as well as in sub-blocks, where each block is a sequence of statements, as shown in the if-statement and loop examples.\n",
        "\n",
        "At the end of a block, the variable binding is removed, and that name can be used again for some other value\n",
        "\n",
        "Scopes in java are typically shown using the indentation level"
      ]
    },
    {
      "cell_type": "markdown",
      "metadata": {
        "slideshow": {
          "slide_type": "subslide"
        },
        "tags": []
      },
      "source": [
        "For example:"
      ]
    },
    {
      "cell_type": "code",
      "execution_count": null,
      "metadata": {},
      "outputs": [
        {
          "name": "stdout",
          "output_type": "stream",
          "text": [
            "5\n"
          ]
        }
      ],
      "source": [
        "int x = 5;\n",
        "if (x == 5) {\n",
        "    // the block associated with the if statement is contained within the larger block of code that contains `x`\n",
        "    System.out.println(x); \n",
        "}"
      ]
    },
    {
      "cell_type": "markdown",
      "metadata": {},
      "source": [
        "in the example, accessing x from inside the if statement works, as the block associated with the if statement is a 'sub-block' contained within the block that has `x`\n"
      ]
    },
    {
      "attachments": {},
      "cell_type": "markdown",
      "metadata": {
        "slideshow": {
          "slide_type": "subslide"
        },
        "tags": []
      },
      "source": [
        "\n",
        "However, trying to access a variable defined from inside a sub-block will produce an error, like for example:\n"
      ]
    },
    {
      "cell_type": "code",
      "execution_count": null,
      "metadata": {},
      "outputs": [
        {
          "ename": "CompilationException",
          "evalue": "",
          "output_type": "error",
          "traceback": [
            "\u001b[1m\u001b[30m|   \u001b[1m\u001b[30mSystem.out.println(\u001b[0m\u001b[1m\u001b[30m\u001b[41my\u001b[0m\u001b[1m\u001b[30m); \u001b[0m",
            "\u001b[1m\u001b[31mcannot find symbol\u001b[0m",
            "\u001b[1m\u001b[31m  symbol:   variable y\u001b[0m",
            ""
          ]
        }
      ],
      "source": [
        "int x = 5;\n",
        "if (x == 5) {\n",
        "    int y = 10;\n",
        "}\n",
        "System.out.println(y); "
      ]
    },
    {
      "cell_type": "markdown",
      "metadata": {},
      "source": [
        "Intuitively, accesses like this example should error, since had the condition not been true, the variable would have never been created"
      ]
    },
    {
      "cell_type": "markdown",
      "metadata": {
        "slideshow": {
          "slide_type": "slide"
        },
        "tags": []
      },
      "source": [
        "## Misc. Topics\n",
        "\n",
        "That mostly concludes the introduction to the basics of Java, the next one will focus moreso on Classes, Objects, Imports, and some topics relating to FRC programming. In the meantime, try playing around with and getting a feel for some of the things discussed in this document. \n",
        "- try making whacky combinations of control structures like if statements, for loops, and functions. \n",
        "- mess around with scopes, and see what works like you expect it to, and what doesn't.\n",
        "- Enter some things into jshell and see what works and what doesn't. \n",
        "But most importantly; have fun with it :).\n",
        "\n",
        "That said, there are some things that I'd like to mention here that didn't really fit well into the other sections. "
      ]
    },
    {
      "cell_type": "markdown",
      "metadata": {
        "slideshow": {
          "slide_type": "subslide"
        },
        "tags": []
      },
      "source": [
        "### Operators\n",
        "\n",
        "The three most important kinds of operators are the arithmetic, logic, and comparison operators.\n",
        "\n",
        "For arithmetic, there are 5 main useful operators, (4 of which should be familar from math):\n",
        " - `+`, which adds two integers/doubles, and combines 2 strings (e.g. `\"a\" + \"b\" = \"ab\"`)\n",
        " - `-`, which subtracts two integers/doubles\n",
        " - `*`, which multiplies two integers/doubles\n",
        " - `/`, which divides two integers/doubles. the result of dividing by two integers is that the result gets rounded towards 0, (`-10/3 = -3`, `10/3 = 3`)\n",
        " - `%`, which gets the remainder of division by two integers/doubles (e.g. `10%3 = 1`, `8%2 = 0`)\n"
      ]
    },
    {
      "attachments": {},
      "cell_type": "markdown",
      "metadata": {
        "slideshow": {
          "slide_type": "subslide"
        },
        "tags": []
      },
      "source": [
        "There are some edge cases as well. For integers, trying to divide or the the modulo using 0 will error, like so:"
      ]
    },
    {
      "cell_type": "code",
      "execution_count": null,
      "metadata": {},
      "outputs": [
        {
          "ename": "EvalException",
          "evalue": "/ by zero",
          "output_type": "error",
          "traceback": [
            "\u001b[1m\u001b[31m---------------------------------------------------------------------------\u001b[0m",
            "\u001b[1m\u001b[31mjava.lang.ArithmeticException: / by zero\u001b[0m",
            "\u001b[1m\u001b[31m\tat .(#23:1)\u001b[0m"
          ]
        }
      ],
      "source": [
        "int x = 1/0;\n",
        "int y = 1%0;"
      ]
    },
    {
      "cell_type": "markdown",
      "metadata": {},
      "source": [
        "whereas with doubles, they will produce some canonical value like infinity, -infinity, or not a number"
      ]
    },
    {
      "cell_type": "code",
      "execution_count": null,
      "metadata": {},
      "outputs": [
        {
          "name": "stdout",
          "output_type": "stream",
          "text": [
            "Infinity\n",
            "-Infinity\n",
            "NaN\n"
          ]
        }
      ],
      "source": [
        "System.out.println(1.0/0.0); // inf\n",
        "System.out.println(-1.0/0.0); // -inf\n",
        "System.out.println(0.0/0.0); // NaN, or \"not a number\""
      ]
    },
    {
      "cell_type": "markdown",
      "metadata": {
        "slideshow": {
          "slide_type": "subslide"
        },
        "tags": []
      },
      "source": [
        "For logic operators, there are \n",
        " - `&&`(and), which checks if two booleans are both true\n",
        " - `||`(or), which checks either of two booleans are true\n",
        " - `!`(not), which negates the value of the boolean\n",
        "\n",
        "\n",
        "For comparison operators, there are\n",
        " - `==`, which checks if two things are equal (2 =s because 1 = is for assigning)\n",
        " - `!=`, which checks if two things aren't equal\n",
        " - `<`, `<=`, which checks if the first integer/double is less than (or equal to) the second\n",
        " - `>`, `>=`, which checks if the first integer/double is greater than (or equal to) the second"
      ]
    },
    {
      "cell_type": "code",
      "execution_count": null,
      "metadata": {
        "slideshow": {
          "slide_type": "subslide"
        },
        "tags": []
      },
      "outputs": [
        {
          "name": "stdout",
          "output_type": "stream",
          "text": [
            "true\n",
            "false\n",
            "false\n",
            "true\n"
          ]
        }
      ],
      "source": [
        "System.out.println(true && true);   // T\n",
        "System.out.println(true && false);  // F\n",
        "\n",
        "System.out.println(false || false); // F\n",
        "System.out.println(true || false);  // T"
      ]
    },
    {
      "cell_type": "code",
      "execution_count": null,
      "metadata": {},
      "outputs": [
        {
          "name": "stdout",
          "output_type": "stream",
          "text": [
            "true\n",
            "true\n"
          ]
        }
      ],
      "source": [
        "System.out.println(1 != 2);\n",
        "System.out.println(1 == 1); "
      ]
    },
    {
      "cell_type": "markdown",
      "metadata": {
        "slideshow": {
          "slide_type": "subslide"
        },
        "tags": []
      },
      "source": [
        "### Do-While loops\n",
        "\n",
        "do while loops work similarly to while loops, except the action is done at before the condition check (meaning it happens at least once)\n",
        "\n",
        "this is reflected in the condition coming after the loop body, showing that the action is done and then the check is run"
      ]
    },
    {
      "cell_type": "code",
      "execution_count": null,
      "metadata": {
        "tags": []
      },
      "outputs": [
        {
          "name": "stdout",
          "output_type": "stream",
          "text": [
            "aeiou\n"
          ]
        }
      ],
      "source": [
        "do {\n",
        "    System.out.println(\"aeiou\"); // action\n",
        "} while (false); // condition (note semicolon at end)"
      ]
    },
    {
      "attachments": {},
      "cell_type": "markdown",
      "metadata": {
        "slideshow": {
          "slide_type": "subslide"
        },
        "tags": []
      },
      "source": [
        "Or if you prefer more graphic depictions...\n",
        "\n",
        "<center>\n",
        "  <img src=\"../Images/LoopJoke.png\" alt = \"\"/>\n",
        "<\\center>"
      ]
    },
    {
      "attachments": {},
      "cell_type": "markdown",
      "metadata": {
        "slideshow": {
          "slide_type": "subslide"
        },
        "tags": []
      },
      "source": [
        "### [Arrays](https://www.baeldung.com/java-arrays-guide) (more detail)\n",
        "\n",
        "you've already seen arrays being defined as \n",
        "```java\n",
        "String[] xs = {\"a\", \"b\", \"c\"};\n",
        "```\n",
        "where a list of values are provided. \n",
        "\n",
        "You can also create arrays by providing a length, where an \"empty\" array with that length will be created"
      ]
    },
    {
      "cell_type": "code",
      "execution_count": null,
      "metadata": {},
      "outputs": [
        {
          "name": "stdout",
          "output_type": "stream",
          "text": [
            "0\n",
            "0\n"
          ]
        }
      ],
      "source": [
        "int[] xs = new int[5];\n",
        "System.out.println(xs[0]); // will print 0\n",
        "System.out.println(xs[4]); // default value"
      ]
    },
    {
      "cell_type": "markdown",
      "metadata": {
        "slideshow": {
          "slide_type": "subslide"
        },
        "tags": []
      },
      "source": [
        "You can also define arrays of arrays using both methods by using additional pairs of brackets:"
      ]
    },
    {
      "cell_type": "code",
      "execution_count": null,
      "metadata": {
        "tags": []
      },
      "outputs": [
        {
          "name": "stdout",
          "output_type": "stream",
          "text": [
            "0.0\n",
            "true\n"
          ]
        }
      ],
      "source": [
        "double[][] ys = new double[5][5]; // 5 X 5 matrix (2d array)\n",
        "System.out.println(ys[0][0]); // will print 0\n",
        "boolean[][] zs = {{true, true}, {true, false}, {false, true}, {false, false}}; // 2d array of booleans\n",
        "System.out.println(zs[0][0]); // will print true"
      ]
    },
    {
      "attachments": {},
      "cell_type": "markdown",
      "metadata": {},
      "source": [
        "### [Type Inference](https://www.baeldung.com/java-10-local-variable-type-inference)\n",
        "\n",
        "In java, all variables and values must have a type that's known when they're written, and currently we do this by explicitly using this type in the variable definition, like so:\n",
        "\n",
        "```java\n",
        "int i = 5;\n",
        "```\n",
        "\n",
        "while this is good practice for beginners, as a way to learn which types correspond to what values, it can get cumbersome later on, when we introduce classes, and explicitly writing types can become more cumbersome and repetitive, like for example:\n",
        "\n",
        "```java\n",
        "// don't yet have to know what this means, or exactly what a hashmap is, just note the length & repetition for right now\n",
        "HashMap<String, String> map = new HashMap<String, String>();\n",
        "```"
      ]
    },
    {
      "cell_type": "markdown",
      "metadata": {},
      "source": [
        "Luckily, there is a way to avoid doing so, as long as we have a value whose type is unambiguous. If that is the case, instead of explicitly stating a type, we can use the keyword `var` instead, which tells the java compiler to `infer` the type of the variable from the given value."
      ]
    },
    {
      "cell_type": "code",
      "execution_count": null,
      "metadata": {},
      "outputs": [],
      "source": [
        "var i = 5; // type inferred to int\n",
        "var map = new HashMap<String, String>(); // type inferred to HashMap<String, String>"
      ]
    },
    {
      "attachments": {},
      "cell_type": "markdown",
      "metadata": {},
      "source": [
        "> NOTE: this is very different from `var` in javascript, where types aren't known at time of writing. When using var in java, the variable still behaves the same as any other variable, just with its type inferred instead of being explicitly stated. (in an IDE/editor like IntelliJ/VSCode, you can try hovering over a variable defined using var and you should see its type)\n",
        "\n",
        "However, if the type isn't unambiguous, we can't use this construct. "
      ]
    },
    {
      "cell_type": "code",
      "execution_count": null,
      "metadata": {},
      "outputs": [
        {
          "ename": "CompilationException",
          "evalue": "",
          "output_type": "error",
          "traceback": [
            "\u001b[1m\u001b[30m|   \u001b[1m\u001b[30m\u001b[0m\u001b[1m\u001b[30m\u001b[41mvar arr = {1,2,3,4,5};\u001b[0m\u001b[1m\u001b[30m // can't infer type of array like this\u001b[0m",
            "\u001b[1m\u001b[31mcannot infer type for local variable arr\u001b[0m",
            "\u001b[1m\u001b[31m  (array initializer needs an explicit target-type)\u001b[0m",
            ""
          ]
        }
      ],
      "source": [
        "var arr = {1,2,3,4,5}; // can't infer type of array like this"
      ]
    },
    {
      "cell_type": "code",
      "execution_count": null,
      "metadata": {},
      "outputs": [],
      "source": [
        "var arr2 = new int[5]; // OK\n",
        "var arr3 = new int[]{1,2,3,4,5} // OK (what the error means by explicit target-type)"
      ]
    },
    {
      "attachments": {},
      "cell_type": "markdown",
      "metadata": {},
      "source": [
        "## Additional Resources:\n",
        "\n",
        "If you wish to further explore the topics discussed above, some useful resources could be:\n",
        "\n",
        "- [Baeldung intro to java](https://www.baeldung.com/get-started-with-java-series)\n",
        "- [Oracle's java tutorials](https://docs.oracle.com/javase/tutorial/java/index.html)\n",
        "\n",
        "There are also quite a few places to find practice problems that don't involve creating full java projects from scratch:\n",
        "\n",
        "- [codingbat](https://codingbat.com/java)\n",
        "- [codingame](codingame.com/home)\n",
        "\n",
        "Although most importantly, playing around with these concepts yourself in jshell is also a great way to practice the concepts before exploring complete java programs"
      ]
    }
  ],
  "metadata": {
    "celltoolbar": "Slideshow",
    "kernelspec": {
      "display_name": "Java",
      "language": "java",
      "name": "java"
    },
    "language_info": {
      "codemirror_mode": "java",
      "file_extension": ".jshell",
      "mimetype": "text/x-java-source",
      "name": "java",
      "pygments_lexer": "java",
      "version": "17.0.6+10"
    },
    "vscode": {
      "interpreter": {
        "hash": "b8a6d9b80dcf53dac0db88ee280fe003af7896d55209108fde44da72bfc602ee"
      }
    }
  },
  "nbformat": 4,
  "nbformat_minor": 4
}
