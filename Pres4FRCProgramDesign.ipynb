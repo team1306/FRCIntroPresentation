{
 "cells": [
  {
   "cell_type": "markdown",
   "id": "c26ae8f2-fc51-4c6d-a441-58da6e2a4747",
   "metadata": {
    "slideshow": {
     "slide_type": "slide"
    },
    "tags": []
   },
   "source": [
    "# Robot Code in Detail\n",
    "\n",
    "Previously, we opened and started to take a look at the `Robot.java` file for our example project, and also cloned our own robot for the 2022 season using git. Now we'll take a look a closer look at the code, as well as the organization, patterns, and design philosophy that underpins it."
   ]
  },
  {
   "cell_type": "markdown",
   "id": "527efe2e-f072-4dbd-bd53-445941ac50cd",
   "metadata": {
    "slideshow": {
     "slide_type": "slide"
    },
    "tags": []
   },
   "source": [
    "## Conceptual Organization\n",
    "\n",
    "Building and programming a robot can be a complicated task that involves keeping track of a large number of electronics. If we try to handle everything just using the features provided in our `Robot.java` file, we'd quickly see that it becomes unsustainable. "
   ]
  },
  {
   "cell_type": "markdown",
   "id": "4293baf7-d2f2-4bf9-9fbb-e7a873734719",
   "metadata": {
    "slideshow": {
     "slide_type": "fragment"
    },
    "tags": []
   },
   "source": [
    "Instead, to keep our code at least moderately understandable, we can split our code from one giant `Robot` class to several individual classes that each handle a specific task, in line with the [seperation of concerns](https://en.wikipedia.org/wiki/Separation_of_concerns) principle.\n",
    "\n",
    "The benefits of this are that:\n",
    "- if something doesn't work, we can more easily find where the problem came from\n",
    "- someone reading our code (including us in the future) can better understand what the code does\n",
    "- it's much nicer to look at :)\n"
   ]
  },
  {
   "cell_type": "markdown",
   "id": "683b07e0-007b-4af1-b063-db916d0629ad",
   "metadata": {
    "slideshow": {
     "slide_type": "subslide"
    },
    "tags": []
   },
   "source": [
    "Luckily, WPILib provides us with such a design through their `\"Command-Based\" Programming` methodology"
   ]
  },
  {
   "cell_type": "markdown",
   "id": "7063339e-510b-4df5-ad14-dbf47df0ebfb",
   "metadata": {},
   "source": [
    "For our robot, we can break down the task of `running the robot` into 4 seperate layers, those being\n",
    "\n",
    "1. getting user input\n",
    "2. turning input into desired actions\n",
    "3. executing actions on relevant parts of the robot \n",
    "4. making the robot respond physically\n",
    "\n",
    "Splitting it up this way, we would also need some additional system that ties them together."
   ]
  },
  {
   "cell_type": "markdown",
   "id": "86265e3f-142d-48bf-90ed-23cc6bb13c24",
   "metadata": {
    "slideshow": {
     "slide_type": "fragment"
    },
    "tags": []
   },
   "source": [
    "A simple hypothetical example would be: if (1) a driver pushes a joystick forward on an Xbox controller, (2) it gives a command to drive the robot. This command then (3) tells the subsystem controlling the motors to spin them a certain way, which then (4) makes the robot go forwards. "
   ]
  },
  {
   "cell_type": "markdown",
   "id": "a9e14760-1d36-4c76-bf77-c45a7003a3aa",
   "metadata": {
    "slideshow": {
     "slide_type": "subslide"
    },
    "tags": []
   },
   "source": [
    "Going even further, we see that this framework can be used to further break down layers 3 and 2 into individual pieces, called `subsystem`s, and `command`s.\n",
    "\n",
    "![](https://docs.wpilib.org/en/stable/_images/subsystems-and-commands.drawio.svg)"
   ]
  },
  {
   "cell_type": "markdown",
   "id": "a2e2320d-7f14-4b8b-92df-bde57d7bc844",
   "metadata": {
    "slideshow": {
     "slide_type": "slide"
    },
    "tags": []
   },
   "source": [
    "## Subsystems "
   ]
  },
  {
   "cell_type": "markdown",
   "id": "64ec58e6-8696-44af-80ab-615e194c91d9",
   "metadata": {},
   "source": [
    "> Subsystems encapsulate lower-level robot hardware (such as motor controllers, sensors, and/or pneumatic actuators), and define the interfaces through which that hardware can be accessed by the rest of the robot code. Subsystems allow users to “hide” the internal complexity of their actual hardware from the rest of their code\n",
    ">\n",
    ">\\- WPILIB documentation"
   ]
  },
  {
   "cell_type": "markdown",
   "id": "d92abd41-6556-4b19-90f1-a9d9c144b14a",
   "metadata": {},
   "source": [
    "In essense, subsystems are simple abstraction that group bits of hardware that work to control one core part of the robot (like driving). Then, after creating a subsystem, we can communicate with that subsystem directly instead of managing its individual components."
   ]
  },
  {
   "cell_type": "markdown",
   "id": "ad395518-3a25-4f6a-8f3d-b93d2a19a26a",
   "metadata": {
    "slideshow": {
     "slide_type": "subslide"
    },
    "tags": []
   },
   "source": [
    "### Creating a subsystem\n",
    "\n",
    "as Subsystems are quite general containers, so there's not much that we have to provide. To create a subsystem, we'd create a new class that extends from the `SubsystemBase` class, and optionally provide something to do everytime the command scheduler runs (we'll see this later, but it should be the same freqeuency as `robotPeriodic`)\n",
    "\n",
    "```java\n",
    "import edu.wpi.first.wpilibj2.command.SubsystemBase;\n",
    "\n",
    "public class ExampleSubsystem extends SubsystemBase {\n",
    "  /** Creates a new ExampleSubsystem. */\n",
    "  public ExampleSubsystem() {}\n",
    "\n",
    "  @Override\n",
    "  public void periodic() {\n",
    "    // This method will be called once per (~20ms)\n",
    "  }\n",
    "}\n",
    "```"
   ]
  },
  {
   "cell_type": "markdown",
   "id": "8366eb40-eea3-4caf-93e7-ae5f44a51cdf",
   "metadata": {},
   "source": [
    "which, if you look at the file in you example project, should be in the `frc\\robot\\subsystems` folder"
   ]
  },
  {
   "cell_type": "markdown",
   "id": "a0897094-81db-44a0-bef0-700b346e8b85",
   "metadata": {
    "slideshow": {
     "slide_type": "subslide"
    },
    "tags": []
   },
   "source": [
    "### Subsystem Example: Drivetrain\n",
    "The drivetrain consists of the parts of the robot that move the wheels and drive the robot. \n",
    "\n",
    "example: West Coast Drive drivetrain\n",
    "\n",
    "![](https://i.imgur.com/sCfRoNv.png)"
   ]
  },
  {
   "cell_type": "markdown",
   "id": "6dd3394a-1937-4e16-9383-1251c863bb25",
   "metadata": {
    "slideshow": {
     "slide_type": "subslide"
    },
    "tags": []
   },
   "source": [
    "The electronic components for the simple model of the drivetrain above are just those four motors (for the sake of space, the example will just have 1).\n",
    "\n",
    "A drivetrain subsystem should also have a method that handles the process of moving the motors internally."
   ]
  },
  {
   "cell_type": "markdown",
   "id": "3d7fb479-6539-4d91-bb4c-080325a735d3",
   "metadata": {},
   "source": [
    "So in code, a drivetrain class would look something like: \n",
    "```java\n",
    "import edu.wpi.first.wpilibj2.command.SubsystemBase;\n",
    "// note this is a 3rd party dependency\n",
    "import com.ctre.phoenix.motorcontrol.can.TalonFX; \n",
    "\n",
    "public class ExDrivetrain extends SubsystemBase {\n",
    "    // we want to handle the motor controllers only in this \n",
    "    //subsystem so they should be private\n",
    "    private TalonFX motor;\n",
    "    public ExDrivetrain() {\n",
    "        motor = new TalonFX(/*motor id*/);\n",
    "        motor.configFactoryDefault();\n",
    "        motor.setNeutralMode(NeutralMode.Brake);\n",
    "    }\n",
    "\n",
    "    public void drive(boolean isForward){\n",
    "        // tells the motor controllers to run the motors \n",
    "        if (forward) motor.set(1); // full power!!\n",
    "        else         motor.set(-1); // full reverse!!\n",
    "    }\n",
    "}\n",
    "```"
   ]
  },
  {
   "cell_type": "markdown",
   "id": "ea7609db",
   "metadata": {
    "slideshow": {
     "slide_type": "subslide"
    },
    "tags": []
   },
   "source": [
    "Now that we have a subsystem, we can interact with that subsystem instead of interacting with individual electronic components, making our code a whole lot more understandable.  "
   ]
  },
  {
   "cell_type": "markdown",
   "id": "9c82004c",
   "metadata": {},
   "source": [
    "However..."
   ]
  },
  {
   "cell_type": "markdown",
   "id": "378b856f",
   "metadata": {
    "slideshow": {
     "slide_type": "fragment"
    },
    "tags": []
   },
   "source": [
    "Having *just* `Subsystem` as an abstraction still falls short in a big way:"
   ]
  },
  {
   "cell_type": "markdown",
   "id": "bcc69580",
   "metadata": {
    "slideshow": {
     "slide_type": "fragment"
    },
    "tags": []
   },
   "source": [
    "***We still have to manually check each input case and map that to some chain of actions!!***\n",
    "\n",
    "```java\n",
    "@Override\n",
    "public void robotPeriodic() {\n",
    "    if (/* input case 1*/){\n",
    "        // do something w/ some subsystems\n",
    "    } else if (/* input case 2 */) {\n",
    "        // do something else w/ other subsystems\n",
    "    } ...\n",
    "```"
   ]
  },
  {
   "cell_type": "markdown",
   "id": "77f2cd96",
   "metadata": {},
   "source": [
    "We see that with enough cases and complexity, this pattern becomes unsustainable"
   ]
  },
  {
   "cell_type": "markdown",
   "id": "daf0c789",
   "metadata": {
    "slideshow": {
     "slide_type": "notes"
    },
    "tags": []
   },
   "source": [
    "(note)We also have to manually deal with conflicts in our design; for example if we accidently had 2 input cases that needed to use the same subsystem at the same time.... things would break"
   ]
  },
  {
   "cell_type": "markdown",
   "id": "e4366f55-aa99-4d8c-8726-f174108eaaf6",
   "metadata": {
    "slideshow": {
     "slide_type": "slide"
    },
    "tags": []
   },
   "source": [
    "## Commands\n",
    "\n",
    "> Commands are simple state machines that perform high-level robot functions using the methods defined by subsystems. Commands can be either idle, in which they do nothing, or scheduled, in which the scheduler will execute a specific set of the command’s code depending on the state of the command. The CommandScheduler recognizes scheduled commands as being in one of three states: initializing, executing, or ending. Commands specify what is done in each of these states through the initialize(), execute() and end() methods. \n",
    ">\n",
    "> \\- WPIlib documentation\n",
    "\n",
    "Commands are an abstraction over actions/ responsibilities that can be performed at any given time. "
   ]
  },
  {
   "cell_type": "markdown",
   "id": "cbda055a",
   "metadata": {
    "slideshow": {
     "slide_type": "subslide"
    },
    "tags": []
   },
   "source": [
    "### Creating a Command\n",
    "To create a command, extend the `CommandBase` class, and override a few important methods, those being `initialize`, `execute`, `end`, and `isFinished`\n",
    "```java\n",
    "import edu.wpi.first.wpilibj2.command.CommandBase;\n",
    "\n",
    "class ExampleCommand extends CommandBase {\n",
    "  @Override\n",
    "  public void initialize() {}\n",
    "\n",
    "  @Override\n",
    "  public void execute() {}\n",
    "\n",
    "  @Override\n",
    "  public void end(boolean interrupted) {}\n",
    "\n",
    "  @Override\n",
    "  public boolean isFinished(){ return false; }\n",
    "}\n",
    "```"
   ]
  },
  {
   "cell_type": "markdown",
   "id": "1d80006f",
   "metadata": {
    "slideshow": {
     "slide_type": "subslide"
    },
    "tags": []
   },
   "source": [
    "`initialize` : when the command starts executing (similar to the `<x>Init` methods)\n",
    "  - set up everything needed for the execution of the command\n",
    "\n",
    "`execute` : while the command is running (similar to the `<x>Periodic` methods)\n",
    "  - the main thing  the action/command is trying to accomplish\n",
    "\n",
    "`end` : directly after the command stops running\n",
    "  - clean up and finalize the command (bring it to a conclusion)\n",
    "  - the `interrupted` parameter is whether it finished successfully (`false`) or was shut down by the scheduler (`true`)\n",
    "\n",
    "`isFinished` checks whether the command has accomplished its goal\n",
    "  - if it returns `true`, then `end` will be called with `false` and execution for the command will stop\n",
    "  - always returning false makes it never stop unless interrupted"
   ]
  },
  {
   "cell_type": "markdown",
   "id": "8a711b02",
   "metadata": {
    "slideshow": {
     "slide_type": "subslide"
    },
    "tags": []
   },
   "source": [
    "#### Note : Default Behaviors\n",
    "\n",
    "by default the `end`, `initialize`, and `execute` methods do nothing, and `isFinished` always returns false, so a very simple command that always runs in the background can get away with just overriding `execute`. \n",
    "\n",
    "We'll expand on this later by introducing default commands"
   ]
  },
  {
   "cell_type": "markdown",
   "id": "28d236e1",
   "metadata": {
    "slideshow": {
     "slide_type": "subslide"
    },
    "tags": []
   },
   "source": [
    "### Binding Subsystems"
   ]
  },
  {
   "cell_type": "markdown",
   "id": "54363bc9",
   "metadata": {},
   "source": [
    "A Command like that on its own isn't very helpful, commands need to interact with subsystems to perform some useful action. To specify which subsystems, we need to call the `addRequirements` method of `CommandBase` on all the subsystems that we need (usually in the constructor).\n",
    "\n",
    "```java\n",
    "class ExampleCommand extends CommandBase {\n",
    "    public ExampleCommand(){\n",
    "        this.addRequirements(subsys1, subsys2, ...);\n",
    "    }\n",
    "    @Override\n",
    "    public void execute() {\n",
    "        // do stuff\n",
    "    }\n",
    "}\n",
    "```"
   ]
  },
  {
   "cell_type": "markdown",
   "id": "b65fe727",
   "metadata": {
    "slideshow": {
     "slide_type": "fragment"
    },
    "tags": []
   },
   "source": [
    "But how do we get those subsystems??? "
   ]
  },
  {
   "cell_type": "markdown",
   "id": "3ee66cd6",
   "metadata": {
    "slideshow": {
     "slide_type": "notes"
    },
    "tags": []
   },
   "source": [
    "Note : If we created these subsystem in the command, then we'd have duplicate sub-systems for the same components!"
   ]
  },
  {
   "cell_type": "markdown",
   "id": "ecc58b0f",
   "metadata": {
    "slideshow": {
     "slide_type": "subslide"
    },
    "tags": []
   },
   "source": [
    "We can do it cleanly by passing subsystem objects to the constructor:\n",
    "\n",
    "```java\n",
    "class ExampleCommand extends CommandBase {\n",
    "    public ExampleCommand(SubSystemName subsys1, ...){\n",
    "        this.addRequirements(subsys1, ...);\n",
    "    }\n",
    "}\n",
    "```"
   ]
  },
  {
   "cell_type": "markdown",
   "id": "33c6035f",
   "metadata": {
    "tags": []
   },
   "source": [
    "This is an example of a pattern called `dependency injection` where things that the command needs (dependencies) are provided (injected). This helps seperate the creation and usage of out subsystems, in a nod to the principle of `seperation of concerns` from before."
   ]
  },
  {
   "cell_type": "markdown",
   "id": "f525140d",
   "metadata": {
    "slideshow": {
     "slide_type": "subslide"
    },
    "tags": []
   },
   "source": [
    "### Default Commands\n",
    "\n",
    "One particular command usage for a command is to have it always run. These commands often handle core background tasks that are essential to the function of the robot, like a `drive` command that controls robot motion."
   ]
  },
  {
   "cell_type": "markdown",
   "id": "cd022b0d",
   "metadata": {},
   "source": [
    "for these types of commands, we can make that command a `default` command of the subsystem:\n",
    "\n",
    "```java\n",
    "class ExampleCommand extends CommandBase {\n",
    "    public ExampleCommand(SubSystemName subsys1){\n",
    "        this.addRequirements(subsys1);\n",
    "        // this refers to the current object\n",
    "        subsys1.setDefaultCommand(this);\n",
    "    }\n",
    "}\n",
    "```"
   ]
  },
  {
   "cell_type": "markdown",
   "id": "89ffe11c",
   "metadata": {},
   "source": [
    "If the subsystem is not the requirement of some other command, then this default command will be executed."
   ]
  },
  {
   "cell_type": "markdown",
   "id": "f8aef423",
   "metadata": {
    "slideshow": {
     "slide_type": "subslide"
    },
    "tags": []
   },
   "source": [
    "### Example Command"
   ]
  },
  {
   "cell_type": "markdown",
   "id": "967fbdf2",
   "metadata": {},
   "source": [
    "```java\n",
    "public class ClimberCommand extends CommandBase {\n",
    "    private final Climber climber;\n",
    "    private final UserAnalog speed;\n",
    "    // climber is the subsystem\n",
    "    public ClimberCommand(Climber climber, UserAnalog speed) {\n",
    "        this.climber = climber;\n",
    "        this.speed = speed;\n",
    "        // works b/c addRequirements is a method of CommandBase\n",
    "        this.addRequirements(climber);\n",
    "        // making it a default command\n",
    "        climber.setDefaultCommand(this);\n",
    "    }\n",
    "\n",
    "    @Override\n",
    "    public void execute() {\n",
    "        climber.extend(speed.get(), false);\n",
    "    }\n",
    "}\n",
    "```"
   ]
  },
  {
   "cell_type": "markdown",
   "id": "06c4ebab",
   "metadata": {
    "slideshow": {
     "slide_type": "slide"
    },
    "tags": []
   },
   "source": [
    "## The Command Scheduler\n",
    "\n",
    "Now that we have our command, how do we run it? We defined methods for what to do in different cases with `initalize`, `execute`, and `end`, but we never called them anywhere."
   ]
  },
  {
   "cell_type": "markdown",
   "id": "a881ee69",
   "metadata": {},
   "source": [
    "Luckily, there is something that handles this, as well as the general logic of commands for us: the Command Scheduler."
   ]
  },
  {
   "cell_type": "markdown",
   "id": "cbf997cb",
   "metadata": {},
   "source": [
    "Since there should only be 1 instance of the command scheduler, we get it through an `getInstance` static method, e.g.\n",
    "```java\n",
    "// CommandScheduler is what is known as a \"singleton\"\n",
    "CommandScheduler.getInstance().run();\n",
    "```\n",
    "the CommandScheduler instance has 2 methods of use to us: `schedule` and `run`"
   ]
  },
  {
   "cell_type": "markdown",
   "id": "a6ee2a7e",
   "metadata": {
    "slideshow": {
     "slide_type": "subslide"
    },
    "tags": []
   },
   "source": [
    "`schedule` sets up a command to be run, and checks whether it makes sense to run the command, and then takes appropriate actions. These checks include:\n",
    " - whether the command is already scheduled\n",
    " - whether the subsystems required aren't already being used\n",
    "   - if they are being used, whether the other commands be interrupted\n",
    "  "
   ]
  },
  {
   "cell_type": "markdown",
   "id": "1a0c3b6d",
   "metadata": {},
   "source": [
    "`run` runs through 1 cycle of the command scheduler, which involves:\n",
    " - running each Subsystem `periodic` method\n",
    " - executing all scheduled commands\n",
    " - seeing which commands have finished and remove them from the schedule"
   ]
  },
  {
   "cell_type": "markdown",
   "id": "9becdcab",
   "metadata": {
    "slideshow": {
     "slide_type": "subslide"
    },
    "tags": []
   },
   "source": [
    "### Using commands\n",
    "\n",
    "to use our commands, we'd only need to call `schedule` on them when the correct condition is met. For our default commands, this isn't necessary. For example, if we wanted some command to run at the very start, then we could do: \n",
    "\n",
    "```java\n",
    "@Override\n",
    "public void robotInit() {\n",
    "    CommandScheduler.getInstance().schedule(\n",
    "        new SomeCommand(new SomeSubsystem(...))\n",
    "    );\n",
    "}\n",
    "```"
   ]
  },
  {
   "cell_type": "markdown",
   "id": "238a3082",
   "metadata": {},
   "source": [
    "We'd also need to reliably run our `CommandScheduler` each cycle, so we would call the `run` method from `robotPeriodic`:\n",
    "\n",
    "```java\n",
    "@Override\n",
    "public void robotPeriodic() {\n",
    "    CommandScheduler.getInstance().run();\n",
    "}\n",
    "```"
   ]
  },
  {
   "cell_type": "markdown",
   "id": "c670b897",
   "metadata": {
    "slideshow": {
     "slide_type": "subslide"
    },
    "tags": []
   },
   "source": [
    "## Digression : Simplicity & Abstraction "
   ]
  },
  {
   "cell_type": "markdown",
   "id": "c73d4ec9",
   "metadata": {},
   "source": [
    "Both by using the command scheduler as opposed to manually managing our subsystems, and by using subsystems instead of working with individual electronics, we saw that our code got a lot cleaner, and we were also able to better understand its logic. \n",
    "\n",
    "(e.g. It's much easier to understand `drive the robot` as a high level instruction than it is to understand what happens when individual motors are spun)"
   ]
  },
  {
   "cell_type": "markdown",
   "id": "c339a0d9",
   "metadata": {},
   "source": [
    "This idea of code being much more understandable as more and more gets hidden and abstracted away from us is a common one in computing in general. In very many applications, it's often important that we see which parts of the problem are important for us as people to reason with, and which parts can be handled without us needing to think about it explicitly."
   ]
  },
  {
   "cell_type": "markdown",
   "id": "cd9fd7c0",
   "metadata": {
    "slideshow": {
     "slide_type": "slide"
    },
    "tags": []
   },
   "source": [
    "## Grouping Commands\n",
    "\n",
    "We've seen how to work with individual commands, but there are many cases where we want two commands to run at the same time (in parallel), or one after the other (in sequence), or in any number of ways depending on the circumstances.\n",
    "\n",
    "Using the existing features, we can use the `initalize` and `end` methods to schedule parallel and sequential commands respectively, but WPILib offers us a much more elegant solution..."
   ]
  },
  {
   "cell_type": "markdown",
   "id": "b750d0eb",
   "metadata": {
    "slideshow": {
     "slide_type": "subslide"
    },
    "tags": []
   },
   "source": [
    "### Sequencing commands\n",
    "\n",
    "To run one command after another, we can do one of two things.\n",
    "\n",
    "1. we can a `Command`'s `andThen`/`beforeStarting` methods to run commands after/before some command. (Note that `andThen` can take > 1 commands, but `beforeStarting` only takes 1)\n",
    "\n",
    "```java\n",
    "// a chain of commands\n",
    "command1\n",
    "  .andThen(command2, command3)\n",
    "  .beforeStarting(command0);\n",
    "```\n"
   ]
  },
  {
   "cell_type": "markdown",
   "id": "018e0684",
   "metadata": {
    "slideshow": {
     "slide_type": "subslide"
    },
    "tags": []
   },
   "source": [
    "2. we can create a `SequentialCommandGroup` with all the commands we want to run:\n",
    "\n",
    "```java\n",
    "new SequentialCommandGroup(\n",
    "  command0,\n",
    "  command1,\n",
    "  command2,\n",
    "  command3\n",
    ");\n",
    "```"
   ]
  },
  {
   "cell_type": "markdown",
   "id": "37dc63a0",
   "metadata": {},
   "source": [
    "the `andThen` and `beforeStarting` methods also return a `SequentialCommandGroup` object, so both these methods can be equally good. `SequentialCommandGroup`s are themselves commands, so they also be used wherever any individual `Command` is needed. (they extend a class which extends CommandBase) "
   ]
  },
  {
   "cell_type": "markdown",
   "id": "13315a4e",
   "metadata": {
    "slideshow": {
     "slide_type": "subslide"
    },
    "tags": []
   },
   "source": [
    "### Parallelizing Commands\n",
    "\n",
    "Unlike sequential commands, which just involve running one command, and then running another when the first command finishes, there are many ways to parallelize commands, since those individual commands can end at different times."
   ]
  },
  {
   "cell_type": "markdown",
   "id": "6799c774",
   "metadata": {},
   "source": [
    "#### We Could...\n",
    "\n",
    "- end when one of the commands ends\n",
    "- end when all of the commands end\n",
    "- end when a specific command ends"
   ]
  },
  {
   "cell_type": "markdown",
   "id": "f835e9a0",
   "metadata": {
    "slideshow": {
     "slide_type": "subslide"
    },
    "tags": []
   },
   "source": [
    "#### Luckily, we can do all 3\n",
    "\n",
    "1. to end when the one command finishes, we can use the `raceWith` method\n",
    "2. to end when the all commands finish, we can use the `alongWith` method\n",
    "3. to end when a specific command finishes, we can use the `deadlineWith​` method"
   ]
  },
  {
   "cell_type": "markdown",
   "id": "9951854c",
   "metadata": {
    "slideshow": {
     "slide_type": "subslide"
    },
    "tags": []
   },
   "source": [
    "#### Direct Construction"
   ]
  },
  {
   "cell_type": "markdown",
   "id": "a17a01da",
   "metadata": {},
   "source": [
    "Similar to sequenced command groups, we can also directly construct parallel command group object instead of using those methods. As there are three ways to parallelize commands, there are 3 different parallel command groups that we can use.\n",
    "\n",
    "1. ParallelRaceGroup\n",
    "2. ParallelCommandGroup\n",
    "3. ParallelDeadlineGroup"
   ]
  },
  {
   "cell_type": "markdown",
   "id": "42be9cc7",
   "metadata": {},
   "source": [
    "The methods from before return values of these types, and values of these parallel groups, like values of sequential command groups, are themselves valid commands"
   ]
  },
  {
   "cell_type": "markdown",
   "id": "32d22b6a-0f44-49f6-9003-5849f17acf93",
   "metadata": {
    "slideshow": {
     "slide_type": "subslide"
    },
    "tags": []
   },
   "source": [
    "### Further Combinations\n",
    "\n",
    "beyond simple parallel and sequential commands, WPILib gives us a large selection of possible ways to combine many simple commands into more complex commands, a list of which can be found [here](https://docs.wpilib.org/en/stable/docs/software/commandbased/command-compositions.html)"
   ]
  },
  {
   "cell_type": "markdown",
   "id": "66bf4e53-0621-429f-a6f9-87ae1beb60c5",
   "metadata": {
    "slideshow": {
     "slide_type": "slide"
    },
    "tags": []
   },
   "source": [
    "## Inputs\n",
    "\n",
    "Now that we have made commands that correspond to individual actions and responsibilities, we need some way to know when to schedule commands in response to inputs.\n",
    "\n",
    "Fortunately, WPILib also provides many ways to get user inputs though outside devices."
   ]
  },
  {
   "cell_type": "markdown",
   "id": "7e7d5c99",
   "metadata": {
    "slideshow": {
     "slide_type": "fragment"
    },
    "tags": []
   },
   "source": [
    "For our robots in particular, we only use XBox controllers, so we made our own, even simpler system to work with just those controllers.\n",
    "\n",
    "![](https://imgs.search.brave.com/LpA8VhuzMVhkD16lVzQtewU__0g1yBfkPw3wiq_dGIA/rs:fit:490:351:1/g:ce/aHR0cHM6Ly93d3cu/dGVjaGllc2hlbHAu/Y29tL3dwLWNvbnRl/bnQvdXBsb2Fkcy8y/MDE0LzEwL3hib3gt/b25lLWNvbnRyb2xs/ZXItZnJlZXplcy5w/bmc)"
   ]
  },
  {
   "cell_type": "markdown",
   "id": "03f14f2c",
   "metadata": {
    "slideshow": {
     "slide_type": "subslide"
    },
    "tags": []
   },
   "source": [
    "### Users In An FRC Competition\n",
    "\n",
    "In an FRC competition, there will be two drivers for each robot. For us, these two drivers are called the `Primary` and `Secondary` drivers/players"
   ]
  },
  {
   "cell_type": "markdown",
   "id": "9220d575",
   "metadata": {
    "slideshow": {
     "slide_type": "subslide"
    },
    "tags": []
   },
   "source": [
    "### The Controller Class\n",
    "\n",
    "For our robot, the inputs are handled by the `Controller` class in the `utils` folder.\n",
    "\n",
    "![](https://i.imgur.com/PLW8afT.png)"
   ]
  },
  {
   "cell_type": "markdown",
   "id": "f2c6c698",
   "metadata": {
    "slideshow": {
     "slide_type": "subslide"
    },
    "tags": []
   },
   "source": [
    "To create a binding, we use either the `simpleAxis` method(which represents an input between -1 and 1, like a joystick) or the `simpleButton` method (which represents either on or off, like a button).\n",
    "\n",
    "We first pass in which controller this refers to, as well as what input to bind.\n",
    "```java\n",
    "UserDigital a = Controller.simpleButton(\n",
    "    Controller.PRIMARY,\n",
    "    Controller.BUTTONA\n",
    ");\n",
    "```\n",
    "Note that the values are static constants defined as integers, this is an example of an `enumeration`, where one particular value or `state` is represented as an integer. "
   ]
  },
  {
   "cell_type": "markdown",
   "id": "06192c9d",
   "metadata": {
    "slideshow": {
     "slide_type": "subslide"
    },
    "tags": []
   },
   "source": [
    "The `UserDigital` and `UserAnalog` interfaces are the things that represent those individual bindings. To get the input at a particular time, we call their `get` method (and they should return either a boolean or a double)"
   ]
  },
  {
   "cell_type": "markdown",
   "id": "cca81508",
   "metadata": {},
   "source": [
    "```java\n",
    "// userdigital example\n",
    "boolean isButtonADown = buttonA.get();\n",
    "// useranalog example\n",
    "double leftTriggerOut = leftTrigger.get();\n",
    "```"
   ]
  },
  {
   "cell_type": "markdown",
   "id": "c3d240ad",
   "metadata": {
    "slideshow": {
     "slide_type": "subslide"
    },
    "tags": []
   },
   "source": [
    "### Inputs & Commands\n",
    "\n",
    "Now that we've created our input bindings, how can we give them to a command, so that they can be properly used? "
   ]
  },
  {
   "cell_type": "markdown",
   "id": "359e19ce",
   "metadata": {},
   "source": [
    "Similar to what we did before with subsystems, we can inject them as a constructor parameter!\n",
    "\n",
    "```java\n",
    "class ExampleCommand extends CommandBase {\n",
    "    private SubSystemName sys;\n",
    "    private UserDigital in;\n",
    "    public ExampleCommand(SubSystemName subsys1, UserDigital input){\n",
    "        in = input;\n",
    "        sys = subsys1;\n",
    "        this.addRequirements(subsys1);\n",
    "        // this refers to the current object\n",
    "        subsys1.setDefaultCommand(this);\n",
    "    }\n",
    "    @Override \n",
    "    public void execute(){\n",
    "      if (in.get()) subsys1.doThing();\n",
    "    }\n",
    "}\n",
    "```"
   ]
  },
  {
   "cell_type": "markdown",
   "id": "d33002a9-6de2-4192-8486-5257b2c15a83",
   "metadata": {
    "slideshow": {
     "slide_type": "slide"
    },
    "tags": []
   },
   "source": [
    "## Program Organization\n",
    "\n",
    "Now that we've seen all the individual parts of our design, we can look at how they fit together (take about why we disregard Main.java)"
   ]
  },
  {
   "cell_type": "markdown",
   "id": "407d53ed",
   "metadata": {
    "slideshow": {
     "slide_type": "fragment"
    },
    "tags": []
   },
   "source": [
    "### Robot.java\n",
    "\n",
    "(note : remember, us humans aren't aren't that good at thinking of mechanisms as actions ....)\n",
    "\n",
    "The `Robot` class itself doesn't contain that much in both our Robot codebase as well as in the example project, and this is by design. Because the Robot itself operates off of **time**, and not off of **inputs**, we want to limit the amount of work done in this class. \n",
    "\n",
    "All the robot handles are background tasks, such as running the command scheduler (robotPeriodic), and handling phase transitions (teleopInit). The heavy work is done by another class, the `RobotContainer` (which Robot creates in robotInit)."
   ]
  },
  {
   "cell_type": "markdown",
   "id": "ff44a6ff",
   "metadata": {
    "slideshow": {
     "slide_type": "subslide"
    },
    "tags": []
   },
   "source": [
    "### RobotContainer\n",
    "\n",
    "the `RobotContainer` class handles the setting up, as well as storage of all the individual subsystems and commands. Generally, subsystems and commands are created in the constructor of the RobotContainer, and it also specifies which commands to run during autonomous.\n",
    "\n",
    "In addition, the RobotContainer should also creates all of our input bindings, before passing them off to the subsystems and commands"
   ]
  },
  {
   "cell_type": "markdown",
   "id": "a72570a5",
   "metadata": {
    "slideshow": {
     "slide_type": "subslide"
    },
    "tags": []
   },
   "source": [
    "### Constants\n",
    "\n",
    "Often, we'll have many values that represent specific constants and need to be used throughout our project (example being CAN ids). For those values, we put them in a dedicated Constants class. Since we only need one copy of each, want to access it from everywhere, and don't want to change their values, we'll make them `public static final` fields. \n",
    "\n",
    "This can get to be quite long and a bit of an eyesore, so we take advantage of another java feature, and just make them fields within an `interface` instead of a class, which makes them automatically public, static, and final."
   ]
  },
  {
   "cell_type": "markdown",
   "id": "6efe2455",
   "metadata": {
    "slideshow": {
     "slide_type": "subslide"
    },
    "tags": []
   },
   "source": [
    "### Subfolders\n",
    "\n",
    "besides the main 3 (4) classes, we want to group all our other classes into meaningful folders (and by extension packages).\n",
    "\n",
    "Two of these groupings are the `subsystems` and `commands` folders, but we also have in our project a `utils`, or utilities folder containing miscellaneous things that are useful, like our class for managing controllers, and the UserDigital/UserAnalog interfaces"
   ]
  },
  {
   "cell_type": "markdown",
   "id": "85e2a8eb",
   "metadata": {
    "slideshow": {
     "slide_type": "fragment"
    },
    "tags": []
   },
   "source": [
    "### The in-depth description\n",
    "\n",
    "https://docs.wpilib.org/en/stable/docs/software/commandbased/structuring-command-based-project.html\n",
    "\n",
    "### Documentation\n",
    "\n",
    "- https://first.wpi.edu/wpilib/allwpilib/docs/release/java/index.html\n",
    "- https://api.ctr-electronics.com/phoenix/release/java/index.html\n",
    "- https://codedocs.revrobotics.com/java/com/revrobotics/package-summary.html"
   ]
  }
 ],
 "metadata": {
  "kernelspec": {
   "display_name": "Java",
   "language": "java",
   "name": "java"
  },
  "language_info": {
   "codemirror_mode": "java",
   "file_extension": ".jshell",
   "mimetype": "text/x-java-source",
   "name": "Java",
   "pygments_lexer": "java",
   "version": "17.0.4.1+1"
  },
  "vscode": {
   "interpreter": {
    "hash": "b8a6d9b80dcf53dac0db88ee280fe003af7896d55209108fde44da72bfc602ee"
   }
  }
 },
 "nbformat": 4,
 "nbformat_minor": 5
}
