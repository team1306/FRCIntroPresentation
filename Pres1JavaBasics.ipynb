{
 "cells": [
  {
   "attachments": {},
   "cell_type": "markdown",
   "metadata": {
    "slideshow": {
     "slide_type": "slide"
    },
    "tags": []
   },
   "source": [
    "# Intro to Java Basics\n",
    "\n",
    "This presentation will primarily be one the basics of the java language itself, later ones will focus more on FRC related topics\n",
    "\n",
    "### Download links (If you don't already have java)\n",
    "- [Java Development Kit](https://adoptium.net/temurin/releases/?version=17) \n",
    "- [WPILib](https://docs.wpilib.org/en/stable/docs/zero-to-robot/step-2/wpilib-setup.html)\n",
    "- [git](https://github.com/git-guides/install-git)\n",
    "\n",
    "for WPILib/git its fine if you just download but don't install yet, they won't be used for this presentation. WPILib's download is a pretty large file (~1.5 gigabytes) so getting it downloaded early is always better. \n",
    "\n",
    "This presentation will start by writing code to run in JShell, a simplified java environment where we don't need to use all the pieces of a full java program. We'll introduce those, along withproject building and management later by using gradle/git."
   ]
  },
  {
   "cell_type": "markdown",
   "metadata": {
    "slideshow": {
     "slide_type": "slide"
    },
    "tags": []
   },
   "source": [
    "## Statements : Doing Stuff\n",
    "\n",
    "A statement is an action that we want to carry out. Statements in java must end with a semicolon, for example:"
   ]
  },
  {
   "cell_type": "code",
   "execution_count": 1,
   "metadata": {
    "tags": [],
    "vscode": {
     "languageId": "java"
    }
   },
   "outputs": [
    {
     "name": "stdout",
     "output_type": "stream",
     "text": [
      "Hello, World!\n"
     ]
    }
   ],
   "source": [
    "System.out.println(\"Hello, World!\"); // print \"Hello, World!\" to output"
   ]
  },
  {
   "cell_type": "markdown",
   "metadata": {
    "slideshow": {
     "slide_type": "fragment"
    },
    "tags": []
   },
   "source": [
    "A statement can also span over multiple lines, as semicolons, not spaces, are used to denote the end of a statement,"
   ]
  },
  {
   "cell_type": "markdown",
   "metadata": {
    "slideshow": {
     "slide_type": "subslide"
    },
    "tags": []
   },
   "source": [
    "This is also a valid statement...."
   ]
  },
  {
   "cell_type": "code",
   "execution_count": 2,
   "metadata": {
    "tags": [],
    "vscode": {
     "languageId": "java"
    }
   },
   "outputs": [
    {
     "name": "stdout",
     "output_type": "stream",
     "text": [
      "It was the best of times, it was the worst of times, it was the age of wisdom, it was the age of foolishness it was the epoch of belief, it was the epoch of incredulity, it was the season of Light, it was the season of Darkness, it was the spring of hope, it was the winter of despair, we had everything before us, we had nothing before us, we were all going direct to Heaven, we were all going direct the other way\n"
     ]
    }
   ],
   "source": [
    "System.out.println(\n",
    "    \"It was the best of times, it was the worst of times,\"\n",
    "    + \" it was the age of wisdom, it was the age of foolishness\"\n",
    "    + \" it was the epoch of belief, it was the epoch of incredulity,\"\n",
    "    + \" it was the season of Light, it was the season of Darkness,\"\n",
    "    + \" it was the spring of hope, it was the winter of despair,\"\n",
    "    + \" we had everything before us, we had nothing before us,\"\n",
    "    + \" we were all going direct to Heaven,\"\n",
    "    + \" we were all going direct the other way\"\n",
    "); "
   ]
  },
  {
   "cell_type": "markdown",
   "metadata": {
    "slideshow": {
     "slide_type": "slide"
    }
   },
   "source": [
    "## Comments : Clarifying Code\n",
    "\n",
    "The text following a `//` is called a **comment**, and it has no impact on the actual program - however, they are useful as they can help us explain our code, and let us better understand our code when we come back to it later on.\n",
    "\n",
    "`//` comments out only the text on the same line, so the text on the next line is ran normally"
   ]
  },
  {
   "cell_type": "code",
   "execution_count": 3,
   "metadata": {
    "slideshow": {
     "slide_type": "fragment"
    },
    "vscode": {
     "languageId": "java"
    }
   },
   "outputs": [
    {
     "name": "stdout",
     "output_type": "stream",
     "text": [
      "0\n"
     ]
    }
   ],
   "source": [
    "// prints out the number of submarines in the sky\n",
    "System.out.println(0);"
   ]
  },
  {
   "attachments": {},
   "cell_type": "markdown",
   "metadata": {
    "slideshow": {
     "slide_type": "slide"
    }
   },
   "source": [
    "## Variables : Giving Values Names\n",
    "\n",
    "constant values like `0` in the previous slide don't tell us much about its meaning or significance (it could be the temperature or the amount of cookies left in a jar), instead we can pair that value with a name that explains what it means. In java, we'd do this by creating (or `initializing`) a variable.\n",
    "\n",
    "$\\hspace{7cm}$![image](https://i.imgur.com/V3P0lBI.png)"
   ]
  },
  {
   "cell_type": "code",
   "execution_count": 4,
   "metadata": {
    "slideshow": {
     "slide_type": "fragment"
    },
    "vscode": {
     "languageId": "java"
    }
   },
   "outputs": [
    {
     "name": "stdout",
     "output_type": "stream",
     "text": [
      "0\n"
     ]
    }
   ],
   "source": [
    "int skySubmarines = 0;             // create a variable\n",
    "System.out.println(skySubmarines); // print out its value"
   ]
  },
  {
   "cell_type": "markdown",
   "metadata": {
    "slideshow": {
     "slide_type": "subslide"
    }
   },
   "source": [
    "Notice that variables also have an associated type, which tells us what kind of value it holds. \n",
    "\n",
    "The core simple types are:\n",
    " - `int`, which holds a positive or negative integer (e.g. -1, 0, 59)\n",
    " - `char`, which holds a character, (e.g. `a`, `4`, or `{`)\n",
    " - `boolean`, which is either `true` or `false`\n",
    " - `double`, which holds some decimal number (e.g. -3.14, 2.718, 1.618)\n",
    "\n",
    "(less importantly, there is also `short` and `long`, which are similar to `int` but have a different size, as well as `float`, which is similar to a `double`, but smaller)\n",
    "\n",
    " attempting to hold a value that isnt of the correct type will error, with the exception of `double` holding an `int`, since java can automatically convert from int to double"
   ]
  },
  {
   "cell_type": "code",
   "execution_count": 5,
   "metadata": {
    "slideshow": {
     "slide_type": "subslide"
    },
    "vscode": {
     "languageId": "java"
    }
   },
   "outputs": [],
   "source": [
    "int age = 51;\n",
    "char middleInitial = 'M'; // note that characters are denoted by single quotes\n",
    "boolean isMarried = true;\n",
    "double heightInMeters = 1.78;\n",
    "double age2 = age; // not the same type, but since ints are valid doubles, it works"
   ]
  },
  {
   "cell_type": "code",
   "execution_count": 7,
   "metadata": {
    "vscode": {
     "languageId": "java"
    }
   },
   "outputs": [
    {
     "ename": "CompilationException",
     "evalue": "",
     "output_type": "error",
     "traceback": [
      "\u001b[1m\u001b[30m|   \u001b[1m\u001b[30mchar age3 = \u001b[0m\u001b[1m\u001b[30m\u001b[41mage\u001b[0m\u001b[1m\u001b[30m; // incorrect type; will error\u001b[0m",
      "\u001b[1m\u001b[31mincompatible types: possible lossy conversion from int to char\u001b[0m",
      ""
     ]
    }
   ],
   "source": [
    "char age3 = age; // incorrect type; will error"
   ]
  },
  {
   "cell_type": "markdown",
   "metadata": {
    "slideshow": {
     "slide_type": "subslide"
    }
   },
   "source": [
    "another common but less simple type is the `string`, which is a grouping of characters"
   ]
  },
  {
   "cell_type": "code",
   "execution_count": 8,
   "metadata": {
    "tags": [],
    "vscode": {
     "languageId": "java"
    }
   },
   "outputs": [],
   "source": [
    "String name = \"Alfred Boris Cruz\"; "
   ]
  },
  {
   "cell_type": "markdown",
   "metadata": {
    "slideshow": {
     "slide_type": "fragment"
    },
    "tags": []
   },
   "source": [
    "note that strings are denoted by double quotes - using single quotes for a string will result in an error"
   ]
  },
  {
   "cell_type": "code",
   "execution_count": 9,
   "metadata": {
    "vscode": {
     "languageId": "java"
    }
   },
   "outputs": [
    {
     "ename": "CompilationException",
     "evalue": "",
     "output_type": "error",
     "traceback": [
      "\u001b[1m\u001b[30m|   \u001b[1m\u001b[30mString name2 = \u001b[0m\u001b[1m\u001b[30m\u001b[41m\u001b[0m\u001b[1m\u001b[30m'Alfred Boris Cruz'; \u001b[0m",
      "\u001b[1m\u001b[31munclosed character literal\u001b[0m",
      ""
     ]
    }
   ],
   "source": [
    "String name2 = 'Alfred Boris Cruz'; "
   ]
  },
  {
   "cell_type": "markdown",
   "metadata": {
    "slideshow": {
     "slide_type": "subslide"
    },
    "tags": []
   },
   "source": [
    "After being declared, variables can be modified, or `assigned` to. The way to do this is similar to creating the variable, just without including the type. Note that trying to change a variable to a value of a different type will produce an error."
   ]
  },
  {
   "cell_type": "code",
   "execution_count": 10,
   "metadata": {
    "tags": [],
    "vscode": {
     "languageId": "java"
    }
   },
   "outputs": [],
   "source": [
    "age = 52; \n",
    "isMarried = false;"
   ]
  },
  {
   "cell_type": "code",
   "execution_count": 11,
   "metadata": {
    "vscode": {
     "languageId": "java"
    }
   },
   "outputs": [
    {
     "ename": "CompilationException",
     "evalue": "",
     "output_type": "error",
     "traceback": [
      "\u001b[1m\u001b[30m|   \u001b[1m\u001b[30misMarried = \u001b[0m\u001b[1m\u001b[30m\u001b[41m1\u001b[0m\u001b[1m\u001b[30m; // will error\u001b[0m",
      "\u001b[1m\u001b[31mincompatible types: int cannot be converted to boolean\u001b[0m",
      ""
     ]
    }
   ],
   "source": [
    "isMarried = 1; // will error"
   ]
  },
  {
   "cell_type": "markdown",
   "metadata": {
    "slideshow": {
     "slide_type": "subslide"
    },
    "tags": []
   },
   "source": [
    "Variables can also be created, but not initialized - this is refered to as either the `declaration` or `definition` of the variable.\n",
    "\n",
    "if a variable is created in this way, it must be assigned to later on - using it without assigning a value will produce an error"
   ]
  },
  {
   "cell_type": "code",
   "execution_count": 12,
   "metadata": {
    "vscode": {
     "languageId": "java"
    }
   },
   "outputs": [
    {
     "ename": "CompilationException",
     "evalue": "",
     "output_type": "error",
     "traceback": [
      "\u001b[1m\u001b[30m|   \u001b[1m\u001b[30m    System.out.println(\u001b[0m\u001b[1m\u001b[30m\u001b[41mk\u001b[0m\u001b[1m\u001b[30m);\u001b[0m",
      "\u001b[1m\u001b[31mvariable k might not have been initialized\u001b[0m",
      ""
     ]
    }
   ],
   "source": [
    "{ // explicit block needed because of how jshell works\n",
    "    boolean k;\n",
    "    System.out.println(k);\n",
    "}"
   ]
  },
  {
   "cell_type": "code",
   "execution_count": 13,
   "metadata": {
    "vscode": {
     "languageId": "java"
    }
   },
   "outputs": [
    {
     "name": "stdout",
     "output_type": "stream",
     "text": [
      "true\n"
     ]
    }
   ],
   "source": [
    "{\n",
    "    boolean k;\n",
    "    k = true;\n",
    "    System.out.println(k);\n",
    "}"
   ]
  },
  {
   "attachments": {},
   "cell_type": "markdown",
   "metadata": {
    "slideshow": {
     "slide_type": "slide"
    }
   },
   "source": [
    "## Conditionals (if/else statements)\n",
    "\n",
    "sometimes we want different behaviors depending on some condition. A good example would be the check on whether someone is tall enough to ride on a rollercoaster or waterslide. \n",
    "\n",
    "In that scenario, we'd want to make sure to let in people who are tall enough and stop people people who aren't\n",
    "\n",
    "\n",
    "![image](https://external-content.duckduckgo.com/iu/?u=https%3A%2F%2Fwhat-if.xkcd.com%2Fimgs%2Fa%2F77%2Fheight_coaster.png&f=1&nofb=1)"
   ]
  },
  {
   "cell_type": "code",
   "execution_count": 14,
   "metadata": {
    "slideshow": {
     "slide_type": "subslide"
    },
    "tags": [],
    "vscode": {
     "languageId": "java"
    }
   },
   "outputs": [],
   "source": [
    "double heightOfJoe = 1.78;\n",
    "double heightOfBob = 1.23;"
   ]
  },
  {
   "cell_type": "markdown",
   "metadata": {
    "tags": []
   },
   "source": [
    "with a height requirement of 1.5 meters, we should see that Joe is tall enough to ride but bob isn't"
   ]
  },
  {
   "cell_type": "code",
   "execution_count": 15,
   "metadata": {
    "slideshow": {
     "slide_type": "fragment"
    },
    "tags": [],
    "vscode": {
     "languageId": "java"
    }
   },
   "outputs": [
    {
     "name": "stdout",
     "output_type": "stream",
     "text": [
      "can ride\n"
     ]
    }
   ],
   "source": [
    "if (heightOfJoe > 1.5)\n",
    "    System.out.println(\"can ride\");\n",
    "else\n",
    "    System.out.println(\"too short\");"
   ]
  },
  {
   "cell_type": "code",
   "execution_count": 16,
   "metadata": {
    "vscode": {
     "languageId": "java"
    }
   },
   "outputs": [
    {
     "name": "stdout",
     "output_type": "stream",
     "text": [
      "too short\n"
     ]
    }
   ],
   "source": [
    "if (heightOfBob > 1.5)\n",
    "    System.out.println(\"can ride\");\n",
    "else \n",
    "    System.out.println(\"too short\");"
   ]
  },
  {
   "cell_type": "markdown",
   "metadata": {
    "slideshow": {
     "slide_type": "subslide"
    },
    "tags": []
   },
   "source": [
    "As seen from the code above, the general structure for an if-else statement is \n",
    "```java\n",
    "if (A)\n",
    "    B\n",
    "else\n",
    "    C\n",
    "```\n",
    "where `A` is a condition that we are checking (it must result in a boolean), `B` is the action we want to happen when A is true, and `C` is the action we want to happen when A is false. \n",
    "\n",
    "if we only want to do something when `A` is true, then the `else C` portion can be left off, like for example:"
   ]
  },
  {
   "cell_type": "code",
   "execution_count": 17,
   "metadata": {
    "vscode": {
     "languageId": "java"
    }
   },
   "outputs": [],
   "source": [
    "int accountBalance = 50;\n",
    "// nothing is done as the condition is not satisfied\n",
    "if (accountBalance < 10)\n",
    "    System.out.println(\"cannot withdraw\");"
   ]
  },
  {
   "cell_type": "markdown",
   "metadata": {
    "slideshow": {
     "slide_type": "subslide"
    },
    "tags": []
   },
   "source": [
    "If we want to do multiple actions, then we'd surround the `B` and `C` with braces, allowing us to place multiple statements within it."
   ]
  },
  {
   "cell_type": "markdown",
   "metadata": {
    "slideshow": {
     "slide_type": "fragment"
    },
    "tags": []
   },
   "source": [
    "Expanding on the previous program:"
   ]
  },
  {
   "cell_type": "code",
   "execution_count": 18,
   "metadata": {
    "vscode": {
     "languageId": "java"
    }
   },
   "outputs": [
    {
     "name": "stdout",
     "output_type": "stream",
     "text": [
      "thanks for your purchase\n",
      "39\n"
     ]
    }
   ],
   "source": [
    "int accountBalance = 50;\n",
    "if (accountBalance < 10) {\n",
    "    System.out.println(\"cannot withdraw\");\n",
    "    System.out.println(\"try again after acquiring more funding\");\n",
    "} else {\n",
    "    accountBalance = accountBalance - 11;\n",
    "    System.out.println(\"thanks for your purchase\");\n",
    "}\n",
    "System.out.println(accountBalance); // remaining funds"
   ]
  },
  {
   "cell_type": "markdown",
   "metadata": {
    "slideshow": {
     "slide_type": "subslide"
    },
    "tags": []
   },
   "source": [
    "If there are multiple cases, you can chain if-else statements together, here is the expanded version for example:"
   ]
  },
  {
   "cell_type": "code",
   "execution_count": 19,
   "metadata": {
    "vscode": {
     "languageId": "java"
    }
   },
   "outputs": [
    {
     "name": "stdout",
     "output_type": "stream",
     "text": [
      "three\n"
     ]
    }
   ],
   "source": [
    "int x = 3;\n",
    "if (x == 1){\n",
    "    System.out.println(\"one\");\n",
    "} else {\n",
    "    if (x == 2){\n",
    "        System.out.println(\"two\");\n",
    "    } else {\n",
    "        if (x == 3){\n",
    "            System.out.println(\"three\");\n",
    "        } else {\n",
    "            System.out.println(\"something else\");\n",
    "        }\n",
    "    }\n",
    "}"
   ]
  },
  {
   "cell_type": "markdown",
   "metadata": {
    "slideshow": {
     "slide_type": "subslide"
    },
    "tags": []
   },
   "source": [
    "When unnecessary braces are removed, this results in: "
   ]
  },
  {
   "cell_type": "code",
   "execution_count": 20,
   "metadata": {
    "vscode": {
     "languageId": "java"
    }
   },
   "outputs": [
    {
     "name": "stdout",
     "output_type": "stream",
     "text": [
      "three\n"
     ]
    }
   ],
   "source": [
    "int x = 3;\n",
    "if (x == 1) {\n",
    "    System.out.println(\"one\");\n",
    "} else if (x == 2) {\n",
    "    System.out.println(\"two\");\n",
    "} else if (x == 3) {\n",
    "    System.out.println(\"three\");\n",
    "} else {\n",
    "    System.out.println(\"something else\");\n",
    "}"
   ]
  },
  {
   "cell_type": "markdown",
   "metadata": {
    "slideshow": {
     "slide_type": "slide"
    },
    "tags": []
   },
   "source": [
    "## Loops : Lather, Rinse, Repeat\n",
    "\n",
    "![loops](https://images.vexels.com/media/users/3/155425/isolated/lists/656e36a687dada7c22ee3146ab8adf26-three-thick-arrows-circle.png)\n",
    "\n",
    "loops are a way to repeating a block of code multiple times. The block of code being repeated is known as the `Loop Body`.\n",
    "\n",
    "Loops in java fall generally into 2 main categories*:"
   ]
  },
  {
   "cell_type": "markdown",
   "metadata": {
    "slideshow": {
     "slide_type": "subslide"
    },
    "tags": []
   },
   "source": [
    "while loops, which repeat a block of code while a some condition is true, like for example:"
   ]
  },
  {
   "cell_type": "code",
   "execution_count": 21,
   "metadata": {
    "vscode": {
     "languageId": "java"
    }
   },
   "outputs": [
    {
     "name": "stdout",
     "output_type": "stream",
     "text": [
      "too young\n",
      "16\n",
      "too young\n",
      "17\n",
      "old enough\n",
      "18\n"
     ]
    }
   ],
   "source": [
    "int age = 16;\n",
    "while (age < 18) {\n",
    "    System.out.println(\"too young\");\n",
    "    System.out.println(age);\n",
    "    age = age + 1;\n",
    "}\n",
    "System.out.println(\"old enough\");\n",
    "System.out.println(age);"
   ]
  },
  {
   "cell_type": "markdown",
   "metadata": {
    "slideshow": {
     "slide_type": "subslide"
    },
    "tags": []
   },
   "source": [
    "and for loops, which are usually used to loop between a start and end value, and are commonly used to iterate through collections of values (like for example arrays).\n",
    "\n",
    "an array of some type is denoted with a pair of square brackets after the type name, like for example: "
   ]
  },
  {
   "cell_type": "code",
   "execution_count": 22,
   "metadata": {
    "vscode": {
     "languageId": "java"
    }
   },
   "outputs": [
    {
     "name": "stdout",
     "output_type": "stream",
     "text": [
      "chocolate\n"
     ]
    }
   ],
   "source": [
    "// create an array of Strings that contains 3 values: \"chocolate\", \"vanilla\", and \"strawberry\"\n",
    "String[] iceCreamFlavors = {\"chocolate\", \"vanilla\", \"strawberry\"};\n",
    "System.out.println(iceCreamFlavors[0]);"
   ]
  },
  {
   "cell_type": "markdown",
   "metadata": {},
   "source": [
    "The array is indexed also with a pair of square brackets, like shown on the last line"
   ]
  },
  {
   "cell_type": "markdown",
   "metadata": {
    "slideshow": {
     "slide_type": "subslide"
    },
    "tags": []
   },
   "source": [
    "Note that the first value in the array is at index 0, the second at index 1, and the third at index 2\n",
    "so the values are located between `0` and `length-1`, as opposed to between `1` and `length`.\n",
    "\n",
    "A for loop going through the array would then look like:"
   ]
  },
  {
   "cell_type": "code",
   "execution_count": 23,
   "metadata": {
    "vscode": {
     "languageId": "java"
    }
   },
   "outputs": [
    {
     "name": "stdout",
     "output_type": "stream",
     "text": [
      "chocolate\n",
      "vanilla\n",
      "strawberry\n"
     ]
    }
   ],
   "source": [
    "for (int i = 0; i < 3; i = i + 1) {\n",
    "    System.out.println(iceCreamFlavors[i]);\n",
    "}"
   ]
  },
  {
   "cell_type": "markdown",
   "metadata": {
    "slideshow": {
     "slide_type": "slide"
    },
    "tags": []
   },
   "source": [
    "## Functions : Reusing Actions\n",
    "\n",
    "Sometimes, we need to some action or calculation multiple times at multiple locations, and with different inputs, like if we want to check the heights of multiple people."
   ]
  },
  {
   "cell_type": "markdown",
   "metadata": {
    "slideshow": {
     "slide_type": "fragment"
    },
    "tags": []
   },
   "source": [
    "We can try doing this directly, but..."
   ]
  },
  {
   "cell_type": "code",
   "execution_count": 24,
   "metadata": {
    "slideshow": {
     "slide_type": "fragment"
    },
    "tags": [],
    "vscode": {
     "languageId": "java"
    }
   },
   "outputs": [
    {
     "name": "stdout",
     "output_type": "stream",
     "text": [
      "can ride\n",
      "too short\n",
      "too short\n",
      "can ride\n"
     ]
    }
   ],
   "source": [
    "double heightOfJoe = 1.78;\n",
    "double heightOfBob = 1.23;\n",
    "double heightOfAlex = 1.45;\n",
    "double heightOfJane = 1.56;\n",
    "\n",
    "if (heightOfJoe > 1.5)\n",
    "    System.out.println(\"can ride\");\n",
    "else\n",
    "    System.out.println(\"too short\");\n",
    "\n",
    "if (heightOfBob > 1.5)\n",
    "    System.out.println(\"can ride\");\n",
    "else\n",
    "    System.out.println(\"too short\");\n",
    "\n",
    "if (heightOfAlex > 1.5)\n",
    "    System.out.println(\"can ride\");\n",
    "else\n",
    "    System.out.println(\"too short\");\n",
    "\n",
    "if (heightOfJane > 1.5)\n",
    "    System.out.println(\"can ride\");\n",
    "else\n",
    "    System.out.println(\"too short\");"
   ]
  },
  {
   "cell_type": "markdown",
   "metadata": {},
   "source": [
    "...it blows up"
   ]
  },
  {
   "cell_type": "markdown",
   "metadata": {
    "slideshow": {
     "slide_type": "subslide"
    },
    "tags": []
   },
   "source": [
    "Instead, we can wrap the checking of heights in a function:"
   ]
  },
  {
   "cell_type": "code",
   "execution_count": 25,
   "metadata": {
    "tags": [],
    "vscode": {
     "languageId": "java"
    }
   },
   "outputs": [],
   "source": [
    "String checkCanRide(double height) {\n",
    "    if (height > 1.5)\n",
    "        return \"can ride\";\n",
    "    else\n",
    "        return \"too short\";\n",
    "}"
   ]
  },
  {
   "cell_type": "markdown",
   "metadata": {},
   "source": [
    "- `return type` : `String` at the front \n",
    "- `parameter` : `double height` wrapped in parentheses.\n",
    "- `return <thing>;` represents a result from the function. As the return type is string in this example, both of the possible return values are strings\n",
    "- the body of the function, unlike an if-statement/loop, **must** be wrapped in braces"
   ]
  },
  {
   "cell_type": "markdown",
   "metadata": {
    "slideshow": {
     "slide_type": "fragment"
    },
    "tags": []
   },
   "source": [
    "in a sense, it's similar to functions in math, where for some input, you get some output, like for example: in \n",
    "$f(x) = 3 \\cdot x + x$, $f(3)$ would be equal to $3 \\cdot 3 + 3 = 12$"
   ]
  },
  {
   "cell_type": "markdown",
   "metadata": {
    "slideshow": {
     "slide_type": "subslide"
    },
    "tags": []
   },
   "source": [
    "Also similar to functions in math, calling a function is done by placing parentheses after the function's name, with inputs (or `arguments`) wrapped in those parenthese."
   ]
  },
  {
   "cell_type": "code",
   "execution_count": 26,
   "metadata": {
    "vscode": {
     "languageId": "java"
    }
   },
   "outputs": [
    {
     "name": "stdout",
     "output_type": "stream",
     "text": [
      "can ride\n",
      "too short\n",
      "too short\n",
      "can ride\n"
     ]
    }
   ],
   "source": [
    "System.out.println(checkCanRide(heightOfJoe));\n",
    "System.out.println(checkCanRide(heightOfBob));\n",
    "System.out.println(checkCanRide(heightOfAlex));\n",
    "System.out.println(checkCanRide(heightOfJane));"
   ]
  },
  {
   "cell_type": "markdown",
   "metadata": {
    "slideshow": {
     "slide_type": "subslide"
    },
    "tags": []
   },
   "source": [
    "That's a lot cleaner, but we can still do better (note that the `System.out.println` is still repeated).\n",
    "\n",
    "luckily, one place where java and math functions are different is that java functions can return no value, if the return type is marked as `void`"
   ]
  },
  {
   "cell_type": "code",
   "execution_count": 27,
   "metadata": {
    "vscode": {
     "languageId": "java"
    }
   },
   "outputs": [],
   "source": [
    "void checkCanRide(double height) {\n",
    "  if (height > 1.5)\n",
    "      System.out.println(\"can ride\");\n",
    "  else\n",
    "      System.out.println(\"too short\");\n",
    "}"
   ]
  },
  {
   "cell_type": "markdown",
   "metadata": {},
   "source": [
    "functions denoted by a return type of `void` only do some action and produce no result"
   ]
  },
  {
   "cell_type": "markdown",
   "metadata": {
    "slideshow": {
     "slide_type": "subslide"
    },
    "tags": []
   },
   "source": [
    "Again, we can call the function, but this time, the prints aren't needed"
   ]
  },
  {
   "cell_type": "code",
   "execution_count": 28,
   "metadata": {
    "vscode": {
     "languageId": "java"
    }
   },
   "outputs": [
    {
     "name": "stdout",
     "output_type": "stream",
     "text": [
      "can ride\n",
      "too short\n",
      "too short\n",
      "can ride\n"
     ]
    }
   ],
   "source": [
    "checkCanRide(heightOfJoe);\n",
    "checkCanRide(heightOfBob);\n",
    "checkCanRide(heightOfAlex);\n",
    "checkCanRide(heightOfJane);"
   ]
  },
  {
   "cell_type": "markdown",
   "metadata": {
    "slideshow": {
     "slide_type": "slide"
    },
    "tags": []
   },
   "source": [
    "## Scopes : where can a variable be used?\n",
    "\n",
    "Variables in Java are `block scoped`, meaning that they are only accessible within the block they were defined in, as well as in sub-blocks, where each block is a sequence of statements, as shown in the if-statement and loop examples.\n",
    "\n",
    "At the end of a block, the variable binding is removed, and that name can be used again for some other value\n",
    "\n",
    "Scopes in java are typically shown using the indentation level"
   ]
  },
  {
   "cell_type": "markdown",
   "metadata": {
    "slideshow": {
     "slide_type": "subslide"
    },
    "tags": []
   },
   "source": [
    "For example:"
   ]
  },
  {
   "cell_type": "code",
   "execution_count": 29,
   "metadata": {
    "vscode": {
     "languageId": "java"
    }
   },
   "outputs": [
    {
     "name": "stdout",
     "output_type": "stream",
     "text": [
      "5\n"
     ]
    }
   ],
   "source": [
    "int x = 5;\n",
    "if (x == 5) {\n",
    "    // the block associated with the if statement is contained within the larger block of code that contains `x`\n",
    "    System.out.println(x); \n",
    "}"
   ]
  },
  {
   "cell_type": "markdown",
   "metadata": {},
   "source": [
    "in the example, accessing x from inside the if statement works, as the block associated with the if statement is a 'sub-block' contained within the block that has `x`\n"
   ]
  },
  {
   "cell_type": "markdown",
   "metadata": {
    "slideshow": {
     "slide_type": "subslide"
    },
    "tags": []
   },
   "source": [
    "\n",
    "However, trying to access a variable defined from inside a sub-block will produce an error, like for example:"
   ]
  },
  {
   "cell_type": "code",
   "execution_count": 30,
   "metadata": {
    "vscode": {
     "languageId": "java"
    }
   },
   "outputs": [
    {
     "ename": "CompilationException",
     "evalue": "",
     "output_type": "error",
     "traceback": [
      "\u001b[1m\u001b[30m|   \u001b[1m\u001b[30mSystem.out.println(\u001b[0m\u001b[1m\u001b[30m\u001b[41my\u001b[0m\u001b[1m\u001b[30m); \u001b[0m",
      "\u001b[1m\u001b[31mcannot find symbol\u001b[0m",
      "\u001b[1m\u001b[31m  symbol:   variable y\u001b[0m",
      ""
     ]
    }
   ],
   "source": [
    "int x = 5;\n",
    "if (x == 5) {\n",
    "    int y = 10;\n",
    "}\n",
    "System.out.println(y); "
   ]
  },
  {
   "cell_type": "markdown",
   "metadata": {},
   "source": [
    "Intuitively, accesses like this example should error, since had the condition not been true, the variable would have never been created"
   ]
  },
  {
   "cell_type": "markdown",
   "metadata": {
    "slideshow": {
     "slide_type": "slide"
    },
    "tags": []
   },
   "source": [
    "## Misc. Topics\n",
    "\n",
    "That mostly concludes the introduction to the basics of Java, the next one will focus moreso on Classes, Objects, Imports, and some topics relating to FRC programming. \n",
    "\n",
    "However, there are some things that I'd like to mention here that didn't really fit well into the other sections. "
   ]
  },
  {
   "cell_type": "markdown",
   "metadata": {
    "slideshow": {
     "slide_type": "subslide"
    },
    "tags": []
   },
   "source": [
    "### Operators\n",
    "\n",
    "The three most important kinds of operators are the arithmetic, logic, and comparison operators.\n",
    "\n",
    "For arithmetic, there are\n",
    " - `+`, which adds two integers/doubles, and combines 2 strings (e.g. `\"a\" + \"b\" = \"ab\"`)\n",
    " - `-`, which subtracts two integers/doubles\n",
    " - `*`, which multiplies two integers/doubles\n",
    " - `/`, which divides two integers/doubles. the result of dividing by two integers is that the result gets rounded towards 0, (`-10/3 = -3`, `10/3 = 3`)\n",
    " - `%`, which gets the remainder of division by two integers/doubles (e.g. `10%3 = 1`, `8%2 = 0`)"
   ]
  },
  {
   "cell_type": "markdown",
   "metadata": {
    "slideshow": {
     "slide_type": "subslide"
    },
    "tags": []
   },
   "source": [
    "There are some edge cases as well..."
   ]
  },
  {
   "cell_type": "code",
   "execution_count": 31,
   "metadata": {
    "vscode": {
     "languageId": "java"
    }
   },
   "outputs": [
    {
     "ename": "EvalException",
     "evalue": "/ by zero",
     "output_type": "error",
     "traceback": [
      "\u001b[1m\u001b[31m---------------------------------------------------------------------------\u001b[0m",
      "\u001b[1m\u001b[31mjava.lang.ArithmeticException: / by zero\u001b[0m",
      "\u001b[1m\u001b[31m\tat .(#38:1)\u001b[0m"
     ]
    }
   ],
   "source": [
    "int x = 1/0; // will error"
   ]
  },
  {
   "cell_type": "code",
   "execution_count": 32,
   "metadata": {
    "vscode": {
     "languageId": "java"
    }
   },
   "outputs": [
    {
     "ename": "EvalException",
     "evalue": "/ by zero",
     "output_type": "error",
     "traceback": [
      "\u001b[1m\u001b[31m---------------------------------------------------------------------------\u001b[0m",
      "\u001b[1m\u001b[31mjava.lang.ArithmeticException: / by zero\u001b[0m",
      "\u001b[1m\u001b[31m\tat .(#65:1)\u001b[0m"
     ]
    }
   ],
   "source": [
    "int y = 1%0; // will error"
   ]
  },
  {
   "cell_type": "code",
   "execution_count": 33,
   "metadata": {
    "vscode": {
     "languageId": "java"
    }
   },
   "outputs": [
    {
     "name": "stdout",
     "output_type": "stream",
     "text": [
      "Infinity\n",
      "-Infinity\n",
      "NaN\n"
     ]
    }
   ],
   "source": [
    "System.out.println(1.0/0.0); // inf\n",
    "System.out.println(-1.0/0.0); // -inf\n",
    "System.out.println(0.0/0.0); // NaN, or \"not a number\""
   ]
  },
  {
   "cell_type": "markdown",
   "metadata": {
    "slideshow": {
     "slide_type": "subslide"
    },
    "tags": []
   },
   "source": [
    "For logic operators, there are \n",
    " - `&&`(and), which checks if two booleans are both true\n",
    " - `||`(or), which checks either of two booleans are true\n",
    " - `!`(not), which negates the value of the boolean\n",
    "\n",
    "\n",
    "For comparison operators, there are\n",
    " - `==`, which checks if two things are equal (2 =s because 1 = is for assigning)\n",
    " - `!=`, which checks if two things aren't equal\n",
    " - `<`, `<=`, which checks if the first integer/double is less than (or equal to) the second\n",
    " - `>`, `>=`, which checks if the first integer/double is greater than (or equal to) the second"
   ]
  },
  {
   "cell_type": "code",
   "execution_count": 34,
   "metadata": {
    "slideshow": {
     "slide_type": "subslide"
    },
    "tags": [],
    "vscode": {
     "languageId": "java"
    }
   },
   "outputs": [
    {
     "name": "stdout",
     "output_type": "stream",
     "text": [
      "true\n",
      "false\n",
      "false\n",
      "true\n"
     ]
    }
   ],
   "source": [
    "System.out.println(true && true);   // T\n",
    "System.out.println(true && false);  // F\n",
    "\n",
    "System.out.println(false || false); // F\n",
    "System.out.println(true || false);  // T"
   ]
  },
  {
   "cell_type": "code",
   "execution_count": 35,
   "metadata": {
    "vscode": {
     "languageId": "java"
    }
   },
   "outputs": [
    {
     "name": "stdout",
     "output_type": "stream",
     "text": [
      "true\n",
      "true\n"
     ]
    }
   ],
   "source": [
    "System.out.println(1 != 2);\n",
    "System.out.println(1 == 1); "
   ]
  },
  {
   "cell_type": "markdown",
   "metadata": {
    "slideshow": {
     "slide_type": "subslide"
    },
    "tags": []
   },
   "source": [
    "### Do-While loops\n",
    "\n",
    "do while loops work similarly to while loops, except the action is done at before the condition check (meaning it happens at least once)\n",
    "\n",
    "this is reflected in the condition coming after the actions"
   ]
  },
  {
   "cell_type": "code",
   "execution_count": 36,
   "metadata": {
    "tags": [],
    "vscode": {
     "languageId": "java"
    }
   },
   "outputs": [
    {
     "name": "stdout",
     "output_type": "stream",
     "text": [
      "aeiou\n"
     ]
    }
   ],
   "source": [
    "do {\n",
    "    System.out.println(\"aeiou\"); // action\n",
    "} while (false); // condition (note semicolon at end)"
   ]
  },
  {
   "cell_type": "markdown",
   "metadata": {
    "slideshow": {
     "slide_type": "subslide"
    },
    "tags": []
   },
   "source": [
    "Or if you prefer more graphic depictions...\n",
    "\n",
    "![img](https://i.imgur.com/Cs6SSoi.png)"
   ]
  },
  {
   "cell_type": "markdown",
   "metadata": {
    "slideshow": {
     "slide_type": "subslide"
    },
    "tags": []
   },
   "source": [
    "### Arrays (more detail)\n",
    "\n",
    "you've already seen arrays being defined as \n",
    "```java\n",
    "String[] xs = {\"a\", \"b\", \"c\"};\n",
    "```\n",
    "where a list of values are provided. \n",
    "\n",
    "You can also create arrays by providing a length, where an \"empty\" array with that length will be created"
   ]
  },
  {
   "cell_type": "code",
   "execution_count": 37,
   "metadata": {
    "vscode": {
     "languageId": "java"
    }
   },
   "outputs": [
    {
     "name": "stdout",
     "output_type": "stream",
     "text": [
      "0\n",
      "0\n"
     ]
    }
   ],
   "source": [
    "int[] xs = new int[5];\n",
    "System.out.println(xs[0]); // will print 0\n",
    "System.out.println(xs[4]); // default value"
   ]
  },
  {
   "cell_type": "markdown",
   "metadata": {
    "slideshow": {
     "slide_type": "subslide"
    },
    "tags": []
   },
   "source": [
    "You can also define arrays of arrays using both methods by using additional pairs of brackets:"
   ]
  },
  {
   "cell_type": "code",
   "execution_count": 38,
   "metadata": {
    "tags": [],
    "vscode": {
     "languageId": "java"
    }
   },
   "outputs": [
    {
     "name": "stdout",
     "output_type": "stream",
     "text": [
      "0.0\n",
      "true\n"
     ]
    }
   ],
   "source": [
    "double[][] ys = new double[5][5]; // 5 X 5 matrix (2d array)\n",
    "System.out.println(ys[0][0]); // will print 0\n",
    "boolean[][] zs = {{true, true}, {true, false}, {false, true}, {false, false}}; // 2d array of booleans\n",
    "System.out.println(zs[0][0]); // will print true"
   ]
  }
 ],
 "metadata": {
  "celltoolbar": "Slideshow",
  "kernelspec": {
   "display_name": "Java",
   "language": "java",
   "name": "java"
  },
  "language_info": {
   "codemirror_mode": "java",
   "file_extension": ".jshell",
   "mimetype": "text/x-java-source",
   "name": "Java",
   "pygments_lexer": "java",
   "version": "17.0.4.1+1"
  },
  "vscode": {
   "interpreter": {
    "hash": "b8a6d9b80dcf53dac0db88ee280fe003af7896d55209108fde44da72bfc602ee"
   }
  }
 },
 "nbformat": 4,
 "nbformat_minor": 4
}
